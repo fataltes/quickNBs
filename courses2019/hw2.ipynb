{
 "cells": [
  {
   "cell_type": "markdown",
   "metadata": {},
   "source": [
    "# HW2\n",
    "### Fatemeh Almodaresi (ID: 117000986)\n",
    "### Hamidreza Kazemi (ID: ???)\n",
    "\n",
    "\n",
    "-----------------------------------------"
   ]
  },
  {
   "cell_type": "markdown",
   "metadata": {},
   "source": [
    "# 1 -\n",
    "The degree distribution does not fit the Erdos-Reny network model because the real data does not always act like a random model. For example in many cases the degree distribution in a real network is actually following a powerlaw distribution model with a skewed tail."
   ]
  },
  {
   "cell_type": "code",
   "execution_count": 11,
   "metadata": {},
   "outputs": [],
   "source": [
    "%matplotlib inline\n",
    "import pandas as pd\n",
    "import numpy as np\n",
    "import matplotlib.pyplot as plt\n",
    "import random\n",
    "# import math\n",
    "# from decimal import Decimal"
   ]
  },
  {
   "cell_type": "code",
   "execution_count": 8,
   "metadata": {},
   "outputs": [],
   "source": [
    "root='/mnt/scratch1/fatemeh/courses/hw1/'"
   ]
  },
  {
   "cell_type": "code",
   "execution_count": 39,
   "metadata": {},
   "outputs": [],
   "source": [
    "adj = pd.read_csv(root+'genetic_interaction_amat.csv', sep=\",\")"
   ]
  },
  {
   "cell_type": "code",
   "execution_count": 40,
   "metadata": {},
   "outputs": [
    {
     "data": {
      "text/plain": [
       "2803"
      ]
     },
     "execution_count": 40,
     "metadata": {},
     "output_type": "execute_result"
    }
   ],
   "source": [
    "len(adj)"
   ]
  },
  {
   "cell_type": "code",
   "execution_count": 51,
   "metadata": {},
   "outputs": [
    {
     "data": {
      "text/plain": [
       "0"
      ]
     },
     "execution_count": 51,
     "metadata": {},
     "output_type": "execute_result"
    }
   ],
   "source": [
    "simAdj[0][0]"
   ]
  },
  {
   "cell_type": "code",
   "execution_count": 58,
   "metadata": {},
   "outputs": [
    {
     "data": {
      "text/plain": [
       "Text(0, 0.5, 'frequency')"
      ]
     },
     "execution_count": 58,
     "metadata": {},
     "output_type": "execute_result"
    },
    {
     "data": {
      "image/png": "[encoded data removed]",
      "text/plain": [
       "<Figure size 432x288 with 1 Axes>"
      ]
     },
     "metadata": {
      "needs_background": "light"
     },
     "output_type": "display_data"
    }
   ],
   "source": [
    "degrees = adj.sum(1)\n",
    "plt.hist(degrees, bins=50)\n",
    "plt.title(\"Histogram of degrees (50 bins)\")\n",
    "plt.xlabel(\"degree\")\n",
    "plt.ylabel(\"frequency\")\n",
    "# degreeDist = degrees.value_counts()\n",
    "# degreeDist = degreeDist.sort_index()\n",
    "# degreeDist = degreeDist/len(degrees)\n",
    "# ax = plt.gca()\n",
    "# plt.scatter(degreeDist.index+1, degreeDist.values)\n",
    "# ax.set_xscale('log')\n",
    "# ax.set_yscale('log')\n",
    "# plt.xlabel(\"degree (log)\")\n",
    "# plt.ylabel(\"frequency (log)\")\n",
    "# plt.title(\"degree distribution (log-log)\")"
   ]
  },
  {
   "cell_type": "markdown",
   "metadata": {},
   "source": [
    "## Network Initialization"
   ]
  },
  {
   "cell_type": "code",
   "execution_count": 97,
   "metadata": {},
   "outputs": [],
   "source": [
    "def initialize(m0 = 5, k = 5, m = 30, n = len(adj)):\n",
    "    simAdj = [[0 for i in range(n)] for j in range(n)]\n",
    "    # Target nodes for new edges \n",
    "    nodes=list(range(m0)) \n",
    "\n",
    "    repeated_nodes=[] \n",
    "    edgeCntr = 0\n",
    "    # pure random initialization of the graph with m0 nodes and k edges\n",
    "    # first guarantee that each node has at least one edge connected to it\n",
    "    for i in range(m0):\n",
    "        src = i\n",
    "        while 1:\n",
    "            dest = random.sample(range(m0), 1)[0]\n",
    "            if src > dest:\n",
    "                src,dest=dest,src\n",
    "            if src != dest and simAdj[src][dest] == 0:\n",
    "                break\n",
    "        simAdj[src][dest] = 1\n",
    "        edgeCntr+=1\n",
    "        repeated_nodes += [src]\n",
    "        repeated_nodes += [dest]\n",
    "\n",
    "    print('At this point we guarantee that each node has at least one edge connected to it')\n",
    "    # then create the rest of the random edges for the inital graph    \n",
    "    while edgeCntr < k:\n",
    "        randEdge = random.sample(range(m0*m0), k-edgeCntr)\n",
    "        for e in randEdge:\n",
    "            i = int(e/m0)\n",
    "            j = int(e%m0)\n",
    "            if i > j:\n",
    "                i,j=j,i\n",
    "            if i != j and simAdj[i][j] == 0:\n",
    "                simAdj[i][j] = 1\n",
    "                repeated_nodes += [i]\n",
    "                repeated_nodes += [j]\n",
    "                edgeCntr += 1\n",
    "    print('Random graph initialization done')\n",
    "    return simAdj, repeated_nodes"
   ]
  },
  {
   "cell_type": "markdown",
   "metadata": {},
   "source": [
    "## 1 - Barabasi-Albert Model"
   ]
  },
  {
   "cell_type": "code",
   "execution_count": 98,
   "metadata": {
    "scrolled": true
   },
   "outputs": [
    {
     "name": "stdout",
     "output_type": "stream",
     "text": [
      "At this point we guarantee that each node has at least one edge connected to it\n",
      "Random graph initialization done\n",
      "2803\r"
     ]
    }
   ],
   "source": [
    "# List of existing nodes, with nodes repeated once for each adjacent edge \n",
    "# Start adding the other n-m nodes. The first node is m. \n",
    "n = len(adj)\n",
    "m0 = 100\n",
    "k = 200\n",
    "m = 15\n",
    "simAdj, repeated_nodes = initialize(m0, k, m)\n",
    "newNode=m0\n",
    "while newNode<n: \n",
    "    cntr = 0\n",
    "    while cntr < m:\n",
    "        dests = random.sample(repeated_nodes, m)\n",
    "#         print(dests)\n",
    "        for d in dests:\n",
    "            src = newNode\n",
    "            dest = d\n",
    "            if src > dest:\n",
    "                src,dest=dest,src\n",
    "            if src != dest and simAdj[src][dest] != 1:\n",
    "                simAdj[src][dest] = 1\n",
    "                repeated_nodes += [src]\n",
    "                repeated_nodes += [dest]\n",
    "                cntr+=1\n",
    "    newNode+=1\n",
    "    print(newNode, end=\"\\r\")"
   ]
  },
  {
   "cell_type": "markdown",
   "metadata": {},
   "source": [
    "## 2 - degree distribution"
   ]
  },
  {
   "cell_type": "code",
   "execution_count": 99,
   "metadata": {},
   "outputs": [],
   "source": [
    "for i in range(len(simAdj)):\n",
    "    for j in range(i+1, len(simAdj)):\n",
    "        simAdj[j][i] = simAdj[i][j]\n",
    "simAdj_df = pd.DataFrame.from_records(simAdj)"
   ]
  },
  {
   "cell_type": "code",
   "execution_count": 100,
   "metadata": {},
   "outputs": [
    {
     "data": {
      "text/plain": [
       "Text(0, 0.5, 'frequency')"
      ]
     },
     "execution_count": 100,
     "metadata": {},
     "output_type": "execute_result"
    },
    {
     "data": {
      "image/png": "[encoded data removed]",
      "text/plain": [
       "<Figure size 432x288 with 1 Axes>"
      ]
     },
     "metadata": {
      "needs_background": "light"
     },
     "output_type": "display_data"
    }
   ],
   "source": [
    "degrees = simAdj_df.sum(1)\n",
    "plt.hist(degrees, bins=50)\n",
    "plt.title(\"Histogram of degrees (50 bins)\")\n",
    "plt.xlabel(\"degree\")\n",
    "plt.ylabel(\"frequency\")\n",
    "# degreeDist = degrees.value_counts()\n",
    "# degreeDist = degreeDist.sort_index()\n",
    "# degreeDist = degreeDist/len(degrees)\n",
    "# ax = plt.gca()\n",
    "# plt.scatter(degreeDist.index+1, degreeDist.values)\n",
    "# ax.set_xscale('log')\n",
    "# ax.set_yscale('log')\n",
    "# plt.xlabel(\"degree (log)\")\n",
    "# plt.ylabel(\"frequency (log)\")\n",
    "# plt.title(\"degree distribution (log-log)\")"
   ]
  },
  {
   "cell_type": "markdown",
   "metadata": {},
   "source": [
    "## 3 - duplication model"
   ]
  },
  {
   "cell_type": "code",
   "execution_count": 105,
   "metadata": {},
   "outputs": [
    {
     "name": "stdout",
     "output_type": "stream",
     "text": [
      "At this point we guarantee that each node has at least one edge connected to it\n",
      "Random graph initialization done\n",
      "2803\r"
     ]
    }
   ],
   "source": [
    "p = 0.7\n",
    "r = 1\n",
    "n = len(adj)\n",
    "m0 = 10\n",
    "k = 20\n",
    "simAdj, repeated_nodes = initialize(m0, k)\n",
    "newNode=m0\n",
    "while newNode<n: \n",
    "    cntr = 0\n",
    "    node = random.sample(range(newNode-1), 1)[0]\n",
    "\n",
    "#         print(dests)\n",
    "    for i in range(n):\n",
    "        if simAdj[node][i] == 1 and np.random.rand() > p: # with probability p remove the edge (or don't add it!)\n",
    "            simAdj[newNode][i] = 1\n",
    "        if simAdj[i][node] == 1 and np.random.rand() > p:\n",
    "            simAdj[i][newNode] = 1\n",
    "    for i in range(node+1, n):\n",
    "        if simAdj[node][i] == 0:\n",
    "            if np.random.rand() < r/newNode:\n",
    "                simAdj[node][i] = 1\n",
    "    for i in range(node-1):\n",
    "        if simAdj[i][node] == 0:\n",
    "            if np.random.rand() < r/newNode:\n",
    "                simAdj[i][node] = 1\n",
    "    newNode+=1\n",
    "    print(newNode, end=\"\\r\")"
   ]
  },
  {
   "cell_type": "code",
   "execution_count": 102,
   "metadata": {},
   "outputs": [
    {
     "data": {
      "text/plain": [
       "Text(0, 0.5, 'frequency')"
      ]
     },
     "execution_count": 102,
     "metadata": {},
     "output_type": "execute_result"
    },
    {
     "data": {
      "image/png": "[encoded data removed]",
      "text/plain": [
       "<Figure size 432x288 with 1 Axes>"
      ]
     },
     "metadata": {
      "needs_background": "light"
     },
     "output_type": "display_data"
    }
   ],
   "source": [
    "degrees = simAdj_df.sum(1)\n",
    "plt.hist(degrees, bins=50)\n",
    "plt.title(\"Histogram of degrees (50 bins)\")\n",
    "plt.xlabel(\"degree\")\n",
    "plt.ylabel(\"frequency\")\n",
    "# degreeDist = degrees.value_counts()\n",
    "# degreeDist = degreeDist.sort_index()\n",
    "# degreeDist = degreeDist/len(degrees)\n",
    "# ax = plt.gca()\n",
    "# plt.scatter(degreeDist.index+1, degreeDist.values)\n",
    "# ax.set_xscale('log')\n",
    "# ax.set_yscale('log')\n",
    "# plt.xlabel(\"degree (log)\")\n",
    "# plt.ylabel(\"frequency (log)\")\n",
    "# plt.title(\"degree distribution (log-log)\")"
   ]
  }
 ],
 "metadata": {
  "kernelspec": {
   "display_name": "Python 3",
   "language": "python",
   "name": "python3"
  },
  "language_info": {
   "codemirror_mode": {
    "name": "ipython",
    "version": 3
   },
   "file_extension": ".py",
   "mimetype": "text/x-python",
   "name": "python",
   "nbconvert_exporter": "python",
   "pygments_lexer": "ipython3",
   "version": "3.7.4"
  }
 },
 "nbformat": 4,
 "nbformat_minor": 2
}
