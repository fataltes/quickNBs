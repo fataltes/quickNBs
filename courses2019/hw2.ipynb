{
 "cells": [
  {
   "cell_type": "markdown",
   "metadata": {},
   "source": [
    "# HW2\n",
    "### Fatemeh Almodaresi (ID: 117000986)\n",
    "### Hamidreza Kazemi (ID: 116162883\n",
    "\n",
    "\n",
    "-----------------------------------------"
   ]
  },
  {
   "cell_type": "markdown",
   "metadata": {},
   "source": [
    "# 1 -\n",
    "The degree distribution does not fit the Erdos-Reny network model because the real data does not always act like a random model. For example in many cases the degree distribution in a real network is actually following a powerlaw distribution model with a skewed tail. Here is a plot from a graph with same edge and node size as our graph which its degrees are from Erdos Renyi distribution.As we can see it is not a good simulation for our degree distributions.(The picture which is in the homework2 pdf)"
   ]
  },
  {
   "cell_type": "code",
   "execution_count": 3,
   "metadata": {},
   "outputs": [
    {
     "data": {
      "image/png": "[encoded data removed]",
      "text/plain": [
       "<Figure size 432x288 with 1 Axes>"
      ]
     },
     "metadata": {
      "needs_background": "light"
     },
     "output_type": "display_data"
    }
   ],
   "source": [
    "import numpy as np\n",
    "import igraph as ig\n",
    "from matplotlib import pyplot as plt\n",
    "from scipy.special import zeta\n",
    "from tqdm import tqdm\n",
    "\n",
    "\n",
    "class Graph(object):\n",
    "    def __init__(self, adj):\n",
    "        self.adj = adj\n",
    "        arr = self.get_sorted_degrees()\n",
    "        arr = arr[arr > 0]\n",
    "        self.sorted = arr\n",
    "\n",
    "    @property\n",
    "    def vertices_num(self):\n",
    "        return len(self.adj)\n",
    "\n",
    "    @property\n",
    "    def edges_num(self):\n",
    "        return int(np.sum(self.adj) / 2)\n",
    "\n",
    "    def get_degrees(self):\n",
    "        arr = np.sum(self.adj, axis=0)\n",
    "        return arr\n",
    "\n",
    "    def get_deg_sum(self):\n",
    "        return self.edges_num * 2\n",
    "\n",
    "    def get_sorted_degrees(self):\n",
    "        return np.sort(self.get_degrees(), axis=0)\n",
    "\n",
    "    def get_s(self, xmin_arr, x):\n",
    "        s_arr = xmin_arr[xmin_arr <= x]\n",
    "        if len(xmin_arr) == 0:\n",
    "            return 1\n",
    "        return len(s_arr) / (len(xmin_arr))\n",
    "\n",
    "    def get_p(self, xmin, xmin_arr, x):\n",
    "        z1 = zeta(self.get_alpha_by(xmin, xmin_arr), x)\n",
    "        z2 = zeta(self.get_alpha_by(xmin, xmin_arr), xmin)\n",
    "        ret = 1 - z1 / z2\n",
    "        return ret\n",
    "\n",
    "    def get_d(self, xmin):\n",
    "        arr = self.sorted\n",
    "        xmin_arr = arr[arr > xmin]\n",
    "        return_arr = [abs(self.get_s(xmin_arr, i) - self.get_p(xmin, xmin_arr, i)) for i in xmin_arr]\n",
    "        return max(return_arr)\n",
    "\n",
    "    def get_min_d(self, return_ds=False):\n",
    "        arr = self.sorted\n",
    "        d_max = np.array([self.get_d(i) for i in tqdm(arr) if i != arr[-1]])\n",
    "        if return_ds:\n",
    "            return min(d_max), d_max\n",
    "        return min(d_max)\n",
    "\n",
    "    def plot(self):\n",
    "        x = self.sorted\n",
    "        _, y = self.get_min_d(return_ds=True)\n",
    "        y = y[:-1]\n",
    "        index = y.argmin()\n",
    "        xmin = x[index]\n",
    "        alpha = self.get_alpha_by(xmin=xmin, xmin_arr=x[x > xmin])\n",
    "        print('xmin is ', xmin)\n",
    "        print('Alpha is ', alpha)\n",
    "        plt.cla()\n",
    "        plt.clf()\n",
    "        x = x[:len(y)]\n",
    "        plt.plot(x, y)\n",
    "        plt.savefig('plot1.pdf')\n",
    "\n",
    "    def get_alpha_by(self, xmin, xmin_arr):\n",
    "        if len(xmin_arr) == 0:\n",
    "            return 1\n",
    "        numerator = len(xmin_arr)\n",
    "        denominator = np.log(xmin_arr / (xmin - 0.5)).sum()\n",
    "        return numerator / denominator + 1\n",
    "\n",
    "\n",
    "# FIRST PART ********************************************************\n",
    "data = np.genfromtxt('genetic_interaction_amat.csv', delimiter=',')\n",
    "data = np.delete(data, 0, 0)\n",
    "g = Graph(data)\n",
    "\n",
    "erg = ig.Graph.Erdos_Renyi(n=g.vertices_num, m=g.edges_num)  # ErdosRenyi graph\n",
    "erg_deg = np.array(erg.degree())\n",
    "erg_size = g.vertices_num\n",
    "x, y = np.unique(erg_deg, return_counts=True)\n",
    "x = x / erg_size\n",
    "plot = plt.loglog(x, y)  # this is ErdosRenyi plot\n",
    "plt.title('Erdos Renyi loglog plot')\n",
    "plt.xlabel('k')\n",
    "plt.ylabel('p(k)')\n",
    "plt.savefig('erdosRenyi.pdf')\n"
   ]
  },
  {
   "cell_type": "markdown",
   "metadata": {},
   "source": [
    "here is our code for creating plot for Image 4.24b of Barabasi book and it prints the value of estimated degree exponent. We followed the Barabasi's approach as it was explained in the book."
   ]
  },
  {
   "cell_type": "code",
   "execution_count": 2,
   "metadata": {},
   "outputs": [
    {
     "name": "stderr",
     "output_type": "stream",
     "text": [
      " 98%|█████████▊| 2736/2789 [05:41<00:00, 253.07it/s]/home/ben/.virtualenvs/default/lib/python3.7/site-packages/ipykernel_launcher.py:42: RuntimeWarning: invalid value encountered in double_scalars\n",
      "100%|██████████| 2789/2789 [05:41<00:00,  8.17it/s] \n"
     ]
    },
    {
     "name": "stdout",
     "output_type": "stream",
     "text": [
      "xmin is  28.0\n",
      "Alpha is  2.5909963781528234\n",
      "--Return--\n",
      "> <ipython-input-1-a7de39fad2a4>(73)plot()->None\n",
      "-> pdb.set_trace()\n",
      "(Pdb) c\n"
     ]
    },
    {
     "data": {
      "image/png": "[encoded data removed]",
      "text/plain": [
       "<Figure size 432x288 with 1 Axes>"
      ]
     },
     "metadata": {
      "needs_background": "light"
     },
     "output_type": "display_data"
    }
   ],
   "source": [
    "g.plot()"
   ]
  },
  {
   "cell_type": "markdown",
   "metadata": {},
   "source": [
    "The result estimated degree exponent is 2.5909963781528234 and the result xmin is 28."
   ]
  },
  {
   "cell_type": "code",
   "execution_count": 11,
   "metadata": {},
   "outputs": [],
   "source": [
    "%matplotlib inline\n",
    "import pandas as pd\n",
    "import numpy as np\n",
    "import matplotlib.pyplot as plt\n",
    "import random\n",
    "# import math\n",
    "# from decimal import Decimal"
   ]
  },
  {
   "cell_type": "code",
   "execution_count": 136,
   "metadata": {},
   "outputs": [],
   "source": [
    "from scipy.stats import ks_2samp"
   ]
  },
  {
   "cell_type": "code",
   "execution_count": 8,
   "metadata": {},
   "outputs": [],
   "source": [
    "root='/mnt/scratch1/fatemeh/courses/hw1/'"
   ]
  },
  {
   "cell_type": "code",
   "execution_count": 39,
   "metadata": {},
   "outputs": [],
   "source": [
    "adj = pd.read_csv(root+'genetic_interaction_amat.csv', sep=\",\")"
   ]
  },
  {
   "cell_type": "code",
   "execution_count": 40,
   "metadata": {},
   "outputs": [
    {
     "data": {
      "text/plain": [
       "2803"
      ]
     },
     "execution_count": 40,
     "metadata": {},
     "output_type": "execute_result"
    }
   ],
   "source": [
    "len(adj)"
   ]
  },
  {
   "cell_type": "markdown",
   "metadata": {},
   "source": [
    "# 2 - "
   ]
  },
  {
   "cell_type": "code",
   "execution_count": null,
   "metadata": {},
   "outputs": [],
   "source": []
  },
  {
   "cell_type": "markdown",
   "metadata": {},
   "source": [
    "# Network Evolution Model"
   ]
  },
  {
   "cell_type": "markdown",
   "metadata": {},
   "source": [
    "## prerequisites"
   ]
  },
  {
   "cell_type": "markdown",
   "metadata": {},
   "source": [
    "#### 1. Initialize the network"
   ]
  },
  {
   "cell_type": "code",
   "execution_count": 223,
   "metadata": {},
   "outputs": [],
   "source": [
    "def initialize(m0 = 5, k = 5, m = 30, n = len(adj)):\n",
    "    simAdj = [[0 for i in range(n)] for j in range(n)]\n",
    "    # Target nodes for new edges \n",
    "    nodes=list(range(m0)) \n",
    "\n",
    "    repeated_nodes=[] \n",
    "    edgeCntr = 0\n",
    "    # pure random initialization of the graph with m0 nodes and k edges\n",
    "    # first guarantee that each node has at least one edge connected to it\n",
    "    for i in range(m0):\n",
    "        if np.sum(simAdj, axis=0)[i] == 0 and np.sum(simAdj, axis=1)[i] == 0:\n",
    "            src = i\n",
    "            while 1:\n",
    "                dest = random.sample(range(m0), 1)[0]\n",
    "                if src > dest:\n",
    "                    src,dest=dest,src\n",
    "                if src != dest and simAdj[src][dest] == 0:\n",
    "                    break\n",
    "            simAdj[src][dest] = 1\n",
    "            edgeCntr+=1\n",
    "            repeated_nodes += [src]\n",
    "            repeated_nodes += [dest]\n",
    "\n",
    "    print('At this point we guarantee that each node has at least one edge connected to it')\n",
    "    # then create the rest of the random edges for the inital graph    \n",
    "    while edgeCntr < k:\n",
    "        randEdge = random.sample(range(m0*m0), k-edgeCntr)\n",
    "        for e in randEdge:\n",
    "            i = int(e/m0)\n",
    "            j = int(e%m0)\n",
    "            if i > j:\n",
    "                i,j=j,i\n",
    "            if i != j and simAdj[i][j] == 0:\n",
    "                simAdj[i][j] = 1\n",
    "                repeated_nodes += [i]\n",
    "                repeated_nodes += [j]\n",
    "                edgeCntr += 1\n",
    "    print('Random graph initialization done')\n",
    "    return simAdj, repeated_nodes"
   ]
  },
  {
   "cell_type": "markdown",
   "metadata": {},
   "source": [
    "#### 2. make the adjacency matrix symetric and convert it to a dataframe"
   ]
  },
  {
   "cell_type": "code",
   "execution_count": 108,
   "metadata": {},
   "outputs": [],
   "source": [
    "def convert2AdjDF(halfAdj):\n",
    "    for i in range(len(halfAdj)):\n",
    "        for j in range(i+1, len(halfAdj)):\n",
    "            halfAdj[j][i] = halfAdj[i][j]\n",
    "    return pd.DataFrame.from_records(halfAdj)"
   ]
  },
  {
   "cell_type": "markdown",
   "metadata": {},
   "source": [
    "#### 3. get Degree Distribution"
   ]
  },
  {
   "cell_type": "code",
   "execution_count": 130,
   "metadata": {},
   "outputs": [],
   "source": [
    "def getDegDist(adjMat):\n",
    "    degrees = adjMat.sum(1)\n",
    "    degreeDist = degrees.value_counts()\n",
    "    degreeDist = degreeDist.sort_index()\n",
    "    return degreeDist/len(degrees)"
   ]
  },
  {
   "cell_type": "markdown",
   "metadata": {},
   "source": [
    "## Barabasi-Albert Model"
   ]
  },
  {
   "cell_type": "markdown",
   "metadata": {},
   "source": [
    "To find the best fit for BA model to the observed data, first calculate the average degree of the observed data and later set parameters m and k and m0 accordingly"
   ]
  },
  {
   "cell_type": "code",
   "execution_count": 256,
   "metadata": {},
   "outputs": [
    {
     "data": {
      "text/plain": [
       "23.998572957545488"
      ]
     },
     "execution_count": 256,
     "metadata": {},
     "output_type": "execute_result"
    }
   ],
   "source": [
    "degrees = adj.sum(1)\n",
    "degrees.mean()"
   ]
  },
  {
   "cell_type": "markdown",
   "metadata": {},
   "source": [
    "Choose m to be *24* and start with m0 = 24 at least and set k = 2 * 24"
   ]
  },
  {
   "cell_type": "code",
   "execution_count": 264,
   "metadata": {
    "scrolled": true
   },
   "outputs": [
    {
     "name": "stdout",
     "output_type": "stream",
     "text": [
      "At this point we guarantee that each node has at least one edge connected to it\n",
      "Random graph initialization done\n",
      "2803\r"
     ]
    }
   ],
   "source": [
    "# List of existing nodes, with nodes repeated once for each adjacent edge \n",
    "# Start adding the other n-m nodes. The first node is m. \n",
    "n = len(adj)\n",
    "m0 = 24\n",
    "k = 48\n",
    "m = 24\n",
    "ba_adj, repeated_nodes = initialize(m0, k, m)\n",
    "newNode=m0\n",
    "while newNode<n: \n",
    "    cntr = 0\n",
    "    while cntr < m:\n",
    "        dests = random.sample(repeated_nodes, m)\n",
    "#         print(dests)\n",
    "        for d in dests:\n",
    "            src = newNode\n",
    "            dest = d\n",
    "            if src > dest:\n",
    "                src,dest=dest,src\n",
    "            if src != dest and ba_adj[src][dest] != 1:\n",
    "                ba_adj[src][dest] = 1\n",
    "                repeated_nodes += [src]\n",
    "                repeated_nodes += [dest]\n",
    "                cntr+=1\n",
    "    newNode+=1\n",
    "    print(newNode, end=\"\\r\")\n",
    "ba_adj_df = convert2AdjDF(ba_adj)"
   ]
  },
  {
   "cell_type": "markdown",
   "metadata": {},
   "source": [
    "## duplication model"
   ]
  },
  {
   "cell_type": "code",
   "execution_count": 250,
   "metadata": {},
   "outputs": [
    {
     "name": "stdout",
     "output_type": "stream",
     "text": [
      "At this point we guarantee that each node has at least one edge connected to it\n",
      "Random graph initialization done\n",
      "2803\r"
     ]
    }
   ],
   "source": [
    "p = 0.44\n",
    "r = 0.10\n",
    "n = len(adj)\n",
    "m0 = 2\n",
    "k = 1\n",
    "genDup, repeated_nodes = initialize(m0, k)\n",
    "newNode=m0\n",
    "while newNode<n: \n",
    "    cntr = 0\n",
    "    node = random.sample(range(newNode-1), 1)[0]\n",
    "\n",
    "#         print(dests)\n",
    "    for i in range(n):\n",
    "        if genDup[node][i] == 1 and np.random.rand() > p: # with probability p remove the edge (or don't add it!)\n",
    "            genDup[newNode][i] = 1\n",
    "        if genDup[i][node] == 1 and np.random.rand() > p:\n",
    "            genDup[i][newNode] = 1\n",
    "    for i in range(node+1, n):\n",
    "        if genDup[node][i] == 0:\n",
    "            if np.random.rand() < r/newNode:\n",
    "                genDup[node][i] = 1\n",
    "    for i in range(node-1):\n",
    "        if genDup[i][node] == 0:\n",
    "            if np.random.rand() < r/newNode:\n",
    "                genDup[i][node] = 1\n",
    "    newNode+=1\n",
    "    print(newNode, end=\"\\r\")\n",
    "genDup_adj_df = convert2AdjDF(genDup)"
   ]
  },
  {
   "cell_type": "markdown",
   "metadata": {},
   "source": [
    "## Degree Distribution Comparison"
   ]
  },
  {
   "cell_type": "markdown",
   "metadata": {},
   "source": [
    "##### Qualitatively"
   ]
  },
  {
   "cell_type": "code",
   "execution_count": 265,
   "metadata": {},
   "outputs": [
    {
     "data": {
      "text/plain": [
       "Text(0.5, 1.0, 'degree distribution (log-log)')"
      ]
     },
     "execution_count": 265,
     "metadata": {},
     "output_type": "execute_result"
    },
    {
     "data": {
      "image/png": "[encoded data removed]",
      "text/plain": [
       "<Figure size 432x288 with 1 Axes>"
      ]
     },
     "metadata": {
      "needs_background": "light"
     },
     "output_type": "display_data"
    }
   ],
   "source": [
    "ax = plt.gca()\n",
    "\n",
    "expDegreeDist = getDegDist(adj)\n",
    "ax.loglog(expDegreeDist.index+1, expDegreeDist.values,marker = 'o', linewidth = 0, markersize = 4, label=\"Real Data\")\n",
    "\n",
    "baDegreeDist = getDegDist(ba_adj_df)\n",
    "ax.loglog(baDegreeDist.index+1, baDegreeDist.values,marker = 'o', linewidth = 0, markersize = 4, label=\"Barabasi-Albert\")\n",
    "\n",
    "gdDegreeDist = getDegDist(genDup_adj_df)\n",
    "ax.loglog(gdDegreeDist.index+1, gdDegreeDist.values,marker = 'o', linewidth = 0, markersize = 4, label=\"Gene Duplication\")\n",
    "\n",
    "ax.legend()\n",
    "plt.xlabel(\"degree (log)\")\n",
    "plt.ylabel(\"frequency (log)\")\n",
    "plt.title(\"degree distribution (log-log)\")"
   ]
  },
  {
   "cell_type": "markdown",
   "metadata": {},
   "source": [
    "#### Quantitatively\n",
    "##### Using Kolmogorov-Smirnov test\n",
    "\n",
    "If we see enough evidence we reject the hypothesis that the two distributions are the same (null hypothesis),\n",
    "Otherwise, we just can say that we didn't find enough evidence to reject the fact that the data on both model and real samples came from the same distribution\n",
    "\n",
    "1. If ks stat value is small that means that the peak difference between the CDF of the two distributions is small\n",
    "2. If the p-value is high, that means that we cannot rely on the ks stat val.\n",
    "\n",
    "Combining these two points, we cannot reject the null hypothesis of the two distributions being the same if the ks stat value is too small or the p-value is too large.\n",
    "\n",
    "To be more concrete:\n",
    "    \n",
    "    \n",
    "    If the two samples were randomly sampled from identical populations, what is the probability that the two cumulative frequency distributions would be as far apart as observed?\n",
    "    \n",
    "    More precisely, what is the chance that the value of the Komogorov-Smirnov D statistic would be as large or larger than observed?\n",
    "    \n",
    "    If the P value is small, conclude that the two groups were sampled from populations with different distributions. The populations may differ in median, variability or the shape of the distribution."
   ]
  },
  {
   "cell_type": "code",
   "execution_count": 266,
   "metadata": {},
   "outputs": [
    {
     "name": "stdout",
     "output_type": "stream",
     "text": [
      "The ks stat and p-value for each model for the degree distribution compared to the real data\n",
      "1. Barabasi-Albert model: 0.157, 1.59e-02\n",
      "2. Gene Duplication model: 0.07, 7.73e-01\n"
     ]
    }
   ],
   "source": [
    "ba_d, ba_pval = ks_2samp(expDegreeDist, baDegreeDist)\n",
    "gd_d, gd_pval = ks_2samp(expDegreeDist, gdDegreeDist)\n",
    "print('The ks stat and p-value for each model for the degree distribution compared to the real data')\n",
    "print('1. Barabasi-Albert model: {0:1.3g}, {1:1.2e}'.\n",
    "     format(round(ba_d, 3), ba_pval))\n",
    "print('2. Gene Duplication model: {0:1.3g}, {1:1.2e}'.\n",
    "     format(round(gd_d, 3) , gd_pval))"
   ]
  },
  {
   "cell_type": "markdown",
   "metadata": {},
   "source": [
    "Considering those, using a trial and error process, we can find r and p values that make the model's degree distribution both visually and statistically close to the real data degree distribution.\n",
    "\n",
    "For Barabasi-Albert model how ever, although there is a solution to best fit the model to the experimental data (choose k = 2m and m being the average degree of the observed network), yet, the KS test is rejected both by D and p-value and the plot also shows the difference of the distributions in \"smaller degree\" frequencies.\n",
    "\n",
    "\n",
    "Both of the quantitative and qualitative trials show that the gene duplication model is a better fit to the real data"
   ]
  },
  {
   "cell_type": "markdown",
   "metadata": {},
   "source": [
    "# Which one from image 6.15 may fit the best?"
   ]
  },
  {
   "cell_type": "markdown",
   "metadata": {},
   "source": [
    "The options are divided between basic BA model, and its extensions, node deletion, initial attractiveness, n internal links, accelerated growth, and aging.\n",
    "\n",
    "The main issue with basic BA model is that the model is not a good fit for low degree node distribution. Hence node deletion and accelerated growth models are definitely not gonna help this situation. They will only make the network grow faster with larger jumps or will just make the gamma larger which is again (if not diminishing the whole network) making the growth rate of degrees faster.\n",
    "\n",
    "Internal links is gonna make the BA network more homogenous and closer to the random networks as n increases and does not target the low degree edges specifically so this one is not a good option too.\n",
    "\n",
    "Initial attractiveness, as you can see in the last cell in our quick test, is gonna add a curve at the low degree section, but that ends in changing the frequency of all the degrees and not just for the lower degrees although this seems to be the closest shape we want.\n",
    "\n",
    "For the last extension, Aging, in the following lines we implemented the aging version of Barabasi-Albert with a small positive v which could improve the KS test results and also made the model visually a little bit closer to the real data degree distribution. We think it is not the model that can define this data, but among the options we have from different extensions of BA model (including no extensions) we think this model is the best choice."
   ]
  },
  {
   "cell_type": "markdown",
   "metadata": {},
   "source": [
    "#### Aging test"
   ]
  },
  {
   "cell_type": "code",
   "execution_count": 277,
   "metadata": {},
   "outputs": [
    {
     "name": "stdout",
     "output_type": "stream",
     "text": [
      "At this point we guarantee that each node has at least one edge connected to it\n",
      "Random graph initialization done\n",
      "2802\r"
     ]
    }
   ],
   "source": [
    "# List of existing nodes, with nodes repeated once for each adjacent edge \n",
    "# Start adding the other n-m nodes. The first node is m. \n",
    "n = len(adj)\n",
    "m0 = 24\n",
    "k = 48\n",
    "m = 24\n",
    "v = 0.2\n",
    "ba_adj, repeated_nodes = initialize(m0, k, m)\n",
    "newNode=m0\n",
    "for i in range(m, n):\n",
    "    degs=np.sum(ba_adj, axis=0)\n",
    "    for j in range(i):\n",
    "        degs[j] = degs[j]*((i - j)**(-v))\n",
    "    p_attach=degs/np.sum(degs)\n",
    "    ixs=np.random.choice(np.arange(i), p=p_attach[:i], size=m)\n",
    "    for j in ixs:\n",
    "        ba_adj[i][j] =1\n",
    "        ba_adj[j][i] =1\n",
    "    print(i, end=\"\\r\")\n",
    "\n",
    "ba_adj_df = convert2AdjDF(ba_adj)"
   ]
  },
  {
   "cell_type": "code",
   "execution_count": 279,
   "metadata": {},
   "outputs": [
    {
     "name": "stdout",
     "output_type": "stream",
     "text": [
      "The ks stat and p-value for each model for the degree distribution compared to the real data\n",
      "1. Barabasi-Albert model: 0.114, 2.28e-01\n"
     ]
    },
    {
     "data": {
      "image/png": "[encoded data removed]",
      "text/plain": [
       "<Figure size 432x288 with 1 Axes>"
      ]
     },
     "metadata": {
      "needs_background": "light"
     },
     "output_type": "display_data"
    }
   ],
   "source": [
    "ax = plt.gca()\n",
    "\n",
    "expDegreeDist = getDegDist(adj)\n",
    "ax.loglog(expDegreeDist.index+1, expDegreeDist.values,marker = 'o', linewidth = 0, markersize = 4, label=\"Real Data\")\n",
    "\n",
    "baDegreeDist = getDegDist(ba_adj_df)\n",
    "ax.loglog(baDegreeDist.index+1, baDegreeDist.values,marker = 'o', linewidth = 0, markersize = 4, label=\"Barabasi-Albert\")\n",
    "\n",
    "ax.legend()\n",
    "plt.xlabel(\"degree (log)\")\n",
    "plt.ylabel(\"frequency (log)\")\n",
    "plt.title(\"degree distribution (log-log)\")\n",
    "ba_d, ba_pval = ks_2samp(expDegreeDist, baDegreeDist)\n",
    "print('The ks stat and p-value for each model for the degree distribution compared to the real data')\n",
    "print('1. Barabasi-Albert model: {0:1.3g}, {1:1.2e}'.\n",
    "     format(round(ba_d, 3), ba_pval))"
   ]
  },
  {
   "cell_type": "markdown",
   "metadata": {},
   "source": [
    "#### Initial Attractiveness quick test"
   ]
  },
  {
   "cell_type": "code",
   "execution_count": 288,
   "metadata": {},
   "outputs": [
    {
     "data": {
      "text/plain": [
       "Text(0, 0.5, 'frequency (log)')"
      ]
     },
     "execution_count": 288,
     "metadata": {},
     "output_type": "execute_result"
    },
    {
     "data": {
      "image/png": "[encoded data removed]",
      "text/plain": [
       "<Figure size 432x288 with 1 Axes>"
      ]
     },
     "metadata": {
      "needs_background": "light"
     },
     "output_type": "display_data"
    }
   ],
   "source": [
    "x = []\n",
    "y = []\n",
    "z = []\n",
    "for i in range(1, 1000):\n",
    "    x += [i]\n",
    "    y += [(i)**-3]\n",
    "    z += [(20+i)**-3]\n",
    "ax = plt.gca()\n",
    "ax.loglog(x, y, label=\"basic powerlaw\")\n",
    "ax.loglog(x, z, label=\"Initial Attractiveness\")\n",
    "ax.legend()\n",
    "plt.xlabel(\"degree dist (log)\")\n",
    "plt.ylabel(\"frequency (log)\")"
   ]
  }
 ],
 "metadata": {
  "kernelspec": {
   "display_name": "Python 3",
   "language": "python",
   "name": "python3"
  },
  "language_info": {
   "codemirror_mode": {
    "name": "ipython",
    "version": 3
   },
   "file_extension": ".py",
   "mimetype": "text/x-python",
   "name": "python",
   "nbconvert_exporter": "python",
   "pygments_lexer": "ipython3",
   "version": "3.7.3"
  }
 },
 "nbformat": 4,
 "nbformat_minor": 2
}
