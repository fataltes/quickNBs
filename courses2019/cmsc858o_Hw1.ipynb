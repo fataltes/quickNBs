{
 "cells": [
  {
   "cell_type": "markdown",
   "metadata": {},
   "source": [
    "CMSC858o --- HW1 --- Succinct Data Structures and Operations\n",
    "========================================\n",
    "\n",
    "*Fatemeh Almodaresi , SID:<117000986>*\n"
   ]
  },
  {
   "cell_type": "code",
   "execution_count": 9,
   "metadata": {},
   "outputs": [],
   "source": [
    "%matplotlib inline\n",
    "import pandas as pd\n",
    "import numpy as np\n",
    "import matplotlib.pyplot as plt\n",
    "import math\n",
    "from decimal import Decimal"
   ]
  },
  {
   "cell_type": "markdown",
   "metadata": {},
   "source": [
    "# Introduction\n",
    "Succinct operations, specifically rank and select over bit-vectors are important in helping with time and space efficiency \n",
    "of memory and time critical softwares working with terabytes of data.\n",
    "They operate over a set of bits.For a bit-vector *bv* with size *bv.size*, *Rank1(idx)* for *0<=idx<bv.size*\n",
    "returns the number of *1*s until index `idx` inclusive and *Rank0(idx)* returns number of *0*s in the same range.\n",
    "Select operation can be counted as the inverse of rank where *select1(v)* for *1<=v<=Rank1(bv.size)* returns the index of the *v*th *1* in *bv*.\n",
    "To apply rank and select operations in a world with alphabets more than only *0* and *1*, one of the very popular\n",
    "and practical data structures are the Wavelet trees. Wavelet trees are binary perfectly balanced trees\n",
    "that index a text consisting of alphabet in set $\\sigma$ to a set of *0* and *1*s so that operations such as rank of the character *c*\n",
    "and select of character *c*, $c \\in \\sigma$, can be reduced to a bunch of bit-vector rank and select operations.\n",
    "\n",
    "\n",
    "In this homework, we were supposed to implement rank and select operations for an already existing bit-vector in tasks 1 and 2\n",
    "and later, use these operations in querying a wavelet tree data structure that we have constructed, stored to, and later loaded from the disk.\n",
    "\n",
    "All code has been implemented in C++14 and is available in the CMake-based project repository \"*https://github.com/fataltes/cmsc858_hw1.git*\".\n",
    "I have used a slightly modified version of the `compact bit-vector` package from \"*https://github.com/gmarcais/compact_vector.git*\" as the underlying bit-vector data structure.\n",
    "\n",
    "This report only contains the abstract overview of the implementation and the reports and plots.\n",
    "\n",
    "The installation process is the typical cmake, build process. The least required cmake version is *3.9*\n",
    "and I have compiled all the codes using gcc version *5.5*.\n",
    "\n",
    "The main command available is `>bvOperators` and later we can add options and sub-commands to see the results for different tasks.\n",
    "\n",
    "Note: In general, the main challenge in coding in C++ is handling memory, being careful about bounds, dangling pointers, bad allocs, segfaults, and things like that. I think initializing a project from scratch in C++ which should be a reasonably well-structures and working one was also another interesting challenge.[^1]\n",
    "\n",
    "\n",
    "\n",
    "\n",
    "\n",
    "---------------\n",
    "[^1]: P.S. Although I tried to catch a couple special cases with an invalid input\n",
    "such as querying for a character that does not exist in the alphabet of wavelet tree,\n",
    "Unfortunately, for the sake of time-limitation for this homework I was not able to manage all the\n",
    "specific flaws in the input arguments such as a wrong file format, a non-existing directory, etc.\n",
    "However, these verifications are in the todo list of this project in the future."
   ]
  },
  {
   "cell_type": "markdown",
   "metadata": {},
   "source": [
    "# Task1\n",
    "In this task, I implemented a rank data structure over the compact::bitvector structure.\n",
    "The rank data structure itself consists of three bit-vectors, $R_s$, $R_b$, and $R_p$. I tried the version that\n",
    "trades off time for space? so I will store $R_p$ as well which is $\\mathcal{O}(log(log(n))*log(n)*2^{log(n)})$ extra space,\n",
    "but reduces the time to just the constant time required to have a couple look-ups over the three bit-vectors\n",
    "rather than at the point of the blocks, walking them until we find the desired value/index.\n",
    "The following are the average time required per rank query for various sizes of bit-vectors,\n",
    "where $\\frac{1}{10}$th of each bit-vector bits are set and also the overhead size of the rank data structure for each sample."
   ]
  },
  {
   "cell_type": "markdown",
   "metadata": {},
   "source": [
    "### Rank Operation VS Bit-vector Size\n",
    "-------\n",
    "99 experiments\n",
    "* starting from bv of size 10Mb\n",
    "* with size change step of 1Mb\n",
    "* stopping at bv of size 1Bb\n",
    "\n",
    "Every 10 bit was set to 1. In this way, although the bit set pattern is uniform (which makes the bv construction fast), however it should cover a various sorts of touches on $R_s$, $R_b$, and $R_p$ BVs as well as guaranteeing that a similar percentage of the bv is set in all the experiments and the only factor different is the size. "
   ]
  },
  {
   "cell_type": "code",
   "execution_count": 27,
   "metadata": {},
   "outputs": [
    {
     "name": "stdout",
     "output_type": "stream",
     "text": [
      "total # of experiments: 99\n"
     ]
    },
    {
     "data": {
      "text/html": [
       "<div>\n",
       "<style scoped>\n",
       "    .dataframe tbody tr th:only-of-type {\n",
       "        vertical-align: middle;\n",
       "    }\n",
       "\n",
       "    .dataframe tbody tr th {\n",
       "        vertical-align: top;\n",
       "    }\n",
       "\n",
       "    .dataframe thead th {\n",
       "        text-align: right;\n",
       "    }\n",
       "</style>\n",
       "<table border=\"1\" class=\"dataframe\">\n",
       "  <thead>\n",
       "    <tr style=\"text-align: right;\">\n",
       "      <th></th>\n",
       "      <th>bv_size</th>\n",
       "      <th>rank_size</th>\n",
       "      <th>avg_rank_time</th>\n",
       "    </tr>\n",
       "  </thead>\n",
       "  <tbody>\n",
       "    <tr>\n",
       "      <th>0</th>\n",
       "      <td>10000000</td>\n",
       "      <td>5608832</td>\n",
       "      <td>6.550100e-08</td>\n",
       "    </tr>\n",
       "    <tr>\n",
       "      <th>1</th>\n",
       "      <td>20000000</td>\n",
       "      <td>10400896</td>\n",
       "      <td>4.459930e-08</td>\n",
       "    </tr>\n",
       "    <tr>\n",
       "      <th>2</th>\n",
       "      <td>30000000</td>\n",
       "      <td>15294144</td>\n",
       "      <td>4.461580e-08</td>\n",
       "    </tr>\n",
       "    <tr>\n",
       "      <th>3</th>\n",
       "      <td>40000000</td>\n",
       "      <td>20448320</td>\n",
       "      <td>4.301270e-08</td>\n",
       "    </tr>\n",
       "    <tr>\n",
       "      <th>4</th>\n",
       "      <td>50000000</td>\n",
       "      <td>25579072</td>\n",
       "      <td>4.206760e-08</td>\n",
       "    </tr>\n",
       "  </tbody>\n",
       "</table>\n",
       "</div>"
      ],
      "text/plain": [
       "    bv_size  rank_size  avg_rank_time\n",
       "0  10000000    5608832   6.550100e-08\n",
       "1  20000000   10400896   4.459930e-08\n",
       "2  30000000   15294144   4.461580e-08\n",
       "3  40000000   20448320   4.301270e-08\n",
       "4  50000000   25579072   4.206760e-08"
      ]
     },
     "execution_count": 27,
     "metadata": {},
     "output_type": "execute_result"
    }
   ],
   "source": [
    "rankstat = pd.read_csv(\"/mnt/scratch1/fatemeh/courses/cmsc858/hw1/samples/rank.stat\", sep=\"\\t\", \n",
    "                       dtype={'bv_size':np.int32, 'rank_size':np.int32, 'avg_rank_time':np.float64});\n",
    "print('total # of experiments: {}'.format(len(rankstat)))\n",
    "rankstat.head()"
   ]
  },
  {
   "cell_type": "code",
   "execution_count": 39,
   "metadata": {},
   "outputs": [
    {
     "data": {
      "text/plain": [
       "(-1e-09, 1e-07)"
      ]
     },
     "execution_count": 39,
     "metadata": {},
     "output_type": "execute_result"
    },
    {
     "data": {
      "image/png": "[encoded data removed]",
      "text/plain": [
       "<Figure size 432x288 with 1 Axes>"
      ]
     },
     "metadata": {
      "needs_background": "light"
     },
     "output_type": "display_data"
    }
   ],
   "source": [
    "plt.figure(figsize=(6,4))\n",
    "plt.scatter(rankstat['bv_size'], rankstat['avg_rank_time'], s=2)\n",
    "plt.title('Rank Time VS Bit-vector Size')\n",
    "plt.xlabel('bv size in bits')\n",
    "plt.ylabel('time (s)')\n",
    "plt.ylim((-0.000000001, 0.0000001))"
   ]
  },
  {
   "cell_type": "markdown",
   "metadata": {},
   "source": [
    "As you can see in the next plot, the rank bv size changes close to the bv size but smaller (the definition of small_o)"
   ]
  },
  {
   "cell_type": "code",
   "execution_count": 40,
   "metadata": {},
   "outputs": [
    {
     "data": {
      "text/plain": [
       "Text(0, 0.5, 'rank bv size in bits (log)')"
      ]
     },
     "execution_count": 40,
     "metadata": {},
     "output_type": "execute_result"
    },
    {
     "data": {
      "image/png": "[encoded data removed]",
      "text/plain": [
       "<Figure size 432x288 with 1 Axes>"
      ]
     },
     "metadata": {
      "needs_background": "light"
     },
     "output_type": "display_data"
    }
   ],
   "source": [
    "plt.figure(figsize=(6,4))\n",
    "plt.scatter(np.log(rankstat['bv_size']), np.log(rankstat['rank_size']), s=2)\n",
    "plt.title('Rank Overhead VS Bit-vector Size')\n",
    "plt.xlabel('bv size in bits (log)')\n",
    "plt.ylabel('rank bv size in bits (log)')"
   ]
  },
  {
   "cell_type": "markdown",
   "metadata": {},
   "source": [
    "The most difficult section in this task was undoubtedly handling R_p indices and later finding the appropriate index\n",
    "for each bit-vector of R_s, R_b, and R_p based on the input requested value.\n",
    "\n",
    "You can run the command for this report as following:\n",
    "```\n",
    "> ./bvOperators report -t rank -p console\n",
    "```\n",
    "If you want to store the results in a file, provide the parent directory path after `-p` rather than the keyword `console`.\n",
    "```\n",
    "> ./bvOperators report -t rank -p <par_dir>\n",
    "```\n",
    "There are 3 options available for report sub-command to set minimum, maximum, and jump size for different bit-vectors that rank is going to be tested on."
   ]
  },
  {
   "cell_type": "markdown",
   "metadata": {},
   "source": [
    "# Task2\n",
    "In this task, I implemented the $\\mathcal{O}(log(n))$ time version of the select which requires no extra space\n",
    "if rank is also available on the bit-vector and the same space as rank otherwise. It basically is\n",
    "a binary search using rank operation to find the bit with the appropriate rank and return its index.\n",
    "\n",
    "There was not any main challenges in this task except maybe in the engineering aspect of it.\n",
    "The most challenging part for me was how to prevent code chunk repetition by best utilizing templates\n",
    "etc.\n",
    "\n",
    "Same plots as task one have been provided for this task as well."
   ]
  },
  {
   "cell_type": "markdown",
   "metadata": {},
   "source": [
    "### Select Operation VS Bit-vector Size\n",
    "-------\n",
    "Design of the experiments is the same as for Rank operation.\n",
    "\n",
    "\n",
    "__Note: Select DS size here is exactly equal to the Rank DS size as we are using the same structure by giving up on constant select time__\n",
    "\n",
    "About the time plot, I have two plots here. On left is the select time vs bv.size and on right is select time vs log(bv.size). I can't see the select time being constant in log(bv.size)!!!! So maybe something is wrong in the code? or maybe my interpretation of the concept and mapping of it to the plot is wrong?\n"
   ]
  },
  {
   "cell_type": "code",
   "execution_count": 42,
   "metadata": {},
   "outputs": [
    {
     "name": "stdout",
     "output_type": "stream",
     "text": [
      "total # of experiments: 99\n"
     ]
    },
    {
     "data": {
      "text/html": [
       "<div>\n",
       "<style scoped>\n",
       "    .dataframe tbody tr th:only-of-type {\n",
       "        vertical-align: middle;\n",
       "    }\n",
       "\n",
       "    .dataframe tbody tr th {\n",
       "        vertical-align: top;\n",
       "    }\n",
       "\n",
       "    .dataframe thead th {\n",
       "        text-align: right;\n",
       "    }\n",
       "</style>\n",
       "<table border=\"1\" class=\"dataframe\">\n",
       "  <thead>\n",
       "    <tr style=\"text-align: right;\">\n",
       "      <th></th>\n",
       "      <th>bv_size</th>\n",
       "      <th>select_size</th>\n",
       "      <th>avg_select_time</th>\n",
       "    </tr>\n",
       "  </thead>\n",
       "  <tbody>\n",
       "    <tr>\n",
       "      <th>0</th>\n",
       "      <td>10000000</td>\n",
       "      <td>5608832</td>\n",
       "      <td>1.153940e-07</td>\n",
       "    </tr>\n",
       "    <tr>\n",
       "      <th>1</th>\n",
       "      <td>20000000</td>\n",
       "      <td>10400896</td>\n",
       "      <td>9.472540e-08</td>\n",
       "    </tr>\n",
       "    <tr>\n",
       "      <th>2</th>\n",
       "      <td>30000000</td>\n",
       "      <td>15294144</td>\n",
       "      <td>9.786230e-08</td>\n",
       "    </tr>\n",
       "    <tr>\n",
       "      <th>3</th>\n",
       "      <td>40000000</td>\n",
       "      <td>20448320</td>\n",
       "      <td>9.969850e-08</td>\n",
       "    </tr>\n",
       "    <tr>\n",
       "      <th>4</th>\n",
       "      <td>50000000</td>\n",
       "      <td>25579072</td>\n",
       "      <td>1.016200e-07</td>\n",
       "    </tr>\n",
       "  </tbody>\n",
       "</table>\n",
       "</div>"
      ],
      "text/plain": [
       "    bv_size  select_size  avg_select_time\n",
       "0  10000000      5608832     1.153940e-07\n",
       "1  20000000     10400896     9.472540e-08\n",
       "2  30000000     15294144     9.786230e-08\n",
       "3  40000000     20448320     9.969850e-08\n",
       "4  50000000     25579072     1.016200e-07"
      ]
     },
     "execution_count": 42,
     "metadata": {},
     "output_type": "execute_result"
    }
   ],
   "source": [
    "selectStat = pd.read_csv(\"/mnt/scratch1/fatemeh/courses/cmsc858/hw1/samples/select.stat\", sep=\"\\t\", \n",
    "                       dtype={'bv_size':np.int32, 'select_size':np.int32, 'avg_select_time':np.float64});\n",
    "print('total # of experiments: {}'.format(len(selectStat)))\n",
    "selectStat.head()"
   ]
  },
  {
   "cell_type": "code",
   "execution_count": 60,
   "metadata": {},
   "outputs": [
    {
     "data": {
      "text/plain": [
       "(-1e-09, 2e-07)"
      ]
     },
     "execution_count": 60,
     "metadata": {},
     "output_type": "execute_result"
    },
    {
     "data": {
      "image/png": "[encoded data removed]",
      "text/plain": [
       "<Figure size 864x288 with 2 Axes>"
      ]
     },
     "metadata": {
      "needs_background": "light"
     },
     "output_type": "display_data"
    }
   ],
   "source": [
    "plt.figure(figsize=(12,4))\n",
    "plt.subplot(1,2,1)\n",
    "plt.scatter(selectStat['bv_size'], selectStat['avg_select_time'], s=2)\n",
    "plt.title('Select Time VS Bit-vector Size')\n",
    "plt.xlabel('bv size in bits')\n",
    "plt.ylabel('time (s)')\n",
    "plt.ylim((-0.000000001, 0.0000002))\n",
    "plt.subplot(1,2,2)\n",
    "plt.scatter(np.log2(selectStat['bv_size']), selectStat['avg_select_time'], s=2)\n",
    "plt.title('Select Time VS Bit-vector Size')\n",
    "plt.xlabel('log(bv size) in bits')\n",
    "plt.ylim((-0.000000001, 0.0000002))"
   ]
  },
  {
   "cell_type": "markdown",
   "metadata": {},
   "source": [
    "\n",
    "You can run the command for this report as following:\n",
    "```\n",
    "> ./bvOperators report -t select -p console\n",
    "```\n",
    "If you want to store the results in a file, provide the parent directory path after `-p` rather than the keyword `console`.\n",
    "```\n",
    "> ./bvOperators report -t select -p <par_dir>\n",
    "```\n",
    "There are 3 options available for report sub-command to set minimum, maximum, and jump size for different bit-vectors that rank is going to be tested on."
   ]
  },
  {
   "cell_type": "markdown",
   "metadata": {},
   "source": [
    "# Task3\n",
    "In this section, I constructed the wavelet tree based on the serialized algorithm that was explained in the paper\n",
    "\"*Simple, Fast and Lightweight Parallel Wavelet Tree Construction*\" and stored it in the Level-Wise Wavelet Tree data structure\n",
    "which is a bit-vector containing all the bits required to store different levels of the tree.\n",
    "What I store at the end is the wavelet tree bit-vector in binary format, count of unique characters, list of the characters in sorted order,\n",
    "each of a size of byte and the original sequence length in number of characters.\n",
    "\n",
    "The construction Memory for my algorithm small and limited to the fixed buffer size that I read from the file and put there\n",
    "plus the start position vector. I don't load the whole file all at once into memory and read and process it buffer by buffer.\n",
    "For that reason, I have two passes over the file, but based on a few engineering tweaks I managed to only read the file twice and\n",
    "construct the whole tree. I also don't store the last level of the tree which is all *0*s as each block\n",
    "belongs to one single character (or no characters) at that level and hence there is no distinction required between\n",
    "characters ending up in left and right branch. I also don't store the block start positions in file as it can be\n",
    "reconstructed easily every time that we load the index.\n",
    "\n",
    "For improving query time (access, rank, and select) every time that I load the index in addition to constructing\n",
    "the vector of start positions for each block, I also keep a vector of rank of *1* at the start position of\n",
    "each block. That saves a bunch of bitwise rank queries required in each of the character query processes\n",
    "along the tree and although it does not affect the asymptotics of the query time, it helps reduce the constant\n",
    "value and make the processes faster in trade for a small amount of memory. There is one more interesting \n",
    "engineering I did for improving the select performance on the wavelet tree too.\n",
    "At each level, when we want to call a select which later calls a binary search using rank, \n",
    "I instead directly call the binary search with the manual start and end positions\n",
    " being the start and end position for the block I'm looking into.\n",
    " In this way, at each level, rather than doing a binary search over a sequence of size n\n",
    " which in total costs $\\mathcal{O}(nlog(\\sigma))$,\n",
    " I do the search over a sequence of approximate length ~$n/2^{level}$. \n",
    "\n",
    "The trickiest part in this task for me was understanding and later implementing the process of\n",
    "selecting the smallest index `idx` that a character *c* occurs *s* time up to that index.\n",
    "It was challenging because unlike rank that narrows as we go down the levels of the tree\n",
    "and makes it possible to walk the tree top-down, in select, we need to start from the lowest level\n",
    "which is actually the level that each character belongs to a single block and then walk up the tree."
   ]
  },
  {
   "cell_type": "code",
   "execution_count": 7,
   "metadata": {},
   "outputs": [],
   "source": [
    "#### Here are the plots showing the scalability of the data structure with respect to the bit-vector size and ...."
   ]
  },
  {
   "cell_type": "markdown",
   "metadata": {},
   "source": [
    "Since I am putting all of these as one executable, the commands interfaces are a little bit\n",
    "different from what the professor has specifically asked but they answer the same queries and\n",
    "build process that is required in the homework.\n",
    "In the following lines, I bring a few examples of different sub-commands for constructing and querying the wavelet tree.\n",
    "\n",
    "To construct the wavelet tree, we require two inputs, the input file containing the sequence `<input>`\n",
    "and the address pointing to the directory we will store the index in, `<idx_par_dir>`.\n",
    "\n",
    "```\n",
    "> ./bvOperators wv_build -i <input> -p <idx_par_dir>\n",
    "```\n",
    "\n",
    "To call different queries of <access, rank, and select> on the wavelet tree,\n",
    "we require two main inputs, the query file `<qfile>` and the index directory `<idx_par_dir>`\n",
    "in addition to specifying the type of the query.\n",
    "```\n",
    "> ./bvOperators wv -t <access/rank/select> -p <par_dir> -i <qfile>\n",
    "```"
   ]
  }
 ],
 "metadata": {
  "kernelspec": {
   "display_name": "Python 3",
   "language": "python",
   "name": "python3"
  },
  "language_info": {
   "codemirror_mode": {
    "name": "ipython",
    "version": 3
   },
   "file_extension": ".py",
   "mimetype": "text/x-python",
   "name": "python",
   "nbconvert_exporter": "python",
   "pygments_lexer": "ipython3",
   "version": "3.7.4"
  }
 },
 "nbformat": 4,
 "nbformat_minor": 2
}
