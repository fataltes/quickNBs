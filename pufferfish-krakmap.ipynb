{
 "cells": [
  {
   "cell_type": "code",
   "execution_count": 3,
   "metadata": {
    "collapsed": true
   },
   "outputs": [],
   "source": [
    "import pandas as pd"
   ]
  },
  {
   "cell_type": "code",
   "execution_count": 4,
   "metadata": {
    "collapsed": true
   },
   "outputs": [],
   "source": [
    "ref = \"/mnt/scratch2/avi/meta-map/kraken/KrakenDB/seqid2taxid.map\"\n",
    "with open(ref) as f:\n",
    "    refId2TaxId = pd.read_csv(f, header=None, sep=\"\\t\", names=[\"refName\", \"refId\"])"
   ]
  },
  {
   "cell_type": "code",
   "execution_count": 5,
   "metadata": {},
   "outputs": [
    {
     "data": {
      "text/html": [
       "<div>\n",
       "<style>\n",
       "    .dataframe thead tr:only-child th {\n",
       "        text-align: right;\n",
       "    }\n",
       "\n",
       "    .dataframe thead th {\n",
       "        text-align: left;\n",
       "    }\n",
       "\n",
       "    .dataframe tbody tr th {\n",
       "        vertical-align: top;\n",
       "    }\n",
       "</style>\n",
       "<table border=\"1\" class=\"dataframe\">\n",
       "  <thead>\n",
       "    <tr style=\"text-align: right;\">\n",
       "      <th></th>\n",
       "      <th>refName</th>\n",
       "      <th>refId</th>\n",
       "    </tr>\n",
       "  </thead>\n",
       "  <tbody>\n",
       "    <tr>\n",
       "      <th>0</th>\n",
       "      <td>gi|9791176|ref|NC_002180.1|</td>\n",
       "      <td>1986029</td>\n",
       "    </tr>\n",
       "    <tr>\n",
       "      <th>1</th>\n",
       "      <td>gi|10803547|ref|NC_001869.1|</td>\n",
       "      <td>64091</td>\n",
       "    </tr>\n",
       "    <tr>\n",
       "      <th>2</th>\n",
       "      <td>gi|10954488|ref|NC_001732.1|</td>\n",
       "      <td>243232</td>\n",
       "    </tr>\n",
       "    <tr>\n",
       "      <th>3</th>\n",
       "      <td>gi|10954532|ref|NC_001733.1|</td>\n",
       "      <td>243232</td>\n",
       "    </tr>\n",
       "    <tr>\n",
       "      <th>4</th>\n",
       "      <td>gi|10954552|ref|NC_001773.1|</td>\n",
       "      <td>272844</td>\n",
       "    </tr>\n",
       "  </tbody>\n",
       "</table>\n",
       "</div>"
      ],
      "text/plain": [
       "                        refName    refId\n",
       "0   gi|9791176|ref|NC_002180.1|  1986029\n",
       "1  gi|10803547|ref|NC_001869.1|    64091\n",
       "2  gi|10954488|ref|NC_001732.1|   243232\n",
       "3  gi|10954532|ref|NC_001733.1|   243232\n",
       "4  gi|10954552|ref|NC_001773.1|   272844"
      ]
     },
     "execution_count": 5,
     "metadata": {},
     "output_type": "execute_result"
    }
   ],
   "source": [
    "refId2TaxId.head()"
   ]
  },
  {
   "cell_type": "code",
   "execution_count": 13,
   "metadata": {
    "collapsed": true
   },
   "outputs": [],
   "source": [
    "tf = \"/mnt/scratch2/avi/meta-map/kraken/KrakenDB/taxonomy/nodes.dmp\"\n",
    "taxa = []\n",
    "id2rank = {}\n",
    "with open(tf) as f:\n",
    "    for line in f:\n",
    "        toks = line.rstrip(\"\\t|\\n\").split(\"\\t|\\t\")\n",
    "        taxa += [[int(toks[0]), toks[2]]]\n",
    "        id2rank[int(toks[0])] = toks[2]\n",
    "taxa_df = pd.DataFrame.from_records(taxa)\n",
    "taxa_df.columns = [\"taxaId\", \"rank\"]"
   ]
  },
  {
   "cell_type": "code",
   "execution_count": 31,
   "metadata": {},
   "outputs": [
    {
     "data": {
      "text/html": [
       "<div>\n",
       "<style>\n",
       "    .dataframe thead tr:only-child th {\n",
       "        text-align: right;\n",
       "    }\n",
       "\n",
       "    .dataframe thead th {\n",
       "        text-align: left;\n",
       "    }\n",
       "\n",
       "    .dataframe tbody tr th {\n",
       "        vertical-align: top;\n",
       "    }\n",
       "</style>\n",
       "<table border=\"1\" class=\"dataframe\">\n",
       "  <thead>\n",
       "    <tr style=\"text-align: right;\">\n",
       "      <th></th>\n",
       "      <th>taxaId</th>\n",
       "      <th>rank</th>\n",
       "    </tr>\n",
       "  </thead>\n",
       "  <tbody>\n",
       "    <tr>\n",
       "      <th>0</th>\n",
       "      <td>1</td>\n",
       "      <td>no rank</td>\n",
       "    </tr>\n",
       "    <tr>\n",
       "      <th>1</th>\n",
       "      <td>2</td>\n",
       "      <td>superkingdom</td>\n",
       "    </tr>\n",
       "    <tr>\n",
       "      <th>2</th>\n",
       "      <td>6</td>\n",
       "      <td>genus</td>\n",
       "    </tr>\n",
       "    <tr>\n",
       "      <th>3</th>\n",
       "      <td>7</td>\n",
       "      <td>species</td>\n",
       "    </tr>\n",
       "    <tr>\n",
       "      <th>4</th>\n",
       "      <td>9</td>\n",
       "      <td>species</td>\n",
       "    </tr>\n",
       "  </tbody>\n",
       "</table>\n",
       "</div>"
      ],
      "text/plain": [
       "   taxaId          rank\n",
       "0       1       no rank\n",
       "1       2  superkingdom\n",
       "2       6         genus\n",
       "3       7       species\n",
       "4       9       species"
      ]
     },
     "execution_count": 31,
     "metadata": {},
     "output_type": "execute_result"
    }
   ],
   "source": [
    "taxa_df.head()"
   ]
  },
  {
   "cell_type": "code",
   "execution_count": 22,
   "metadata": {},
   "outputs": [],
   "source": [
    "c2p = {}\n",
    "with open(tf) as f:\n",
    "    for line in f:\n",
    "        toks = line.rstrip(\"\\t|\\n\").split(\"\\t|\\t\")\n",
    "        if id2rank[int(toks[0])] not in c2p:\n",
    "            c2p[id2rank[int(toks[0])]] = set()\n",
    "        c2p[id2rank[int(toks[0])]].add(id2rank[int(toks[1])])"
   ]
  },
  {
   "cell_type": "markdown",
   "metadata": {},
   "source": [
    "# Child -> Parent"
   ]
  },
  {
   "cell_type": "code",
   "execution_count": 24,
   "metadata": {
    "scrolled": false
   },
   "outputs": [
    {
     "name": "stdout",
     "output_type": "stream",
     "text": [
      "no rank --> parent list:\n",
      "{'genus', 'no rank', 'superorder', 'species subgroup', 'superclass', 'infraorder', 'superfamily', 'tribe', 'superkingdom', 'parvorder', 'subtribe', 'suborder', 'cohort', 'subspecies', 'species', 'phylum', 'infraclass', 'order', 'varietas', 'subphylum', 'subfamily', 'subclass', 'family', 'subkingdom', 'class', 'forma', 'species group', 'subgenus', 'kingdom'}\n",
      "\n",
      "\n",
      "superkingdom --> parent list:\n",
      "{'no rank'}\n",
      "\n",
      "\n",
      "genus --> parent list:\n",
      "{'no rank', 'suborder', 'family', 'class', 'phylum', 'infraclass', 'order', 'superkingdom', 'subtribe', 'superfamily', 'tribe', 'subfamily', 'subphylum', 'subclass'}\n",
      "\n",
      "\n",
      "species --> parent list:\n",
      "{'genus', 'no rank', 'suborder', 'family', 'class', 'species', 'phylum', 'species subgroup', 'species group', 'order', 'subgenus', 'superfamily', 'tribe', 'subfamily', 'subclass'}\n",
      "\n",
      "\n",
      "order --> parent list:\n",
      "{'no rank', 'superorder', 'cohort', 'class', 'phylum', 'infraclass', 'subphylum', 'superkingdom', 'subclass'}\n",
      "\n",
      "\n",
      "family --> parent list:\n",
      "{'no rank', 'superorder', 'suborder', 'parvorder', 'class', 'phylum', 'order', 'infraorder', 'superfamily', 'superkingdom', 'subphylum', 'subclass'}\n",
      "\n",
      "\n",
      "subspecies --> parent list:\n",
      "{'subgenus', 'genus', 'species', 'no rank'}\n",
      "\n",
      "\n",
      "subfamily --> parent list:\n",
      "{'no rank', 'suborder', 'family', 'order', 'superfamily'}\n",
      "\n",
      "\n",
      "tribe --> parent list:\n",
      "{'family', 'subfamily', 'no rank'}\n",
      "\n",
      "\n",
      "phylum --> parent list:\n",
      "{'superphylum', 'no rank', 'subkingdom', 'superkingdom', 'kingdom'}\n",
      "\n",
      "\n",
      "class --> parent list:\n",
      "{'no rank', 'phylum', 'superclass', 'subphylum', 'superkingdom'}\n",
      "\n",
      "\n",
      "forma --> parent list:\n",
      "{'varietas', 'genus', 'species', 'subspecies'}\n",
      "\n",
      "\n",
      "suborder --> parent list:\n",
      "{'no rank', 'superorder', 'class', 'phylum', 'order'}\n",
      "\n",
      "\n",
      "subclass --> parent list:\n",
      "{'class', 'no rank', 'phylum'}\n",
      "\n",
      "\n",
      "varietas --> parent list:\n",
      "{'genus', 'species', 'subspecies'}\n",
      "\n",
      "\n",
      "kingdom --> parent list:\n",
      "{'superkingdom', 'no rank'}\n",
      "\n",
      "\n",
      "subphylum --> parent list:\n",
      "{'no rank', 'phylum'}\n",
      "\n",
      "\n",
      "superfamily --> parent list:\n",
      "{'no rank', 'suborder', 'class', 'order', 'infraorder', 'superfamily', 'parvorder', 'subclass'}\n",
      "\n",
      "\n",
      "infraorder --> parent list:\n",
      "{'suborder', 'order', 'no rank'}\n",
      "\n",
      "\n",
      "infraclass --> parent list:\n",
      "{'no rank', 'subclass'}\n",
      "\n",
      "\n",
      "superorder --> parent list:\n",
      "{'no rank', 'cohort', 'class', 'infraclass', 'subclass'}\n",
      "\n",
      "\n",
      "subgenus --> parent list:\n",
      "{'genus', 'no rank', 'family', 'tribe', 'subfamily'}\n",
      "\n",
      "\n",
      "superclass --> parent list:\n",
      "{'no rank'}\n",
      "\n",
      "\n",
      "parvorder --> parent list:\n",
      "{'infraorder', 'no rank'}\n",
      "\n",
      "\n",
      "superphylum --> parent list:\n",
      "{'no rank', 'kingdom'}\n",
      "\n",
      "\n",
      "species group --> parent list:\n",
      "{'subgenus', 'family', 'genus', 'no rank'}\n",
      "\n",
      "\n",
      "species subgroup --> parent list:\n",
      "{'species group', 'genus'}\n",
      "\n",
      "\n",
      "cohort --> parent list:\n",
      "{'infraclass'}\n",
      "\n",
      "\n",
      "subtribe --> parent list:\n",
      "{'family', 'tribe', 'subfamily', 'no rank'}\n",
      "\n",
      "\n",
      "subkingdom --> parent list:\n",
      "{'kingdom'}\n",
      "\n",
      "\n"
     ]
    }
   ],
   "source": [
    "for key, value in c2p.items():\n",
    "    print ('{} --> parent list:'.format(key))\n",
    "    print(value)\n",
    "    print('\\n')"
   ]
  },
  {
   "cell_type": "code",
   "execution_count": 12,
   "metadata": {},
   "outputs": [
    {
     "name": "stdout",
     "output_type": "stream",
     "text": [
      "30\n"
     ]
    },
    {
     "data": {
      "text/plain": [
       "array(['no rank', 'superkingdom', 'genus', 'species', 'order', 'family',\n",
       "       'subspecies', 'subfamily', 'tribe', 'phylum', 'class', 'forma',\n",
       "       'suborder', 'subclass', 'varietas', 'kingdom', 'subphylum',\n",
       "       'superfamily', 'infraorder', 'infraclass', 'superorder', 'subgenus',\n",
       "       'superclass', 'parvorder', 'superphylum', 'species group',\n",
       "       'species subgroup', 'cohort', 'subtribe', 'subkingdom'], dtype=object)"
      ]
     },
     "execution_count": 12,
     "metadata": {},
     "output_type": "execute_result"
    }
   ],
   "source": [
    "print(len(taxa_df['rank'].unique()))\n",
    "taxa_df['rank'].unique()"
   ]
  },
  {
   "cell_type": "code",
   "execution_count": 41,
   "metadata": {},
   "outputs": [
    {
     "data": {
      "text/html": [
       "<div>\n",
       "<style>\n",
       "    .dataframe thead tr:only-child th {\n",
       "        text-align: right;\n",
       "    }\n",
       "\n",
       "    .dataframe thead th {\n",
       "        text-align: left;\n",
       "    }\n",
       "\n",
       "    .dataframe tbody tr th {\n",
       "        vertical-align: top;\n",
       "    }\n",
       "</style>\n",
       "<table border=\"1\" class=\"dataframe\">\n",
       "  <thead>\n",
       "    <tr style=\"text-align: right;\">\n",
       "      <th></th>\n",
       "      <th>refName</th>\n",
       "      <th>refId</th>\n",
       "      <th>taxaId</th>\n",
       "      <th>rank</th>\n",
       "    </tr>\n",
       "  </thead>\n",
       "  <tbody>\n",
       "    <tr>\n",
       "      <th>0</th>\n",
       "      <td>gi|9791176|ref|NC_002180.1|</td>\n",
       "      <td>1986029</td>\n",
       "      <td>1986029</td>\n",
       "      <td>species</td>\n",
       "    </tr>\n",
       "    <tr>\n",
       "      <th>1</th>\n",
       "      <td>gi|10803547|ref|NC_001869.1|</td>\n",
       "      <td>64091</td>\n",
       "      <td>64091</td>\n",
       "      <td>no rank</td>\n",
       "    </tr>\n",
       "    <tr>\n",
       "      <th>2</th>\n",
       "      <td>gi|15789340|ref|NC_002607.1|</td>\n",
       "      <td>64091</td>\n",
       "      <td>64091</td>\n",
       "      <td>no rank</td>\n",
       "    </tr>\n",
       "    <tr>\n",
       "      <th>3</th>\n",
       "      <td>gi|16119979|ref|NC_002608.1|</td>\n",
       "      <td>64091</td>\n",
       "      <td>64091</td>\n",
       "      <td>no rank</td>\n",
       "    </tr>\n",
       "    <tr>\n",
       "      <th>4</th>\n",
       "      <td>gi|10954488|ref|NC_001732.1|</td>\n",
       "      <td>243232</td>\n",
       "      <td>243232</td>\n",
       "      <td>no rank</td>\n",
       "    </tr>\n",
       "  </tbody>\n",
       "</table>\n",
       "</div>"
      ],
      "text/plain": [
       "                        refName    refId   taxaId     rank\n",
       "0   gi|9791176|ref|NC_002180.1|  1986029  1986029  species\n",
       "1  gi|10803547|ref|NC_001869.1|    64091    64091  no rank\n",
       "2  gi|15789340|ref|NC_002607.1|    64091    64091  no rank\n",
       "3  gi|16119979|ref|NC_002608.1|    64091    64091  no rank\n",
       "4  gi|10954488|ref|NC_001732.1|   243232   243232  no rank"
      ]
     },
     "execution_count": 41,
     "metadata": {},
     "output_type": "execute_result"
    }
   ],
   "source": [
    "ref2taxaLevel = pd.merge(refId2TaxId, taxa_df, left_on=\"refId\", right_on=\"taxaId\")\n",
    "ref2taxaLevel.head()"
   ]
  },
  {
   "cell_type": "code",
   "execution_count": 38,
   "metadata": {},
   "outputs": [
    {
     "name": "stdout",
     "output_type": "stream",
     "text": [
      "4815\n",
      "4815\n"
     ]
    }
   ],
   "source": [
    "print(len(refId2TaxId))\n",
    "print(len(ref2taxaLevel))"
   ]
  },
  {
   "cell_type": "markdown",
   "metadata": {},
   "source": [
    "# Reference Rank Distribution"
   ]
  },
  {
   "cell_type": "code",
   "execution_count": 42,
   "metadata": {},
   "outputs": [
    {
     "data": {
      "text/html": [
       "<div>\n",
       "<style>\n",
       "    .dataframe thead tr:only-child th {\n",
       "        text-align: right;\n",
       "    }\n",
       "\n",
       "    .dataframe thead th {\n",
       "        text-align: left;\n",
       "    }\n",
       "\n",
       "    .dataframe tbody tr th {\n",
       "        vertical-align: top;\n",
       "    }\n",
       "</style>\n",
       "<table border=\"1\" class=\"dataframe\">\n",
       "  <thead>\n",
       "    <tr style=\"text-align: right;\">\n",
       "      <th></th>\n",
       "      <th>refName</th>\n",
       "      <th>refId</th>\n",
       "      <th>taxaId</th>\n",
       "    </tr>\n",
       "    <tr>\n",
       "      <th>rank</th>\n",
       "      <th></th>\n",
       "      <th></th>\n",
       "      <th></th>\n",
       "    </tr>\n",
       "  </thead>\n",
       "  <tbody>\n",
       "    <tr>\n",
       "      <th>no rank</th>\n",
       "      <td>4336</td>\n",
       "      <td>4336</td>\n",
       "      <td>4336</td>\n",
       "    </tr>\n",
       "    <tr>\n",
       "      <th>species</th>\n",
       "      <td>465</td>\n",
       "      <td>465</td>\n",
       "      <td>465</td>\n",
       "    </tr>\n",
       "    <tr>\n",
       "      <th>subspecies</th>\n",
       "      <td>14</td>\n",
       "      <td>14</td>\n",
       "      <td>14</td>\n",
       "    </tr>\n",
       "  </tbody>\n",
       "</table>\n",
       "</div>"
      ],
      "text/plain": [
       "            refName  refId  taxaId\n",
       "rank                              \n",
       "no rank        4336   4336    4336\n",
       "species         465    465     465\n",
       "subspecies       14     14      14"
      ]
     },
     "execution_count": 42,
     "metadata": {},
     "output_type": "execute_result"
    }
   ],
   "source": [
    "ref2taxaLevel.groupby('rank').count()"
   ]
  },
  {
   "cell_type": "code",
   "execution_count": null,
   "metadata": {
    "collapsed": true
   },
   "outputs": [],
   "source": [
    "truth = '/mnt/scratch2/avi/meta-map/kraken/meta/truth.txt'\n"
   ]
  }
 ],
 "metadata": {
  "kernelspec": {
   "display_name": "Python 3",
   "language": "python",
   "name": "python3"
  },
  "language_info": {
   "codemirror_mode": {
    "name": "ipython",
    "version": 3
   },
   "file_extension": ".py",
   "mimetype": "text/x-python",
   "name": "python",
   "nbconvert_exporter": "python",
   "pygments_lexer": "ipython3",
   "version": "3.6.1"
  }
 },
 "nbformat": 4,
 "nbformat_minor": 2
}
