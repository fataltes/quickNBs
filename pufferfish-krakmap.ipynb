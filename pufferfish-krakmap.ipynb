{
 "cells": [
  {
   "cell_type": "code",
   "execution_count": 40,
   "metadata": {
    "collapsed": true
   },
   "outputs": [],
   "source": [
    "import pandas as pd\n",
    "import numpy as np"
   ]
  },
  {
   "cell_type": "markdown",
   "metadata": {},
   "source": [
    "# Loading Reference name to Taxa Id file"
   ]
  },
  {
   "cell_type": "code",
   "execution_count": 4,
   "metadata": {
    "collapsed": true
   },
   "outputs": [],
   "source": [
    "ref = \"/mnt/scratch2/avi/meta-map/kraken/KrakenDB/seqid2taxid.map\"\n",
    "with open(ref) as f:\n",
    "    refId2TaxId = pd.read_csv(f, header=None, sep=\"\\t\", names=[\"refName\", \"refId\"])"
   ]
  },
  {
   "cell_type": "code",
   "execution_count": 5,
   "metadata": {},
   "outputs": [
    {
     "data": {
      "text/html": [
       "<div>\n",
       "<style>\n",
       "    .dataframe thead tr:only-child th {\n",
       "        text-align: right;\n",
       "    }\n",
       "\n",
       "    .dataframe thead th {\n",
       "        text-align: left;\n",
       "    }\n",
       "\n",
       "    .dataframe tbody tr th {\n",
       "        vertical-align: top;\n",
       "    }\n",
       "</style>\n",
       "<table border=\"1\" class=\"dataframe\">\n",
       "  <thead>\n",
       "    <tr style=\"text-align: right;\">\n",
       "      <th></th>\n",
       "      <th>refName</th>\n",
       "      <th>refId</th>\n",
       "    </tr>\n",
       "  </thead>\n",
       "  <tbody>\n",
       "    <tr>\n",
       "      <th>0</th>\n",
       "      <td>gi|9791176|ref|NC_002180.1|</td>\n",
       "      <td>1986029</td>\n",
       "    </tr>\n",
       "    <tr>\n",
       "      <th>1</th>\n",
       "      <td>gi|10803547|ref|NC_001869.1|</td>\n",
       "      <td>64091</td>\n",
       "    </tr>\n",
       "    <tr>\n",
       "      <th>2</th>\n",
       "      <td>gi|10954488|ref|NC_001732.1|</td>\n",
       "      <td>243232</td>\n",
       "    </tr>\n",
       "    <tr>\n",
       "      <th>3</th>\n",
       "      <td>gi|10954532|ref|NC_001733.1|</td>\n",
       "      <td>243232</td>\n",
       "    </tr>\n",
       "    <tr>\n",
       "      <th>4</th>\n",
       "      <td>gi|10954552|ref|NC_001773.1|</td>\n",
       "      <td>272844</td>\n",
       "    </tr>\n",
       "  </tbody>\n",
       "</table>\n",
       "</div>"
      ],
      "text/plain": [
       "                        refName    refId\n",
       "0   gi|9791176|ref|NC_002180.1|  1986029\n",
       "1  gi|10803547|ref|NC_001869.1|    64091\n",
       "2  gi|10954488|ref|NC_001732.1|   243232\n",
       "3  gi|10954532|ref|NC_001733.1|   243232\n",
       "4  gi|10954552|ref|NC_001773.1|   272844"
      ]
     },
     "execution_count": 5,
     "metadata": {},
     "output_type": "execute_result"
    }
   ],
   "source": [
    "refId2TaxId.head()"
   ]
  },
  {
   "cell_type": "markdown",
   "metadata": {},
   "source": [
    "# Loading Taxonomy Tree\n",
    "### Taxum ID , Taxum Rank , Taxum Parent ID"
   ]
  },
  {
   "cell_type": "code",
   "execution_count": 31,
   "metadata": {
    "collapsed": true
   },
   "outputs": [],
   "source": [
    "tf = \"/mnt/scratch2/avi/meta-map/kraken/KrakenDB/taxonomy/nodes.dmp\"\n",
    "taxa = []\n",
    "id2rank = {}\n",
    "with open(tf) as f:\n",
    "    for line in f:\n",
    "        toks = line.rstrip(\"\\t|\\n\").split(\"\\t|\\t\")\n",
    "        taxa += [[int(toks[0]), int(toks[1]), toks[2]]]\n",
    "        id2rank[int(toks[0])] = toks[2]\n",
    "taxa_df = pd.DataFrame.from_records(taxa)\n",
    "taxa_df.columns = [\"taxaId\", \"pid\", \"rank\"]"
   ]
  },
  {
   "cell_type": "code",
   "execution_count": 32,
   "metadata": {},
   "outputs": [
    {
     "data": {
      "text/html": [
       "<div>\n",
       "<style>\n",
       "    .dataframe thead tr:only-child th {\n",
       "        text-align: right;\n",
       "    }\n",
       "\n",
       "    .dataframe thead th {\n",
       "        text-align: left;\n",
       "    }\n",
       "\n",
       "    .dataframe tbody tr th {\n",
       "        vertical-align: top;\n",
       "    }\n",
       "</style>\n",
       "<table border=\"1\" class=\"dataframe\">\n",
       "  <thead>\n",
       "    <tr style=\"text-align: right;\">\n",
       "      <th></th>\n",
       "      <th>taxaId</th>\n",
       "      <th>pid</th>\n",
       "      <th>rank</th>\n",
       "    </tr>\n",
       "  </thead>\n",
       "  <tbody>\n",
       "    <tr>\n",
       "      <th>0</th>\n",
       "      <td>1</td>\n",
       "      <td>1</td>\n",
       "      <td>no rank</td>\n",
       "    </tr>\n",
       "    <tr>\n",
       "      <th>1</th>\n",
       "      <td>2</td>\n",
       "      <td>131567</td>\n",
       "      <td>superkingdom</td>\n",
       "    </tr>\n",
       "    <tr>\n",
       "      <th>2</th>\n",
       "      <td>6</td>\n",
       "      <td>335928</td>\n",
       "      <td>genus</td>\n",
       "    </tr>\n",
       "    <tr>\n",
       "      <th>3</th>\n",
       "      <td>7</td>\n",
       "      <td>6</td>\n",
       "      <td>species</td>\n",
       "    </tr>\n",
       "    <tr>\n",
       "      <th>4</th>\n",
       "      <td>9</td>\n",
       "      <td>32199</td>\n",
       "      <td>species</td>\n",
       "    </tr>\n",
       "  </tbody>\n",
       "</table>\n",
       "</div>"
      ],
      "text/plain": [
       "   taxaId     pid          rank\n",
       "0       1       1       no rank\n",
       "1       2  131567  superkingdom\n",
       "2       6  335928         genus\n",
       "3       7       6       species\n",
       "4       9   32199       species"
      ]
     },
     "execution_count": 32,
     "metadata": {},
     "output_type": "execute_result"
    }
   ],
   "source": [
    "taxa_df.head()"
   ]
  },
  {
   "cell_type": "markdown",
   "metadata": {},
   "source": [
    "# List of Leaves\n",
    "\n",
    "Right join of **pid** and **cid** (parent and child)\n",
    "And then looking for any child that has never been a parent : with parent = **nan**"
   ]
  },
  {
   "cell_type": "code",
   "execution_count": 74,
   "metadata": {
    "collapsed": true
   },
   "outputs": [],
   "source": [
    "leaves = pd.merge(taxa_df[['pid']], taxa_df[['taxaId', 'rank']], left_on='pid', right_on='taxaId', how='right')"
   ]
  },
  {
   "cell_type": "code",
   "execution_count": 75,
   "metadata": {},
   "outputs": [
    {
     "name": "stdout",
     "output_type": "stream",
     "text": [
      "1528122\n"
     ]
    },
    {
     "data": {
      "text/html": [
       "<div>\n",
       "<style>\n",
       "    .dataframe thead tr:only-child th {\n",
       "        text-align: right;\n",
       "    }\n",
       "\n",
       "    .dataframe thead th {\n",
       "        text-align: left;\n",
       "    }\n",
       "\n",
       "    .dataframe tbody tr th {\n",
       "        vertical-align: top;\n",
       "    }\n",
       "</style>\n",
       "<table border=\"1\" class=\"dataframe\">\n",
       "  <thead>\n",
       "    <tr style=\"text-align: right;\">\n",
       "      <th></th>\n",
       "      <th>taxaId</th>\n",
       "      <th>rank</th>\n",
       "    </tr>\n",
       "  </thead>\n",
       "  <tbody>\n",
       "    <tr>\n",
       "      <th>1669515</th>\n",
       "      <td>25</td>\n",
       "      <td>species</td>\n",
       "    </tr>\n",
       "    <tr>\n",
       "      <th>1669516</th>\n",
       "      <td>27</td>\n",
       "      <td>species</td>\n",
       "    </tr>\n",
       "    <tr>\n",
       "      <th>1669517</th>\n",
       "      <td>28</td>\n",
       "      <td>species</td>\n",
       "    </tr>\n",
       "    <tr>\n",
       "      <th>1669518</th>\n",
       "      <td>38</td>\n",
       "      <td>species</td>\n",
       "    </tr>\n",
       "    <tr>\n",
       "      <th>1669519</th>\n",
       "      <td>45</td>\n",
       "      <td>species</td>\n",
       "    </tr>\n",
       "  </tbody>\n",
       "</table>\n",
       "</div>"
      ],
      "text/plain": [
       "         taxaId     rank\n",
       "1669515      25  species\n",
       "1669516      27  species\n",
       "1669517      28  species\n",
       "1669518      38  species\n",
       "1669519      45  species"
      ]
     },
     "execution_count": 75,
     "metadata": {},
     "output_type": "execute_result"
    }
   ],
   "source": [
    "leaves = leaves[np.isnan(leaves['pid'])][['taxaId', 'rank']]\n",
    "print(len(leaves))\n",
    "leaves.head()"
   ]
  },
  {
   "cell_type": "markdown",
   "metadata": {},
   "source": [
    "# List of Roots\n",
    "Left join of **pid** and **cid** (parent and child) And then looking for any parent that is never a child : child = **nan** parent"
   ]
  },
  {
   "cell_type": "code",
   "execution_count": 81,
   "metadata": {},
   "outputs": [
    {
     "data": {
      "text/html": [
       "<div>\n",
       "<style>\n",
       "    .dataframe thead tr:only-child th {\n",
       "        text-align: right;\n",
       "    }\n",
       "\n",
       "    .dataframe thead th {\n",
       "        text-align: left;\n",
       "    }\n",
       "\n",
       "    .dataframe tbody tr th {\n",
       "        vertical-align: top;\n",
       "    }\n",
       "</style>\n",
       "<table border=\"1\" class=\"dataframe\">\n",
       "  <thead>\n",
       "    <tr style=\"text-align: right;\">\n",
       "      <th></th>\n",
       "      <th>pid_x</th>\n",
       "      <th>rank</th>\n",
       "      <th>taxaId</th>\n",
       "      <th>pid_y</th>\n",
       "    </tr>\n",
       "  </thead>\n",
       "  <tbody>\n",
       "    <tr>\n",
       "      <th>0</th>\n",
       "      <td>1</td>\n",
       "      <td>no rank</td>\n",
       "      <td>1</td>\n",
       "      <td>1</td>\n",
       "    </tr>\n",
       "    <tr>\n",
       "      <th>8284</th>\n",
       "      <td>1</td>\n",
       "      <td>superkingdom</td>\n",
       "      <td>1</td>\n",
       "      <td>1</td>\n",
       "    </tr>\n",
       "    <tr>\n",
       "      <th>9909</th>\n",
       "      <td>1</td>\n",
       "      <td>superkingdom</td>\n",
       "      <td>1</td>\n",
       "      <td>1</td>\n",
       "    </tr>\n",
       "    <tr>\n",
       "      <th>9931</th>\n",
       "      <td>1</td>\n",
       "      <td>no rank</td>\n",
       "      <td>1</td>\n",
       "      <td>1</td>\n",
       "    </tr>\n",
       "    <tr>\n",
       "      <th>12110</th>\n",
       "      <td>1</td>\n",
       "      <td>no rank</td>\n",
       "      <td>1</td>\n",
       "      <td>1</td>\n",
       "    </tr>\n",
       "    <tr>\n",
       "      <th>101269</th>\n",
       "      <td>1</td>\n",
       "      <td>no rank</td>\n",
       "      <td>1</td>\n",
       "      <td>1</td>\n",
       "    </tr>\n",
       "  </tbody>\n",
       "</table>\n",
       "</div>"
      ],
      "text/plain": [
       "        pid_x          rank  taxaId  pid_y\n",
       "0           1       no rank       1      1\n",
       "8284        1  superkingdom       1      1\n",
       "9909        1  superkingdom       1      1\n",
       "9931        1       no rank       1      1\n",
       "12110       1       no rank       1      1\n",
       "101269      1       no rank       1      1"
      ]
     },
     "execution_count": 81,
     "metadata": {},
     "output_type": "execute_result"
    }
   ],
   "source": [
    "roots = pd.merge(taxa_df[['pid', 'rank']], taxa_df[['taxaId', 'pid']], left_on='pid', right_on='taxaId', how='left')\n",
    "#roots = roots[np.isnan(roots['taxaId'])][['pid', 'rank']]\n",
    "roots[roots['taxaId'] == roots['pid_y']]"
   ]
  },
  {
   "cell_type": "code",
   "execution_count": 78,
   "metadata": {
    "collapsed": true
   },
   "outputs": [],
   "source": [
    "c2p = {}\n",
    "c2pid = {}\n",
    "with open(tf) as f:\n",
    "    for line in f:\n",
    "        toks = line.rstrip(\"\\t|\\n\").split(\"\\t|\\t\")\n",
    "        c2pid[int(toks[0])] = int(toks[1])\n",
    "        if id2rank[int(toks[0])] not in c2p:\n",
    "            c2p[id2rank[int(toks[0])]] = set()\n",
    "        c2p[id2rank[int(toks[0])]].add(id2rank[int(toks[1])])"
   ]
  },
  {
   "cell_type": "markdown",
   "metadata": {},
   "source": [
    "# Child -> Parent"
   ]
  },
  {
   "cell_type": "code",
   "execution_count": 24,
   "metadata": {
    "collapsed": true
   },
   "outputs": [
    {
     "name": "stdout",
     "output_type": "stream",
     "text": [
      "no rank --> parent list:\n",
      "{'genus', 'no rank', 'superorder', 'species subgroup', 'superclass', 'infraorder', 'superfamily', 'tribe', 'superkingdom', 'parvorder', 'subtribe', 'suborder', 'cohort', 'subspecies', 'species', 'phylum', 'infraclass', 'order', 'varietas', 'subphylum', 'subfamily', 'subclass', 'family', 'subkingdom', 'class', 'forma', 'species group', 'subgenus', 'kingdom'}\n",
      "\n",
      "\n",
      "superkingdom --> parent list:\n",
      "{'no rank'}\n",
      "\n",
      "\n",
      "genus --> parent list:\n",
      "{'no rank', 'suborder', 'family', 'class', 'phylum', 'infraclass', 'order', 'superkingdom', 'subtribe', 'superfamily', 'tribe', 'subfamily', 'subphylum', 'subclass'}\n",
      "\n",
      "\n",
      "species --> parent list:\n",
      "{'genus', 'no rank', 'suborder', 'family', 'class', 'species', 'phylum', 'species subgroup', 'species group', 'order', 'subgenus', 'superfamily', 'tribe', 'subfamily', 'subclass'}\n",
      "\n",
      "\n",
      "order --> parent list:\n",
      "{'no rank', 'superorder', 'cohort', 'class', 'phylum', 'infraclass', 'subphylum', 'superkingdom', 'subclass'}\n",
      "\n",
      "\n",
      "family --> parent list:\n",
      "{'no rank', 'superorder', 'suborder', 'parvorder', 'class', 'phylum', 'order', 'infraorder', 'superfamily', 'superkingdom', 'subphylum', 'subclass'}\n",
      "\n",
      "\n",
      "subspecies --> parent list:\n",
      "{'subgenus', 'genus', 'species', 'no rank'}\n",
      "\n",
      "\n",
      "subfamily --> parent list:\n",
      "{'no rank', 'suborder', 'family', 'order', 'superfamily'}\n",
      "\n",
      "\n",
      "tribe --> parent list:\n",
      "{'family', 'subfamily', 'no rank'}\n",
      "\n",
      "\n",
      "phylum --> parent list:\n",
      "{'superphylum', 'no rank', 'subkingdom', 'superkingdom', 'kingdom'}\n",
      "\n",
      "\n",
      "class --> parent list:\n",
      "{'no rank', 'phylum', 'superclass', 'subphylum', 'superkingdom'}\n",
      "\n",
      "\n",
      "forma --> parent list:\n",
      "{'varietas', 'genus', 'species', 'subspecies'}\n",
      "\n",
      "\n",
      "suborder --> parent list:\n",
      "{'no rank', 'superorder', 'class', 'phylum', 'order'}\n",
      "\n",
      "\n",
      "subclass --> parent list:\n",
      "{'class', 'no rank', 'phylum'}\n",
      "\n",
      "\n",
      "varietas --> parent list:\n",
      "{'genus', 'species', 'subspecies'}\n",
      "\n",
      "\n",
      "kingdom --> parent list:\n",
      "{'superkingdom', 'no rank'}\n",
      "\n",
      "\n",
      "subphylum --> parent list:\n",
      "{'no rank', 'phylum'}\n",
      "\n",
      "\n",
      "superfamily --> parent list:\n",
      "{'no rank', 'suborder', 'class', 'order', 'infraorder', 'superfamily', 'parvorder', 'subclass'}\n",
      "\n",
      "\n",
      "infraorder --> parent list:\n",
      "{'suborder', 'order', 'no rank'}\n",
      "\n",
      "\n",
      "infraclass --> parent list:\n",
      "{'no rank', 'subclass'}\n",
      "\n",
      "\n",
      "superorder --> parent list:\n",
      "{'no rank', 'cohort', 'class', 'infraclass', 'subclass'}\n",
      "\n",
      "\n",
      "subgenus --> parent list:\n",
      "{'genus', 'no rank', 'family', 'tribe', 'subfamily'}\n",
      "\n",
      "\n",
      "superclass --> parent list:\n",
      "{'no rank'}\n",
      "\n",
      "\n",
      "parvorder --> parent list:\n",
      "{'infraorder', 'no rank'}\n",
      "\n",
      "\n",
      "superphylum --> parent list:\n",
      "{'no rank', 'kingdom'}\n",
      "\n",
      "\n",
      "species group --> parent list:\n",
      "{'subgenus', 'family', 'genus', 'no rank'}\n",
      "\n",
      "\n",
      "species subgroup --> parent list:\n",
      "{'species group', 'genus'}\n",
      "\n",
      "\n",
      "cohort --> parent list:\n",
      "{'infraclass'}\n",
      "\n",
      "\n",
      "subtribe --> parent list:\n",
      "{'family', 'tribe', 'subfamily', 'no rank'}\n",
      "\n",
      "\n",
      "subkingdom --> parent list:\n",
      "{'kingdom'}\n",
      "\n",
      "\n"
     ]
    }
   ],
   "source": [
    "for key, value in c2p.items():\n",
    "    print ('{} --> parent list:'.format(key))\n",
    "    print(value)\n",
    "    print('\\n')"
   ]
  },
  {
   "cell_type": "markdown",
   "metadata": {},
   "source": [
    "# ranks"
   ]
  },
  {
   "cell_type": "code",
   "execution_count": 12,
   "metadata": {},
   "outputs": [
    {
     "name": "stdout",
     "output_type": "stream",
     "text": [
      "30\n"
     ]
    },
    {
     "data": {
      "text/plain": [
       "array(['no rank', 'superkingdom', 'genus', 'species', 'order', 'family',\n",
       "       'subspecies', 'subfamily', 'tribe', 'phylum', 'class', 'forma',\n",
       "       'suborder', 'subclass', 'varietas', 'kingdom', 'subphylum',\n",
       "       'superfamily', 'infraorder', 'infraclass', 'superorder', 'subgenus',\n",
       "       'superclass', 'parvorder', 'superphylum', 'species group',\n",
       "       'species subgroup', 'cohort', 'subtribe', 'subkingdom'], dtype=object)"
      ]
     },
     "execution_count": 12,
     "metadata": {},
     "output_type": "execute_result"
    }
   ],
   "source": [
    "print(len(taxa_df['rank'].unique()))\n",
    "taxa_df['rank'].unique()"
   ]
  },
  {
   "cell_type": "markdown",
   "metadata": {},
   "source": [
    "# Both Parent and Child at the same time in the reference list? \n",
    "## yes!"
   ]
  },
  {
   "cell_type": "code",
   "execution_count": 87,
   "metadata": {},
   "outputs": [
    {
     "name": "stdout",
     "output_type": "stream",
     "text": [
      "4815\n",
      "4815\n"
     ]
    },
    {
     "data": {
      "text/html": [
       "<div>\n",
       "<style>\n",
       "    .dataframe thead tr:only-child th {\n",
       "        text-align: right;\n",
       "    }\n",
       "\n",
       "    .dataframe thead th {\n",
       "        text-align: left;\n",
       "    }\n",
       "\n",
       "    .dataframe tbody tr th {\n",
       "        vertical-align: top;\n",
       "    }\n",
       "</style>\n",
       "<table border=\"1\" class=\"dataframe\">\n",
       "  <thead>\n",
       "    <tr style=\"text-align: right;\">\n",
       "      <th></th>\n",
       "      <th>refName</th>\n",
       "      <th>refId</th>\n",
       "      <th>taxaId</th>\n",
       "      <th>pid</th>\n",
       "      <th>rank</th>\n",
       "    </tr>\n",
       "  </thead>\n",
       "  <tbody>\n",
       "    <tr>\n",
       "      <th>0</th>\n",
       "      <td>gi|9791176|ref|NC_002180.1|</td>\n",
       "      <td>1986029</td>\n",
       "      <td>1986029</td>\n",
       "      <td>40274</td>\n",
       "      <td>species</td>\n",
       "    </tr>\n",
       "    <tr>\n",
       "      <th>1</th>\n",
       "      <td>gi|10803547|ref|NC_001869.1|</td>\n",
       "      <td>64091</td>\n",
       "      <td>64091</td>\n",
       "      <td>2242</td>\n",
       "      <td>no rank</td>\n",
       "    </tr>\n",
       "    <tr>\n",
       "      <th>2</th>\n",
       "      <td>gi|15789340|ref|NC_002607.1|</td>\n",
       "      <td>64091</td>\n",
       "      <td>64091</td>\n",
       "      <td>2242</td>\n",
       "      <td>no rank</td>\n",
       "    </tr>\n",
       "    <tr>\n",
       "      <th>3</th>\n",
       "      <td>gi|16119979|ref|NC_002608.1|</td>\n",
       "      <td>64091</td>\n",
       "      <td>64091</td>\n",
       "      <td>2242</td>\n",
       "      <td>no rank</td>\n",
       "    </tr>\n",
       "    <tr>\n",
       "      <th>4</th>\n",
       "      <td>gi|10954488|ref|NC_001732.1|</td>\n",
       "      <td>243232</td>\n",
       "      <td>243232</td>\n",
       "      <td>2190</td>\n",
       "      <td>no rank</td>\n",
       "    </tr>\n",
       "  </tbody>\n",
       "</table>\n",
       "</div>"
      ],
      "text/plain": [
       "                        refName    refId   taxaId    pid     rank\n",
       "0   gi|9791176|ref|NC_002180.1|  1986029  1986029  40274  species\n",
       "1  gi|10803547|ref|NC_001869.1|    64091    64091   2242  no rank\n",
       "2  gi|15789340|ref|NC_002607.1|    64091    64091   2242  no rank\n",
       "3  gi|16119979|ref|NC_002608.1|    64091    64091   2242  no rank\n",
       "4  gi|10954488|ref|NC_001732.1|   243232   243232   2190  no rank"
      ]
     },
     "execution_count": 87,
     "metadata": {},
     "output_type": "execute_result"
    }
   ],
   "source": [
    "ref2taxaLevel = pd.merge(refId2TaxId, taxa_df, left_on=\"refId\", right_on=\"taxaId\")\n",
    "print(len(refId2TaxId))\n",
    "print(len(ref2taxaLevel))\n",
    "ref2taxaLevel.head()"
   ]
  },
  {
   "cell_type": "code",
   "execution_count": 27,
   "metadata": {
    "collapsed": true
   },
   "outputs": [],
   "source": [
    "a = set()\n",
    "for t in ref2taxaLevel.taxaId:\n",
    "    a.add(t)"
   ]
  },
  {
   "cell_type": "code",
   "execution_count": 29,
   "metadata": {
    "collapsed": true
   },
   "outputs": [],
   "source": [
    "b = set()\n",
    "for t in ref2taxaLevel.taxaId:\n",
    "    b.add(c2pid[t])"
   ]
  },
  {
   "cell_type": "markdown",
   "metadata": {},
   "source": [
    "List of reference taxa that are parents of some children in the same list"
   ]
  },
  {
   "cell_type": "code",
   "execution_count": 30,
   "metadata": {},
   "outputs": [
    {
     "data": {
      "text/plain": [
       "{316,\n",
       " 340,\n",
       " 813,\n",
       " 1148,\n",
       " 1604,\n",
       " 1639,\n",
       " 2110,\n",
       " 29447,\n",
       " 40041,\n",
       " 91891,\n",
       " 107806,\n",
       " 190650,\n",
       " 192222,\n",
       " 196627,\n",
       " 208964,\n",
       " 523796,\n",
       " 543891,\n",
       " 869727,\n",
       " 907287,\n",
       " 941967,\n",
       " 1001534,\n",
       " 1071763,\n",
       " 1263406,\n",
       " 1283330,\n",
       " 1306414}"
      ]
     },
     "execution_count": 30,
     "metadata": {},
     "output_type": "execute_result"
    }
   ],
   "source": [
    "a.intersection(b)"
   ]
  },
  {
   "cell_type": "markdown",
   "metadata": {},
   "source": [
    "# Reference Rank Distribution\n",
    "### Note: Not all the \"no rank\"s are the same!!"
   ]
  },
  {
   "cell_type": "code",
   "execution_count": 42,
   "metadata": {},
   "outputs": [
    {
     "data": {
      "text/html": [
       "<div>\n",
       "<style>\n",
       "    .dataframe thead tr:only-child th {\n",
       "        text-align: right;\n",
       "    }\n",
       "\n",
       "    .dataframe thead th {\n",
       "        text-align: left;\n",
       "    }\n",
       "\n",
       "    .dataframe tbody tr th {\n",
       "        vertical-align: top;\n",
       "    }\n",
       "</style>\n",
       "<table border=\"1\" class=\"dataframe\">\n",
       "  <thead>\n",
       "    <tr style=\"text-align: right;\">\n",
       "      <th></th>\n",
       "      <th>refName</th>\n",
       "      <th>refId</th>\n",
       "      <th>taxaId</th>\n",
       "    </tr>\n",
       "    <tr>\n",
       "      <th>rank</th>\n",
       "      <th></th>\n",
       "      <th></th>\n",
       "      <th></th>\n",
       "    </tr>\n",
       "  </thead>\n",
       "  <tbody>\n",
       "    <tr>\n",
       "      <th>no rank</th>\n",
       "      <td>4336</td>\n",
       "      <td>4336</td>\n",
       "      <td>4336</td>\n",
       "    </tr>\n",
       "    <tr>\n",
       "      <th>species</th>\n",
       "      <td>465</td>\n",
       "      <td>465</td>\n",
       "      <td>465</td>\n",
       "    </tr>\n",
       "    <tr>\n",
       "      <th>subspecies</th>\n",
       "      <td>14</td>\n",
       "      <td>14</td>\n",
       "      <td>14</td>\n",
       "    </tr>\n",
       "  </tbody>\n",
       "</table>\n",
       "</div>"
      ],
      "text/plain": [
       "            refName  refId  taxaId\n",
       "rank                              \n",
       "no rank        4336   4336    4336\n",
       "species         465    465     465\n",
       "subspecies       14     14      14"
      ]
     },
     "execution_count": 42,
     "metadata": {},
     "output_type": "execute_result"
    }
   ],
   "source": [
    "ref2taxaLevel.groupby('rank').count()"
   ]
  },
  {
   "cell_type": "markdown",
   "metadata": {},
   "source": [
    "# Analysis of the truth "
   ]
  },
  {
   "cell_type": "code",
   "execution_count": null,
   "metadata": {
    "collapsed": true
   },
   "outputs": [],
   "source": [
    "truth = '/mnt/scratch2/avi/meta-map/kraken/meta/truth.txt'\n"
   ]
  }
 ],
 "metadata": {
  "kernelspec": {
   "display_name": "Python 3",
   "language": "python",
   "name": "python3"
  },
  "language_info": {
   "codemirror_mode": {
    "name": "ipython",
    "version": 3
   },
   "file_extension": ".py",
   "mimetype": "text/x-python",
   "name": "python",
   "nbconvert_exporter": "python",
   "pygments_lexer": "ipython3",
   "version": "3.6.1"
  }
 },
 "nbformat": 4,
 "nbformat_minor": 2
}
