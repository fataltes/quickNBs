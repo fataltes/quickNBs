{
 "cells": [
  {
   "cell_type": "code",
   "execution_count": 236,
   "metadata": {
    "collapsed": true
   },
   "outputs": [],
   "source": [
    "import pandas as pd\n",
    "import numpy as np\n",
    "from scipy.stats import spearmanr\n",
    "def mard(df, c1, c2):\n",
    "    a = abs(df[c1]-df[c2])/(df[c1]+df[c2])\n",
    "    return a.sum()/a.count()"
   ]
  },
  {
   "cell_type": "markdown",
   "metadata": {},
   "source": [
    "# Loading Reference name to Taxa Id file"
   ]
  },
  {
   "cell_type": "code",
   "execution_count": 4,
   "metadata": {
    "collapsed": true
   },
   "outputs": [],
   "source": [
    "ref = \"/mnt/scratch2/avi/meta-map/kraken/KrakenDB/seqid2taxid.map\"\n",
    "with open(ref) as f:\n",
    "    refId2TaxId = pd.read_csv(f, header=None, sep=\"\\t\", names=[\"refName\", \"refId\"])"
   ]
  },
  {
   "cell_type": "code",
   "execution_count": 420,
   "metadata": {},
   "outputs": [
    {
     "data": {
      "text/html": [
       "<div>\n",
       "<style>\n",
       "    .dataframe thead tr:only-child th {\n",
       "        text-align: right;\n",
       "    }\n",
       "\n",
       "    .dataframe thead th {\n",
       "        text-align: left;\n",
       "    }\n",
       "\n",
       "    .dataframe tbody tr th {\n",
       "        vertical-align: top;\n",
       "    }\n",
       "</style>\n",
       "<table border=\"1\" class=\"dataframe\">\n",
       "  <thead>\n",
       "    <tr style=\"text-align: right;\">\n",
       "      <th></th>\n",
       "      <th>refName</th>\n",
       "      <th>refId</th>\n",
       "    </tr>\n",
       "  </thead>\n",
       "  <tbody>\n",
       "  </tbody>\n",
       "</table>\n",
       "</div>"
      ],
      "text/plain": [
       "Empty DataFrame\n",
       "Columns: [refName, refId]\n",
       "Index: []"
      ]
     },
     "execution_count": 420,
     "metadata": {},
     "output_type": "execute_result"
    }
   ],
   "source": [
    "refId2TaxId[refId2TaxId.refId == 964]"
   ]
  },
  {
   "cell_type": "code",
   "execution_count": 416,
   "metadata": {},
   "outputs": [
    {
     "data": {
      "text/html": [
       "<div>\n",
       "<style>\n",
       "    .dataframe thead tr:only-child th {\n",
       "        text-align: right;\n",
       "    }\n",
       "\n",
       "    .dataframe thead th {\n",
       "        text-align: left;\n",
       "    }\n",
       "\n",
       "    .dataframe tbody tr th {\n",
       "        vertical-align: top;\n",
       "    }\n",
       "</style>\n",
       "<table border=\"1\" class=\"dataframe\">\n",
       "  <thead>\n",
       "    <tr style=\"text-align: right;\">\n",
       "      <th></th>\n",
       "      <th>refName</th>\n",
       "      <th>refId</th>\n",
       "    </tr>\n",
       "  </thead>\n",
       "  <tbody>\n",
       "  </tbody>\n",
       "</table>\n",
       "</div>"
      ],
      "text/plain": [
       "Empty DataFrame\n",
       "Columns: [refName, refId]\n",
       "Index: []"
      ]
     },
     "execution_count": 416,
     "metadata": {},
     "output_type": "execute_result"
    }
   ],
   "source": [
    "refId2TaxId[refId2TaxId.refName == 'gi|330822653|ref|NC_015422.1']"
   ]
  },
  {
   "cell_type": "markdown",
   "metadata": {},
   "source": [
    "# Loading Taxonomy Tree\n",
    "### Taxum ID , Taxum Rank , Taxum Parent ID"
   ]
  },
  {
   "cell_type": "code",
   "execution_count": 31,
   "metadata": {
    "collapsed": true
   },
   "outputs": [],
   "source": [
    "tf = \"/mnt/scratch2/avi/meta-map/kraken/KrakenDB/taxonomy/nodes.dmp\"\n",
    "taxa = []\n",
    "id2rank = {}\n",
    "with open(tf) as f:\n",
    "    for line in f:\n",
    "        toks = line.rstrip(\"\\t|\\n\").split(\"\\t|\\t\")\n",
    "        taxa += [[int(toks[0]), int(toks[1]), toks[2]]]\n",
    "        id2rank[int(toks[0])] = toks[2]\n",
    "taxa_df = pd.DataFrame.from_records(taxa)\n",
    "taxa_df.columns = [\"taxaId\", \"pid\", \"rank\"]"
   ]
  },
  {
   "cell_type": "code",
   "execution_count": 32,
   "metadata": {},
   "outputs": [
    {
     "data": {
      "text/html": [
       "<div>\n",
       "<style>\n",
       "    .dataframe thead tr:only-child th {\n",
       "        text-align: right;\n",
       "    }\n",
       "\n",
       "    .dataframe thead th {\n",
       "        text-align: left;\n",
       "    }\n",
       "\n",
       "    .dataframe tbody tr th {\n",
       "        vertical-align: top;\n",
       "    }\n",
       "</style>\n",
       "<table border=\"1\" class=\"dataframe\">\n",
       "  <thead>\n",
       "    <tr style=\"text-align: right;\">\n",
       "      <th></th>\n",
       "      <th>taxaId</th>\n",
       "      <th>pid</th>\n",
       "      <th>rank</th>\n",
       "    </tr>\n",
       "  </thead>\n",
       "  <tbody>\n",
       "    <tr>\n",
       "      <th>0</th>\n",
       "      <td>1</td>\n",
       "      <td>1</td>\n",
       "      <td>no rank</td>\n",
       "    </tr>\n",
       "    <tr>\n",
       "      <th>1</th>\n",
       "      <td>2</td>\n",
       "      <td>131567</td>\n",
       "      <td>superkingdom</td>\n",
       "    </tr>\n",
       "    <tr>\n",
       "      <th>2</th>\n",
       "      <td>6</td>\n",
       "      <td>335928</td>\n",
       "      <td>genus</td>\n",
       "    </tr>\n",
       "    <tr>\n",
       "      <th>3</th>\n",
       "      <td>7</td>\n",
       "      <td>6</td>\n",
       "      <td>species</td>\n",
       "    </tr>\n",
       "    <tr>\n",
       "      <th>4</th>\n",
       "      <td>9</td>\n",
       "      <td>32199</td>\n",
       "      <td>species</td>\n",
       "    </tr>\n",
       "  </tbody>\n",
       "</table>\n",
       "</div>"
      ],
      "text/plain": [
       "   taxaId     pid          rank\n",
       "0       1       1       no rank\n",
       "1       2  131567  superkingdom\n",
       "2       6  335928         genus\n",
       "3       7       6       species\n",
       "4       9   32199       species"
      ]
     },
     "execution_count": 32,
     "metadata": {},
     "output_type": "execute_result"
    }
   ],
   "source": [
    "taxa_df.head()"
   ]
  },
  {
   "cell_type": "code",
   "execution_count": 421,
   "metadata": {},
   "outputs": [
    {
     "data": {
      "text/html": [
       "<div>\n",
       "<style>\n",
       "    .dataframe thead tr:only-child th {\n",
       "        text-align: right;\n",
       "    }\n",
       "\n",
       "    .dataframe thead th {\n",
       "        text-align: left;\n",
       "    }\n",
       "\n",
       "    .dataframe tbody tr th {\n",
       "        vertical-align: top;\n",
       "    }\n",
       "</style>\n",
       "<table border=\"1\" class=\"dataframe\">\n",
       "  <thead>\n",
       "    <tr style=\"text-align: right;\">\n",
       "      <th></th>\n",
       "      <th>taxaId</th>\n",
       "      <th>pid</th>\n",
       "      <th>rank</th>\n",
       "    </tr>\n",
       "  </thead>\n",
       "  <tbody>\n",
       "    <tr>\n",
       "      <th>742</th>\n",
       "      <td>964</td>\n",
       "      <td>963</td>\n",
       "      <td>species</td>\n",
       "    </tr>\n",
       "  </tbody>\n",
       "</table>\n",
       "</div>"
      ],
      "text/plain": [
       "     taxaId  pid     rank\n",
       "742     964  963  species"
      ]
     },
     "execution_count": 421,
     "metadata": {},
     "output_type": "execute_result"
    }
   ],
   "source": [
    "a = taxa_df[taxa_df.taxaId == 964]\n",
    "a"
   ]
  },
  {
   "cell_type": "markdown",
   "metadata": {},
   "source": [
    "# List of Leaves\n",
    "\n",
    "Right join of **pid** and **cid** (parent and child)\n",
    "And then looking for any child that has never been a parent : with parent = **nan**"
   ]
  },
  {
   "cell_type": "code",
   "execution_count": 74,
   "metadata": {
    "collapsed": true
   },
   "outputs": [],
   "source": [
    "leaves = pd.merge(taxa_df[['pid']], taxa_df[['taxaId', 'rank']], left_on='pid', right_on='taxaId', how='right')"
   ]
  },
  {
   "cell_type": "code",
   "execution_count": 75,
   "metadata": {},
   "outputs": [
    {
     "name": "stdout",
     "output_type": "stream",
     "text": [
      "1528122\n"
     ]
    },
    {
     "data": {
      "text/html": [
       "<div>\n",
       "<style>\n",
       "    .dataframe thead tr:only-child th {\n",
       "        text-align: right;\n",
       "    }\n",
       "\n",
       "    .dataframe thead th {\n",
       "        text-align: left;\n",
       "    }\n",
       "\n",
       "    .dataframe tbody tr th {\n",
       "        vertical-align: top;\n",
       "    }\n",
       "</style>\n",
       "<table border=\"1\" class=\"dataframe\">\n",
       "  <thead>\n",
       "    <tr style=\"text-align: right;\">\n",
       "      <th></th>\n",
       "      <th>taxaId</th>\n",
       "      <th>rank</th>\n",
       "    </tr>\n",
       "  </thead>\n",
       "  <tbody>\n",
       "    <tr>\n",
       "      <th>1669515</th>\n",
       "      <td>25</td>\n",
       "      <td>species</td>\n",
       "    </tr>\n",
       "    <tr>\n",
       "      <th>1669516</th>\n",
       "      <td>27</td>\n",
       "      <td>species</td>\n",
       "    </tr>\n",
       "    <tr>\n",
       "      <th>1669517</th>\n",
       "      <td>28</td>\n",
       "      <td>species</td>\n",
       "    </tr>\n",
       "    <tr>\n",
       "      <th>1669518</th>\n",
       "      <td>38</td>\n",
       "      <td>species</td>\n",
       "    </tr>\n",
       "    <tr>\n",
       "      <th>1669519</th>\n",
       "      <td>45</td>\n",
       "      <td>species</td>\n",
       "    </tr>\n",
       "  </tbody>\n",
       "</table>\n",
       "</div>"
      ],
      "text/plain": [
       "         taxaId     rank\n",
       "1669515      25  species\n",
       "1669516      27  species\n",
       "1669517      28  species\n",
       "1669518      38  species\n",
       "1669519      45  species"
      ]
     },
     "execution_count": 75,
     "metadata": {},
     "output_type": "execute_result"
    }
   ],
   "source": [
    "leaves = leaves[np.isnan(leaves['pid'])][['taxaId', 'rank']]\n",
    "print(len(leaves))\n",
    "leaves.head()"
   ]
  },
  {
   "cell_type": "markdown",
   "metadata": {},
   "source": [
    "# List of Roots\n",
    "Left join of **pid** and **cid** (parent and child) And then looking for any parent that is never a child : child = **nan** parent"
   ]
  },
  {
   "cell_type": "code",
   "execution_count": 81,
   "metadata": {},
   "outputs": [
    {
     "data": {
      "text/html": [
       "<div>\n",
       "<style>\n",
       "    .dataframe thead tr:only-child th {\n",
       "        text-align: right;\n",
       "    }\n",
       "\n",
       "    .dataframe thead th {\n",
       "        text-align: left;\n",
       "    }\n",
       "\n",
       "    .dataframe tbody tr th {\n",
       "        vertical-align: top;\n",
       "    }\n",
       "</style>\n",
       "<table border=\"1\" class=\"dataframe\">\n",
       "  <thead>\n",
       "    <tr style=\"text-align: right;\">\n",
       "      <th></th>\n",
       "      <th>pid_x</th>\n",
       "      <th>rank</th>\n",
       "      <th>taxaId</th>\n",
       "      <th>pid_y</th>\n",
       "    </tr>\n",
       "  </thead>\n",
       "  <tbody>\n",
       "    <tr>\n",
       "      <th>0</th>\n",
       "      <td>1</td>\n",
       "      <td>no rank</td>\n",
       "      <td>1</td>\n",
       "      <td>1</td>\n",
       "    </tr>\n",
       "    <tr>\n",
       "      <th>8284</th>\n",
       "      <td>1</td>\n",
       "      <td>superkingdom</td>\n",
       "      <td>1</td>\n",
       "      <td>1</td>\n",
       "    </tr>\n",
       "    <tr>\n",
       "      <th>9909</th>\n",
       "      <td>1</td>\n",
       "      <td>superkingdom</td>\n",
       "      <td>1</td>\n",
       "      <td>1</td>\n",
       "    </tr>\n",
       "    <tr>\n",
       "      <th>9931</th>\n",
       "      <td>1</td>\n",
       "      <td>no rank</td>\n",
       "      <td>1</td>\n",
       "      <td>1</td>\n",
       "    </tr>\n",
       "    <tr>\n",
       "      <th>12110</th>\n",
       "      <td>1</td>\n",
       "      <td>no rank</td>\n",
       "      <td>1</td>\n",
       "      <td>1</td>\n",
       "    </tr>\n",
       "    <tr>\n",
       "      <th>101269</th>\n",
       "      <td>1</td>\n",
       "      <td>no rank</td>\n",
       "      <td>1</td>\n",
       "      <td>1</td>\n",
       "    </tr>\n",
       "  </tbody>\n",
       "</table>\n",
       "</div>"
      ],
      "text/plain": [
       "        pid_x          rank  taxaId  pid_y\n",
       "0           1       no rank       1      1\n",
       "8284        1  superkingdom       1      1\n",
       "9909        1  superkingdom       1      1\n",
       "9931        1       no rank       1      1\n",
       "12110       1       no rank       1      1\n",
       "101269      1       no rank       1      1"
      ]
     },
     "execution_count": 81,
     "metadata": {},
     "output_type": "execute_result"
    }
   ],
   "source": [
    "roots = pd.merge(taxa_df[['pid', 'rank']], taxa_df[['taxaId', 'pid']], left_on='pid', right_on='taxaId', how='left')\n",
    "#roots = roots[np.isnan(roots['taxaId'])][['pid', 'rank']]\n",
    "roots[roots['taxaId'] == roots['pid_y']]"
   ]
  },
  {
   "cell_type": "code",
   "execution_count": 78,
   "metadata": {
    "collapsed": true
   },
   "outputs": [],
   "source": [
    "c2p = {}\n",
    "c2pid = {}\n",
    "with open(tf) as f:\n",
    "    for line in f:\n",
    "        toks = line.rstrip(\"\\t|\\n\").split(\"\\t|\\t\")\n",
    "        c2pid[int(toks[0])] = int(toks[1])\n",
    "        if id2rank[int(toks[0])] not in c2p:\n",
    "            c2p[id2rank[int(toks[0])]] = set()\n",
    "        c2p[id2rank[int(toks[0])]].add(id2rank[int(toks[1])])"
   ]
  },
  {
   "cell_type": "markdown",
   "metadata": {},
   "source": [
    "# Child -> Parent"
   ]
  },
  {
   "cell_type": "code",
   "execution_count": 24,
   "metadata": {
    "scrolled": true
   },
   "outputs": [
    {
     "name": "stdout",
     "output_type": "stream",
     "text": [
      "no rank --> parent list:\n",
      "{'genus', 'no rank', 'superorder', 'species subgroup', 'superclass', 'infraorder', 'superfamily', 'tribe', 'superkingdom', 'parvorder', 'subtribe', 'suborder', 'cohort', 'subspecies', 'species', 'phylum', 'infraclass', 'order', 'varietas', 'subphylum', 'subfamily', 'subclass', 'family', 'subkingdom', 'class', 'forma', 'species group', 'subgenus', 'kingdom'}\n",
      "\n",
      "\n",
      "superkingdom --> parent list:\n",
      "{'no rank'}\n",
      "\n",
      "\n",
      "genus --> parent list:\n",
      "{'no rank', 'suborder', 'family', 'class', 'phylum', 'infraclass', 'order', 'superkingdom', 'subtribe', 'superfamily', 'tribe', 'subfamily', 'subphylum', 'subclass'}\n",
      "\n",
      "\n",
      "species --> parent list:\n",
      "{'genus', 'no rank', 'suborder', 'family', 'class', 'species', 'phylum', 'species subgroup', 'species group', 'order', 'subgenus', 'superfamily', 'tribe', 'subfamily', 'subclass'}\n",
      "\n",
      "\n",
      "order --> parent list:\n",
      "{'no rank', 'superorder', 'cohort', 'class', 'phylum', 'infraclass', 'subphylum', 'superkingdom', 'subclass'}\n",
      "\n",
      "\n",
      "family --> parent list:\n",
      "{'no rank', 'superorder', 'suborder', 'parvorder', 'class', 'phylum', 'order', 'infraorder', 'superfamily', 'superkingdom', 'subphylum', 'subclass'}\n",
      "\n",
      "\n",
      "subspecies --> parent list:\n",
      "{'subgenus', 'genus', 'species', 'no rank'}\n",
      "\n",
      "\n",
      "subfamily --> parent list:\n",
      "{'no rank', 'suborder', 'family', 'order', 'superfamily'}\n",
      "\n",
      "\n",
      "tribe --> parent list:\n",
      "{'family', 'subfamily', 'no rank'}\n",
      "\n",
      "\n",
      "phylum --> parent list:\n",
      "{'superphylum', 'no rank', 'subkingdom', 'superkingdom', 'kingdom'}\n",
      "\n",
      "\n",
      "class --> parent list:\n",
      "{'no rank', 'phylum', 'superclass', 'subphylum', 'superkingdom'}\n",
      "\n",
      "\n",
      "forma --> parent list:\n",
      "{'varietas', 'genus', 'species', 'subspecies'}\n",
      "\n",
      "\n",
      "suborder --> parent list:\n",
      "{'no rank', 'superorder', 'class', 'phylum', 'order'}\n",
      "\n",
      "\n",
      "subclass --> parent list:\n",
      "{'class', 'no rank', 'phylum'}\n",
      "\n",
      "\n",
      "varietas --> parent list:\n",
      "{'genus', 'species', 'subspecies'}\n",
      "\n",
      "\n",
      "kingdom --> parent list:\n",
      "{'superkingdom', 'no rank'}\n",
      "\n",
      "\n",
      "subphylum --> parent list:\n",
      "{'no rank', 'phylum'}\n",
      "\n",
      "\n",
      "superfamily --> parent list:\n",
      "{'no rank', 'suborder', 'class', 'order', 'infraorder', 'superfamily', 'parvorder', 'subclass'}\n",
      "\n",
      "\n",
      "infraorder --> parent list:\n",
      "{'suborder', 'order', 'no rank'}\n",
      "\n",
      "\n",
      "infraclass --> parent list:\n",
      "{'no rank', 'subclass'}\n",
      "\n",
      "\n",
      "superorder --> parent list:\n",
      "{'no rank', 'cohort', 'class', 'infraclass', 'subclass'}\n",
      "\n",
      "\n",
      "subgenus --> parent list:\n",
      "{'genus', 'no rank', 'family', 'tribe', 'subfamily'}\n",
      "\n",
      "\n",
      "superclass --> parent list:\n",
      "{'no rank'}\n",
      "\n",
      "\n",
      "parvorder --> parent list:\n",
      "{'infraorder', 'no rank'}\n",
      "\n",
      "\n",
      "superphylum --> parent list:\n",
      "{'no rank', 'kingdom'}\n",
      "\n",
      "\n",
      "species group --> parent list:\n",
      "{'subgenus', 'family', 'genus', 'no rank'}\n",
      "\n",
      "\n",
      "species subgroup --> parent list:\n",
      "{'species group', 'genus'}\n",
      "\n",
      "\n",
      "cohort --> parent list:\n",
      "{'infraclass'}\n",
      "\n",
      "\n",
      "subtribe --> parent list:\n",
      "{'family', 'tribe', 'subfamily', 'no rank'}\n",
      "\n",
      "\n",
      "subkingdom --> parent list:\n",
      "{'kingdom'}\n",
      "\n",
      "\n"
     ]
    }
   ],
   "source": [
    "for key, value in c2p.items():\n",
    "    print ('{} --> parent list:'.format(key))\n",
    "    print(value)\n",
    "    print('\\n')"
   ]
  },
  {
   "cell_type": "markdown",
   "metadata": {},
   "source": [
    "# ranks"
   ]
  },
  {
   "cell_type": "code",
   "execution_count": 12,
   "metadata": {},
   "outputs": [
    {
     "name": "stdout",
     "output_type": "stream",
     "text": [
      "30\n"
     ]
    },
    {
     "data": {
      "text/plain": [
       "array(['no rank', 'superkingdom', 'genus', 'species', 'order', 'family',\n",
       "       'subspecies', 'subfamily', 'tribe', 'phylum', 'class', 'forma',\n",
       "       'suborder', 'subclass', 'varietas', 'kingdom', 'subphylum',\n",
       "       'superfamily', 'infraorder', 'infraclass', 'superorder', 'subgenus',\n",
       "       'superclass', 'parvorder', 'superphylum', 'species group',\n",
       "       'species subgroup', 'cohort', 'subtribe', 'subkingdom'], dtype=object)"
      ]
     },
     "execution_count": 12,
     "metadata": {},
     "output_type": "execute_result"
    }
   ],
   "source": [
    "print(len(taxa_df['rank'].unique()))\n",
    "taxa_df['rank'].unique()"
   ]
  },
  {
   "cell_type": "markdown",
   "metadata": {},
   "source": [
    "# Both Parent and Child at the same time in the reference list? \n",
    "## yes!"
   ]
  },
  {
   "cell_type": "code",
   "execution_count": 87,
   "metadata": {},
   "outputs": [
    {
     "name": "stdout",
     "output_type": "stream",
     "text": [
      "4815\n",
      "4815\n"
     ]
    },
    {
     "data": {
      "text/html": [
       "<div>\n",
       "<style>\n",
       "    .dataframe thead tr:only-child th {\n",
       "        text-align: right;\n",
       "    }\n",
       "\n",
       "    .dataframe thead th {\n",
       "        text-align: left;\n",
       "    }\n",
       "\n",
       "    .dataframe tbody tr th {\n",
       "        vertical-align: top;\n",
       "    }\n",
       "</style>\n",
       "<table border=\"1\" class=\"dataframe\">\n",
       "  <thead>\n",
       "    <tr style=\"text-align: right;\">\n",
       "      <th></th>\n",
       "      <th>refName</th>\n",
       "      <th>refId</th>\n",
       "      <th>taxaId</th>\n",
       "      <th>pid</th>\n",
       "      <th>rank</th>\n",
       "    </tr>\n",
       "  </thead>\n",
       "  <tbody>\n",
       "    <tr>\n",
       "      <th>0</th>\n",
       "      <td>gi|9791176|ref|NC_002180.1|</td>\n",
       "      <td>1986029</td>\n",
       "      <td>1986029</td>\n",
       "      <td>40274</td>\n",
       "      <td>species</td>\n",
       "    </tr>\n",
       "    <tr>\n",
       "      <th>1</th>\n",
       "      <td>gi|10803547|ref|NC_001869.1|</td>\n",
       "      <td>64091</td>\n",
       "      <td>64091</td>\n",
       "      <td>2242</td>\n",
       "      <td>no rank</td>\n",
       "    </tr>\n",
       "    <tr>\n",
       "      <th>2</th>\n",
       "      <td>gi|15789340|ref|NC_002607.1|</td>\n",
       "      <td>64091</td>\n",
       "      <td>64091</td>\n",
       "      <td>2242</td>\n",
       "      <td>no rank</td>\n",
       "    </tr>\n",
       "    <tr>\n",
       "      <th>3</th>\n",
       "      <td>gi|16119979|ref|NC_002608.1|</td>\n",
       "      <td>64091</td>\n",
       "      <td>64091</td>\n",
       "      <td>2242</td>\n",
       "      <td>no rank</td>\n",
       "    </tr>\n",
       "    <tr>\n",
       "      <th>4</th>\n",
       "      <td>gi|10954488|ref|NC_001732.1|</td>\n",
       "      <td>243232</td>\n",
       "      <td>243232</td>\n",
       "      <td>2190</td>\n",
       "      <td>no rank</td>\n",
       "    </tr>\n",
       "  </tbody>\n",
       "</table>\n",
       "</div>"
      ],
      "text/plain": [
       "                        refName    refId   taxaId    pid     rank\n",
       "0   gi|9791176|ref|NC_002180.1|  1986029  1986029  40274  species\n",
       "1  gi|10803547|ref|NC_001869.1|    64091    64091   2242  no rank\n",
       "2  gi|15789340|ref|NC_002607.1|    64091    64091   2242  no rank\n",
       "3  gi|16119979|ref|NC_002608.1|    64091    64091   2242  no rank\n",
       "4  gi|10954488|ref|NC_001732.1|   243232   243232   2190  no rank"
      ]
     },
     "execution_count": 87,
     "metadata": {},
     "output_type": "execute_result"
    }
   ],
   "source": [
    "ref2taxaLevel = pd.merge(refId2TaxId, taxa_df, left_on=\"refId\", right_on=\"taxaId\")\n",
    "print(len(refId2TaxId))\n",
    "print(len(ref2taxaLevel))\n",
    "ref2taxaLevel.head()"
   ]
  },
  {
   "cell_type": "code",
   "execution_count": 149,
   "metadata": {},
   "outputs": [
    {
     "data": {
      "text/html": [
       "<div>\n",
       "<style>\n",
       "    .dataframe thead tr:only-child th {\n",
       "        text-align: right;\n",
       "    }\n",
       "\n",
       "    .dataframe thead th {\n",
       "        text-align: left;\n",
       "    }\n",
       "\n",
       "    .dataframe tbody tr th {\n",
       "        vertical-align: top;\n",
       "    }\n",
       "</style>\n",
       "<table border=\"1\" class=\"dataframe\">\n",
       "  <thead>\n",
       "    <tr style=\"text-align: right;\">\n",
       "      <th></th>\n",
       "      <th>refName</th>\n",
       "      <th>refId</th>\n",
       "      <th>taxaId</th>\n",
       "      <th>pid</th>\n",
       "      <th>rank</th>\n",
       "    </tr>\n",
       "  </thead>\n",
       "  <tbody>\n",
       "  </tbody>\n",
       "</table>\n",
       "</div>"
      ],
      "text/plain": [
       "Empty DataFrame\n",
       "Columns: [refName, refId, taxaId, pid, rank]\n",
       "Index: []"
      ]
     },
     "execution_count": 149,
     "metadata": {},
     "output_type": "execute_result"
    }
   ],
   "source": [
    "ref2taxaLevel[ref2taxaLevel['taxaId'] == 680]"
   ]
  },
  {
   "cell_type": "code",
   "execution_count": 27,
   "metadata": {
    "collapsed": true
   },
   "outputs": [],
   "source": [
    "a = set()\n",
    "for t in ref2taxaLevel.taxaId:\n",
    "    a.add(t)"
   ]
  },
  {
   "cell_type": "code",
   "execution_count": 29,
   "metadata": {
    "collapsed": true
   },
   "outputs": [],
   "source": [
    "b = set()\n",
    "for t in ref2taxaLevel.taxaId:\n",
    "    b.add(c2pid[t])"
   ]
  },
  {
   "cell_type": "markdown",
   "metadata": {},
   "source": [
    "List of reference taxa that are parents of some children in the same list"
   ]
  },
  {
   "cell_type": "code",
   "execution_count": 30,
   "metadata": {
    "collapsed": true
   },
   "outputs": [
    {
     "data": {
      "text/plain": [
       "{316,\n",
       " 340,\n",
       " 813,\n",
       " 1148,\n",
       " 1604,\n",
       " 1639,\n",
       " 2110,\n",
       " 29447,\n",
       " 40041,\n",
       " 91891,\n",
       " 107806,\n",
       " 190650,\n",
       " 192222,\n",
       " 196627,\n",
       " 208964,\n",
       " 523796,\n",
       " 543891,\n",
       " 869727,\n",
       " 907287,\n",
       " 941967,\n",
       " 1001534,\n",
       " 1071763,\n",
       " 1263406,\n",
       " 1283330,\n",
       " 1306414}"
      ]
     },
     "execution_count": 30,
     "metadata": {},
     "output_type": "execute_result"
    }
   ],
   "source": [
    "a.intersection(b)"
   ]
  },
  {
   "cell_type": "markdown",
   "metadata": {},
   "source": [
    "# Reference Rank Distribution\n",
    "### Note: Not all the \"no rank\"s are the same!!"
   ]
  },
  {
   "cell_type": "code",
   "execution_count": 42,
   "metadata": {
    "collapsed": true
   },
   "outputs": [
    {
     "data": {
      "text/html": [
       "<div>\n",
       "<style>\n",
       "    .dataframe thead tr:only-child th {\n",
       "        text-align: right;\n",
       "    }\n",
       "\n",
       "    .dataframe thead th {\n",
       "        text-align: left;\n",
       "    }\n",
       "\n",
       "    .dataframe tbody tr th {\n",
       "        vertical-align: top;\n",
       "    }\n",
       "</style>\n",
       "<table border=\"1\" class=\"dataframe\">\n",
       "  <thead>\n",
       "    <tr style=\"text-align: right;\">\n",
       "      <th></th>\n",
       "      <th>refName</th>\n",
       "      <th>refId</th>\n",
       "      <th>taxaId</th>\n",
       "    </tr>\n",
       "    <tr>\n",
       "      <th>rank</th>\n",
       "      <th></th>\n",
       "      <th></th>\n",
       "      <th></th>\n",
       "    </tr>\n",
       "  </thead>\n",
       "  <tbody>\n",
       "    <tr>\n",
       "      <th>no rank</th>\n",
       "      <td>4336</td>\n",
       "      <td>4336</td>\n",
       "      <td>4336</td>\n",
       "    </tr>\n",
       "    <tr>\n",
       "      <th>species</th>\n",
       "      <td>465</td>\n",
       "      <td>465</td>\n",
       "      <td>465</td>\n",
       "    </tr>\n",
       "    <tr>\n",
       "      <th>subspecies</th>\n",
       "      <td>14</td>\n",
       "      <td>14</td>\n",
       "      <td>14</td>\n",
       "    </tr>\n",
       "  </tbody>\n",
       "</table>\n",
       "</div>"
      ],
      "text/plain": [
       "            refName  refId  taxaId\n",
       "rank                              \n",
       "no rank        4336   4336    4336\n",
       "species         465    465     465\n",
       "subspecies       14     14      14"
      ]
     },
     "execution_count": 42,
     "metadata": {},
     "output_type": "execute_result"
    }
   ],
   "source": [
    "ref2taxaLevel.groupby('rank').count()"
   ]
  },
  {
   "cell_type": "markdown",
   "metadata": {},
   "source": [
    "# Analysis of the truth "
   ]
  },
  {
   "cell_type": "code",
   "execution_count": 100,
   "metadata": {
    "collapsed": true
   },
   "outputs": [],
   "source": [
    "truthfile = '/mnt/scratch2/avi/meta-map/kraken/meta/truth.txt'\n",
    "truth = pd.read_csv(truthfile, sep=\"\\t\")"
   ]
  },
  {
   "cell_type": "code",
   "execution_count": 101,
   "metadata": {},
   "outputs": [
    {
     "data": {
      "text/html": [
       "<div>\n",
       "<style>\n",
       "    .dataframe thead tr:only-child th {\n",
       "        text-align: right;\n",
       "    }\n",
       "\n",
       "    .dataframe thead th {\n",
       "        text-align: left;\n",
       "    }\n",
       "\n",
       "    .dataframe tbody tr th {\n",
       "        vertical-align: top;\n",
       "    }\n",
       "</style>\n",
       "<table border=\"1\" class=\"dataframe\">\n",
       "  <thead>\n",
       "    <tr style=\"text-align: right;\">\n",
       "      <th></th>\n",
       "      <th>taxid</th>\n",
       "      <th>counts</th>\n",
       "      <th>species</th>\n",
       "      <th>size</th>\n",
       "      <th>dataset</th>\n",
       "    </tr>\n",
       "  </thead>\n",
       "  <tbody>\n",
       "    <tr>\n",
       "      <th>0</th>\n",
       "      <td>79329</td>\n",
       "      <td>24666</td>\n",
       "      <td>Chitinophaga pinensis</td>\n",
       "      <td>9127347</td>\n",
       "      <td>Huttenhower_HC1</td>\n",
       "    </tr>\n",
       "    <tr>\n",
       "      <th>1</th>\n",
       "      <td>1836</td>\n",
       "      <td>22195</td>\n",
       "      <td>Saccharopolyspora erythraea</td>\n",
       "      <td>8079083</td>\n",
       "      <td>Huttenhower_HC1</td>\n",
       "    </tr>\n",
       "    <tr>\n",
       "      <th>2</th>\n",
       "      <td>152480</td>\n",
       "      <td>20654</td>\n",
       "      <td>Burkholderia ambifaria</td>\n",
       "      <td>8095900</td>\n",
       "      <td>Huttenhower_HC1</td>\n",
       "    </tr>\n",
       "    <tr>\n",
       "      <th>3</th>\n",
       "      <td>182640</td>\n",
       "      <td>20483</td>\n",
       "      <td>Kribbella flavida</td>\n",
       "      <td>7579488</td>\n",
       "      <td>Huttenhower_HC1</td>\n",
       "    </tr>\n",
       "    <tr>\n",
       "      <th>4</th>\n",
       "      <td>80866</td>\n",
       "      <td>18289</td>\n",
       "      <td>Delftia acidovorans</td>\n",
       "      <td>6823175</td>\n",
       "      <td>Huttenhower_HC1</td>\n",
       "    </tr>\n",
       "  </tbody>\n",
       "</table>\n",
       "</div>"
      ],
      "text/plain": [
       "    taxid  counts                      species     size          dataset\n",
       "0   79329   24666        Chitinophaga pinensis  9127347  Huttenhower_HC1\n",
       "1    1836   22195  Saccharopolyspora erythraea  8079083  Huttenhower_HC1\n",
       "2  152480   20654       Burkholderia ambifaria  8095900  Huttenhower_HC1\n",
       "3  182640   20483            Kribbella flavida  7579488  Huttenhower_HC1\n",
       "4   80866   18289          Delftia acidovorans  6823175  Huttenhower_HC1"
      ]
     },
     "execution_count": 101,
     "metadata": {},
     "output_type": "execute_result"
    }
   ],
   "source": [
    "truth.head()"
   ]
  },
  {
   "cell_type": "code",
   "execution_count": 102,
   "metadata": {},
   "outputs": [
    {
     "data": {
      "text/html": [
       "<div>\n",
       "<style>\n",
       "    .dataframe thead tr:only-child th {\n",
       "        text-align: right;\n",
       "    }\n",
       "\n",
       "    .dataframe thead th {\n",
       "        text-align: left;\n",
       "    }\n",
       "\n",
       "    .dataframe tbody tr th {\n",
       "        vertical-align: top;\n",
       "    }\n",
       "</style>\n",
       "<table border=\"1\" class=\"dataframe\">\n",
       "  <thead>\n",
       "    <tr style=\"text-align: right;\">\n",
       "      <th></th>\n",
       "      <th>taxid</th>\n",
       "      <th>counts</th>\n",
       "      <th>species</th>\n",
       "      <th>size</th>\n",
       "      <th>dataset</th>\n",
       "      <th>taxaId</th>\n",
       "      <th>pid</th>\n",
       "      <th>rank</th>\n",
       "    </tr>\n",
       "  </thead>\n",
       "  <tbody>\n",
       "    <tr>\n",
       "      <th>0</th>\n",
       "      <td>79329</td>\n",
       "      <td>24666</td>\n",
       "      <td>Chitinophaga pinensis</td>\n",
       "      <td>9127347</td>\n",
       "      <td>Huttenhower_HC1</td>\n",
       "      <td>79329</td>\n",
       "      <td>79328</td>\n",
       "      <td>species</td>\n",
       "    </tr>\n",
       "    <tr>\n",
       "      <th>1</th>\n",
       "      <td>79329</td>\n",
       "      <td>3127</td>\n",
       "      <td>Chitinophaga pinensis</td>\n",
       "      <td>9127347</td>\n",
       "      <td>Huttenhower_LC1</td>\n",
       "      <td>79329</td>\n",
       "      <td>79328</td>\n",
       "      <td>species</td>\n",
       "    </tr>\n",
       "    <tr>\n",
       "      <th>2</th>\n",
       "      <td>1836</td>\n",
       "      <td>22195</td>\n",
       "      <td>Saccharopolyspora erythraea</td>\n",
       "      <td>8079083</td>\n",
       "      <td>Huttenhower_HC1</td>\n",
       "      <td>1836</td>\n",
       "      <td>1835</td>\n",
       "      <td>species</td>\n",
       "    </tr>\n",
       "    <tr>\n",
       "      <th>3</th>\n",
       "      <td>1836</td>\n",
       "      <td>125</td>\n",
       "      <td>Saccharopolyspora erythraea</td>\n",
       "      <td>8079083</td>\n",
       "      <td>Huttenhower_LC1</td>\n",
       "      <td>1836</td>\n",
       "      <td>1835</td>\n",
       "      <td>species</td>\n",
       "    </tr>\n",
       "    <tr>\n",
       "      <th>4</th>\n",
       "      <td>152480</td>\n",
       "      <td>20654</td>\n",
       "      <td>Burkholderia ambifaria</td>\n",
       "      <td>8095900</td>\n",
       "      <td>Huttenhower_HC1</td>\n",
       "      <td>152480</td>\n",
       "      <td>87882</td>\n",
       "      <td>species</td>\n",
       "    </tr>\n",
       "  </tbody>\n",
       "</table>\n",
       "</div>"
      ],
      "text/plain": [
       "    taxid  counts                      species     size          dataset  \\\n",
       "0   79329   24666        Chitinophaga pinensis  9127347  Huttenhower_HC1   \n",
       "1   79329    3127        Chitinophaga pinensis  9127347  Huttenhower_LC1   \n",
       "2    1836   22195  Saccharopolyspora erythraea  8079083  Huttenhower_HC1   \n",
       "3    1836     125  Saccharopolyspora erythraea  8079083  Huttenhower_LC1   \n",
       "4  152480   20654       Burkholderia ambifaria  8095900  Huttenhower_HC1   \n",
       "\n",
       "   taxaId    pid     rank  \n",
       "0   79329  79328  species  \n",
       "1   79329  79328  species  \n",
       "2    1836   1835  species  \n",
       "3    1836   1835  species  \n",
       "4  152480  87882  species  "
      ]
     },
     "execution_count": 102,
     "metadata": {},
     "output_type": "execute_result"
    }
   ],
   "source": [
    "truth = pd.merge(truth, taxa_df, left_on='taxid', right_on='taxaId')\n",
    "truth.head()"
   ]
  },
  {
   "cell_type": "markdown",
   "metadata": {},
   "source": [
    "### Everything has been simulated from \"species\" level"
   ]
  },
  {
   "cell_type": "code",
   "execution_count": 105,
   "metadata": {},
   "outputs": [
    {
     "data": {
      "text/plain": [
       "array(['species'], dtype=object)"
      ]
     },
     "execution_count": 105,
     "metadata": {},
     "output_type": "execute_result"
    }
   ],
   "source": [
    "truth['rank'].unique()"
   ]
  },
  {
   "cell_type": "code",
   "execution_count": 429,
   "metadata": {},
   "outputs": [
    {
     "name": "stdout",
     "output_type": "stream",
     "text": [
      "\n",
      "HC1\n",
      "Fatal vs Avi\n",
      "SpearmanrResult(correlation=1.0, pvalue=0.0)\n",
      "mard: 9.852656441893663e-07\n",
      "     taxaId_x  Feature       taxaRank           rank  Count  diff\n",
      "199       339      339        species        species  10964     1\n",
      "208      1396     1396        species        species   6268     1\n",
      "239    111527   111527  species group  species group   5873    -1\n",
      "260     28450    28450        species        species   2969     1\n",
      "267    182640   182640        species        species  16667     1\n",
      "FatalTruth\n",
      "          counts     count\n",
      "counts  1.000000  0.836454\n",
      "count   0.836454  1.000000\n",
      "mard: 0.6913114348184081\n",
      "AviTruth\n",
      "          counts     Count\n",
      "counts  1.000000  0.836454\n",
      "Count   0.836454  1.000000\n",
      "mard: 0.6913123818230174\n",
      "\n",
      "HC2\n",
      "Fatal vs Avi\n",
      "SpearmanrResult(correlation=1.0, pvalue=0.0)\n",
      "mard: 8.109578653934357e-07\n",
      "     taxaId_x  Feature taxaRank     rank  Count  diff\n",
      "15        645      645  species  species  11602     1\n",
      "164       543      543   family   family   7070    -1\n",
      "234      1718     1718  species  species   7664     3\n",
      "399     67825    67825  species  species  12245     1\n",
      "FatalTruth\n",
      "          counts     count\n",
      "counts  1.000000  0.834336\n",
      "count   0.834336  1.000000\n",
      "mard: 0.7182558021375831\n",
      "AviTruth\n",
      "          counts     Count\n",
      "counts  1.000000  0.834336\n",
      "Count   0.834336  1.000000\n",
      "mard: 0.7182567741469842\n",
      "\n",
      "LC1\n",
      "Fatal vs Avi\n",
      "SpearmanrResult(correlation=0.99999999999999989, pvalue=0.0)\n",
      "mard: 2.8440148844362994e-07\n",
      "    taxaId_x  Feature taxaRank     rank  Count  diff\n",
      "78      1270     1270  species  species  16278     1\n",
      "FatalTruth\n",
      "         counts    count\n",
      "counts  1.00000  0.74018\n",
      "count   0.74018  1.00000\n",
      "mard: 0.6656522271730764\n",
      "AviTruth\n",
      "         counts    Count\n",
      "counts  1.00000  0.74018\n",
      "Count   0.74018  1.00000\n",
      "mard: 0.6656527419465809\n",
      "\n",
      "LC2\n",
      "Fatal vs Avi\n",
      "SpearmanrResult(correlation=1.0, pvalue=0.0)\n",
      "mard: 0.0\n",
      "Empty DataFrame\n",
      "Columns: [taxaId_x, Feature, taxaRank, rank, Count, diff]\n",
      "Index: []\n",
      "FatalTruth\n",
      "          counts     count\n",
      "counts  1.000000  0.887078\n",
      "count   0.887078  1.000000\n",
      "mard: 0.6422944277191631\n",
      "AviTruth\n",
      "          counts     Count\n",
      "counts  1.000000  0.887078\n",
      "Count   0.887078  1.000000\n",
      "mard: 0.6422944277191631\n",
      "\n",
      "LC3\n",
      "Fatal vs Avi\n",
      "SpearmanrResult(correlation=1.0, pvalue=0.0)\n",
      "mard: 0.0\n",
      "Empty DataFrame\n",
      "Columns: [taxaId_x, Feature, taxaRank, rank, Count, diff]\n",
      "Index: []\n",
      "FatalTruth\n",
      "          counts     count\n",
      "counts  1.000000  0.823137\n",
      "count   0.823137  1.000000\n",
      "mard: 0.7279198513835469\n",
      "AviTruth\n",
      "          counts     Count\n",
      "counts  1.000000  0.823137\n",
      "Count   0.823137  1.000000\n",
      "mard: 0.7279198513835469\n",
      "\n",
      "LC4\n",
      "Fatal vs Avi\n",
      "SpearmanrResult(correlation=1.0, pvalue=0.0)\n",
      "mard: 5.073844736291994e-07\n",
      "    taxaId_x  Feature taxaRank     rank  Count  diff\n",
      "65       339      339  species  species  11731     1\n",
      "FatalTruth\n",
      "          counts     count\n",
      "counts  1.000000  0.871034\n",
      "count   0.871034  1.000000\n",
      "mard: 0.6235384633488942\n",
      "AviTruth\n",
      "          counts     Count\n",
      "counts  1.000000  0.871034\n",
      "Count   0.871034  1.000000\n",
      "mard: 0.6235392716698539\n",
      "\n",
      "LC5\n",
      "Fatal vs Avi\n",
      "SpearmanrResult(correlation=0.99999999999999978, pvalue=0.0)\n",
      "mard: 0.0\n",
      "Empty DataFrame\n",
      "Columns: [taxaId_x, Feature, taxaRank, rank, Count, diff]\n",
      "Index: []\n",
      "FatalTruth\n",
      "          counts     count\n",
      "counts  1.000000  0.505476\n",
      "count   0.505476  1.000000\n",
      "mard: 0.833725561821183\n",
      "AviTruth\n",
      "          counts     Count\n",
      "counts  1.000000  0.505476\n",
      "Count   0.505476  1.000000\n",
      "mard: 0.833725561821183\n",
      "\n",
      "LC6\n",
      "Fatal vs Avi\n",
      "SpearmanrResult(correlation=1.0, pvalue=0.0)\n",
      "mard: 2.130444674104469e-05\n",
      "     taxaId_x  Feature taxaRank     rank  Count  diff\n",
      "61       1308     1308  species  species   4795    -1\n",
      "103      1301     1301    genus    genus    207     1\n",
      "FatalTruth\n",
      "          counts     count\n",
      "counts  1.000000  0.806756\n",
      "count   0.806756  1.000000\n",
      "mard: 0.7415521253714619\n",
      "AviTruth\n",
      "          counts     Count\n",
      "counts  1.000000  0.806756\n",
      "Count   0.806756  1.000000\n",
      "mard: 0.7415508121458372\n",
      "\n",
      "LC7\n",
      "Fatal vs Avi\n",
      "SpearmanrResult(correlation=1.0, pvalue=0.0)\n",
      "mard: 2.5348997424455095e-06\n",
      "    taxaId_x  Feature taxaRank     rank  Count  diff\n",
      "5     269261   269261  species  species   9086     1\n",
      "62      1639     1639  species  species   3271     1\n",
      "FatalTruth\n",
      "          counts     count\n",
      "counts  1.000000  0.946101\n",
      "count   0.946101  1.000000\n",
      "mard: 0.5810430800522803\n",
      "AviTruth\n",
      "          counts     Count\n",
      "counts  1.000000  0.946101\n",
      "Count   0.946101  1.000000\n",
      "mard: 0.5810476183727072\n",
      "\n",
      "LC8\n",
      "Fatal vs Avi\n",
      "SpearmanrResult(correlation=1.0, pvalue=0.0)\n",
      "mard: 4.010666125921922e-08\n",
      "    taxaId_x  Feature taxaRank     rank  Count  diff\n",
      "14       408      408  species  species  93035     1\n",
      "FatalTruth\n",
      "          counts     count\n",
      "counts  1.000000  0.705657\n",
      "count   0.705657  1.000000\n",
      "mard: 0.7766491033895683\n",
      "AviTruth\n",
      "          counts     Count\n",
      "counts  1.000000  0.705657\n",
      "Count   0.705657  1.000000\n",
      "mard: 0.7766491681049041\n"
     ]
    }
   ],
   "source": [
    "for dataset in ['HC1', 'HC2', 'LC1', 'LC2', 'LC3', 'LC4', 'LC5', 'LC6', 'LC7', 'LC8']:\n",
    "    print('\\n{}'.format(dataset))\n",
    "    hc1 = truth[truth.dataset == 'Huttenhower_'+dataset]\n",
    "    #print(hc1['counts'].sum())\n",
    "    krakmap_out = '~/projects/pufferfish/build/'+dataset+'_species.out'\n",
    "    avi_krakmap_file = '/mnt/scratch2/avi/meta-map/kraken/puff/fat_out/'+dataset+'_report.txt'\n",
    "    krakmap = pd.read_csv(krakmap_out, sep=\"\\t\")\n",
    "    #print(krakmap['count'].sum())\n",
    "    krakmap = krakmap[krakmap['taxaId'] != 0]\n",
    "    #print(krakmap['count'].sum())\n",
    "    #print('fatal original count : {}'.format(len(krakmap['count'])))\n",
    "    avi_krakmap = pd.read_csv(avi_krakmap_file, sep='\\t')\n",
    "    #print(avi_krakmap['Count'].sum())\n",
    "    avi_krakmap = avi_krakmap[avi_krakmap['Feature'] != 0]\n",
    "    #print(avi_krakmap['Count'].sum())\n",
    "    #avi_krakmap = avi_krakmap[avi_krakmap['Feature'] != 0]\n",
    "    #print('avi original count: {}'.format(len(avi_krakmap)))\n",
    "    avi_krakmap = pd.merge(avi_krakmap, taxa_df, left_on='Feature', right_on='taxaId')\n",
    "    #print('count after merging to get ranks (should be the same): {}'.format(len(avi_krakmap)))\n",
    "    fatal_species = krakmap[krakmap.taxaRank == 'species']\n",
    "    avi_species = avi_krakmap[avi_krakmap['rank'] == 'species']\n",
    "    #print('fatal count of species : {}'.format(len(krakmap_species)))\n",
    "    #print('avi count of species : {}'.format(len(avi_krakmap)))\n",
    "    pythcppjoined = pd.merge(krakmap, avi_krakmap, left_on='taxaId', right_on='Feature', how='outer').fillna(0)\n",
    "    print('Fatal vs Avi')\n",
    "    print(spearmanr(pythcppjoined['count'], pythcppjoined['Count']))\n",
    "    print('mard: {}'.format(mard(pythcppjoined, 'count', 'Count')))\n",
    "    pythcppjoined['diff'] = pythcppjoined['count']-pythcppjoined['Count']\n",
    "    print(pythcppjoined[pythcppjoined['diff'] != 0][['taxaId_x', 'Feature', 'taxaRank', 'rank', 'Count', 'diff']])\n",
    "    #print('avi # of reads: {}'.format(avi_krakmap['Count'].sum()))\n",
    "    #print('fatal # of reads: {}'.format(krakmap_species['count'].sum()))\n",
    "    kraktruthjoined = pd.merge(hc1, fatal_species, left_on='taxid', right_on='taxaId', how='outer').fillna(0)\n",
    "    print('FatalTruth')\n",
    "    print(kraktruthjoined[['counts', 'count']].corr(method='spearman'))\n",
    "    print('mard: {}'.format(mard(kraktruthjoined, 'counts', 'count')))\n",
    "    #print('diff:')\n",
    "    #kraktruthjoined['diff'] = kraktruthjoined['counts']-kraktruthjoined['count']\n",
    "    #print(kraktruthjoined[['taxid','diff']])\n",
    "    pythtruthjoined = pd.merge(hc1, avi_species, left_on='taxid', right_on='Feature', how='outer').fillna(0)\n",
    "    print('AviTruth')\n",
    "    print(pythtruthjoined[['counts', 'Count']].corr(method='spearman'))\n",
    "    print('mard: {}'.format(mard(pythtruthjoined, 'counts', 'Count')))\n",
    "    #print(pythtruthjoined['counts']-pythtruthjoined['Count'])"
   ]
  }
 ],
 "metadata": {
  "kernelspec": {
   "display_name": "Python 3",
   "language": "python",
   "name": "python3"
  },
  "language_info": {
   "codemirror_mode": {
    "name": "ipython",
    "version": 3
   },
   "file_extension": ".py",
   "mimetype": "text/x-python",
   "name": "python",
   "nbconvert_exporter": "python",
   "pygments_lexer": "ipython3",
   "version": "3.6.1"
  }
 },
 "nbformat": 4,
 "nbformat_minor": 2
}
