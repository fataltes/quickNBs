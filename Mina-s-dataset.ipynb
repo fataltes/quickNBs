{
 "cells": [
  {
   "cell_type": "code",
   "execution_count": 144,
   "metadata": {
    "collapsed": true
   },
   "outputs": [],
   "source": [
    "%matplotlib inline\n",
    "import random\n",
    "import pandas as pd\n",
    "import numpy as np\n",
    "import matplotlib.pyplot as plt\n",
    "from scipy.stats import pearsonr\n",
    "import seaborn as sns\n",
    "from sklearn import linear_model, metrics, cross_validation\n",
    "from sklearn import svm"
   ]
  },
  {
   "cell_type": "code",
   "execution_count": 81,
   "metadata": {
    "collapsed": true
   },
   "outputs": [],
   "source": [
    "t1 = pd.read_csv('~/others_projects/mina/sheet1.csv')"
   ]
  },
  {
   "cell_type": "code",
   "execution_count": 96,
   "metadata": {},
   "outputs": [
    {
     "name": "stdout",
     "output_type": "stream",
     "text": [
      "609\n"
     ]
    },
    {
     "data": {
      "text/plain": [
       "Index(['Sr. #', ' Age/Sex', 'Presence of CAC', 'Hx of HTN', 'Comments', 'ACE',\n",
       "       'ARB', 'BB', 'CCB', 'Others', 'CAC', 'Age', 'Sex'],\n",
       "      dtype='object')"
      ]
     },
     "execution_count": 96,
     "metadata": {},
     "output_type": "execute_result"
    }
   ],
   "source": [
    "t1.head(1)\n",
    "print(len(t1))\n",
    "t1.columns"
   ]
  },
  {
   "cell_type": "code",
   "execution_count": 83,
   "metadata": {},
   "outputs": [
    {
     "data": {
      "text/plain": [
       "array(['no', nan, 'yes'], dtype=object)"
      ]
     },
     "execution_count": 83,
     "metadata": {},
     "output_type": "execute_result"
    }
   ],
   "source": [
    "t1['CAC'] = t1['Presence of CAC'].str.lower().str.strip()\n",
    "t1['CAC'].unique()"
   ]
  },
  {
   "cell_type": "code",
   "execution_count": 165,
   "metadata": {},
   "outputs": [
    {
     "name": "stdout",
     "output_type": "stream",
     "text": [
      "607\n"
     ]
    },
    {
     "data": {
      "text/plain": [
       "CAC     object\n",
       "Age      int64\n",
       "Sex     object\n",
       "HTN     object\n",
       "cacv     int64\n",
       "htnv     int64\n",
       "sexv     int64\n",
       "dtype: object"
      ]
     },
     "execution_count": 165,
     "metadata": {},
     "output_type": "execute_result"
    }
   ],
   "source": [
    "t1['Age'] = t1[' Age/Sex'].str.split(' ').str[0]\n",
    "t1['Sex'] = t1[' Age/Sex'].str.split(' ').str[1].str.upper().str.strip()\n",
    "t1['Hx of HTN'] = t1['Hx of HTN'].str.upper().str.strip()\n",
    "cleaned = t1[['CAC', 'Age', 'Sex', 'Hx of HTN']].dropna()\n",
    "cleaned = cleaned[cleaned['Sex'] != 'U']\n",
    "cleaned['Age'] = cacAge['Age'].astype(int)\n",
    "cleaned.columns = ['CAC', 'Age', 'Sex', 'HTN']\n",
    "cleaned.loc[cleaned.CAC == 'no', 'cacv'] = -1\n",
    "cleaned.loc[cleaned.CAC == 'yes', 'cacv'] = 1\n",
    "cleaned.loc[cleaned.HTN == 'NO', 'htnv'] = -1\n",
    "cleaned.loc[cleaned.HTN == 'YES', 'htnv'] = 1\n",
    "cleaned.loc[cleaned.Sex == 'M', 'sexv'] = -1\n",
    "cleaned.loc[cleaned.Sex == 'F', 'sexv'] = 1\n",
    "cleaned['cacv']=cleaned.cacv.astype(int)\n",
    "cleaned['sexv']=cleaned.sexv.astype(int)\n",
    "cleaned['htnv']=cleaned.htnv.astype(int)\n",
    "print( len(cleaned) )\n",
    "#cleaned_noUndefinedSex = cleaned[cleaned['Sex'] != 'U']\n",
    "cleaned.dtypes"
   ]
  },
  {
   "cell_type": "markdown",
   "metadata": {},
   "source": [
    "# Some Basic Stats"
   ]
  },
  {
   "cell_type": "code",
   "execution_count": 195,
   "metadata": {
    "scrolled": false
   },
   "outputs": [
    {
     "name": "stdout",
     "output_type": "stream",
     "text": [
      "   CAC  count\n",
      "0   no    498\n",
      "1  yes    109\n",
      "\n",
      "\n",
      "\n",
      "  Sex  count\n",
      "0   F    304\n",
      "1   M    303\n",
      "\n",
      "\n",
      "\n",
      "   HTN  count\n",
      "0   NO    365\n",
      "1  YES    242\n",
      "\n",
      "\n",
      "Distribution across different labels\n",
      "\n",
      "         count\n",
      "CAC Sex       \n",
      "no  F    53.61\n",
      "    M    46.39\n",
      "yes F    33.94\n",
      "    M    66.06\n",
      "\n",
      "\n",
      "\n",
      "         count\n",
      "CAC HTN       \n",
      "no  NO   69.08\n",
      "    YES  30.92\n",
      "yes NO   19.27\n",
      "    YES  80.73\n",
      "\n",
      "\n",
      "\n",
      "           Age           \n",
      "          mean        std\n",
      "CAC                      \n",
      "no   60.359438  17.133437\n",
      "yes  71.596330   9.182430\n",
      "\n",
      "\n",
      "\n",
      "   CAC  HTN Sex  count\n",
      "0   no   NO   F    204\n",
      "1   no   NO   M    140\n",
      "2   no  YES   F     63\n",
      "3   no  YES   M     91\n",
      "4  yes   NO   F      8\n",
      "5  yes   NO   M     13\n",
      "6  yes  YES   F     29\n",
      "7  yes  YES   M     59\n"
     ]
    }
   ],
   "source": [
    "cleaned['count'] = 1\n",
    "print(cleaned[['CAC', 'count']].groupby('CAC').count().reset_index())\n",
    "print('\\n\\n')\n",
    "print(cleaned[['Sex', 'count']].groupby('Sex').count().reset_index())\n",
    "print('\\n\\n')\n",
    "print(cleaned[['HTN', 'count']].groupby('HTN').count().reset_index())\n",
    "print('\\n\\nDistribution across different labels\\n')\n",
    "\n",
    "#sexDist['percentage'] = sexDist['count']\n",
    "a = cleaned[['CAC', 'Sex', 'count']].groupby(['CAC', 'Sex']).count()\n",
    "print(a.groupby(level=0).apply(lambda x:round(100 * x / float(x.sum()), 2)))\n",
    "print('\\n\\n')\n",
    "a = cleaned[['CAC', 'HTN', 'count']].groupby(['CAC', 'HTN']).count()\n",
    "print(a.groupby(level=0).apply(lambda x:round(100 * x / float(x.sum()), 2)))\n",
    "print('\\n\\n')\n",
    "print(cleaned[['CAC', 'Age']].groupby(['CAC']).agg([np.mean, np.std]))\n",
    "print('\\n\\n')\n",
    "print(cleaned[['CAC', 'Sex', 'HTN', 'count']].groupby(['CAC', 'HTN','Sex']).count().reset_index())\n"
   ]
  },
  {
   "cell_type": "code",
   "execution_count": 127,
   "metadata": {},
   "outputs": [
    {
     "data": {
      "text/plain": [
       "<matplotlib.axes._subplots.AxesSubplot at 0x7f0545f4ccf8>"
      ]
     },
     "execution_count": 127,
     "metadata": {},
     "output_type": "execute_result"
    },
    {
     "data": {
      "image/png": "[encoded data removed]",
      "text/plain": [
       "<matplotlib.figure.Figure at 0x7f054ab61320>"
      ]
     },
     "metadata": {},
     "output_type": "display_data"
    }
   ],
   "source": [
    "sns.violinplot(x='CAC', y='Age', data=cleaned, palette=\"Set3\", bw=.2, cut=1, linewidth=1)"
   ]
  },
  {
   "cell_type": "code",
   "execution_count": 128,
   "metadata": {},
   "outputs": [
    {
     "data": {
      "image/png": "[encoded data removed]",
      "text/plain": [
       "<matplotlib.figure.Figure at 0x7f0546317f28>"
      ]
     },
     "metadata": {},
     "output_type": "display_data"
    }
   ],
   "source": [
    "sns.violinplot(x=\"CAC\", y=\"Age\", hue=\"Sex\", data=cleaned_noUndefinedSex,\n",
    "               split=True, inner=\"stick\", palette=\"Set3\");"
   ]
  },
  {
   "cell_type": "code",
   "execution_count": 199,
   "metadata": {},
   "outputs": [
    {
     "data": {
      "text/plain": [
       "[Text(0,0.5,'Sex Percentage')]"
      ]
     },
     "execution_count": 199,
     "metadata": {},
     "output_type": "execute_result"
    },
    {
     "data": {
      "image/png": "[encoded data removed]",
      "text/plain": [
       "<matplotlib.figure.Figure at 0x7f0542c344e0>"
      ]
     },
     "metadata": {},
     "output_type": "display_data"
    }
   ],
   "source": [
    "a = cleaned[['CAC', 'Sex', 'count']].groupby(['CAC', 'Sex']).count()\n",
    "sexcac=a.groupby(level=0).apply(lambda x:round(100 * x / float(x.sum()), 2)).reset_index()\n",
    "ax = sns.barplot(x=\"CAC\", y=\"count\", hue=\"Sex\", data=sexcac)\n",
    "#ax = sns.countplot(x=\"CAC\", hue=\"Sex\", data=cleaned)\n",
    "ax.set(ylabel=\"Sex Percentage\")"
   ]
  },
  {
   "cell_type": "code",
   "execution_count": 201,
   "metadata": {},
   "outputs": [
    {
     "data": {
      "text/plain": [
       "[Text(0,0.5,'Hx of HTN (%)')]"
      ]
     },
     "execution_count": 201,
     "metadata": {},
     "output_type": "execute_result"
    },
    {
     "data": {
      "image/png": "[encoded data removed]",
      "text/plain": [
       "<matplotlib.figure.Figure at 0x7f054653ce80>"
      ]
     },
     "metadata": {},
     "output_type": "display_data"
    }
   ],
   "source": [
    "a = cleaned[['CAC', 'HTN', 'count']].groupby(['CAC', 'HTN']).count()\n",
    "sexcac=a.groupby(level=0).apply(lambda x:round(100 * x / float(x.sum()), 2)).reset_index()\n",
    "ax = sns.barplot(x=\"CAC\", y=\"count\", hue=\"HTN\", data=sexcac)\n",
    "ax.set(ylabel=\"Hx of HTN (%)\")"
   ]
  },
  {
   "cell_type": "code",
   "execution_count": 142,
   "metadata": {},
   "outputs": [
    {
     "name": "stdout",
     "output_type": "stream",
     "text": [
      "correlation: -0.15099522594785442, p-value:0.00018854781358085523\n"
     ]
    }
   ],
   "source": [
    "res=pearsonr(cleaned_noUndefinedSex['cacv'], cleaned_noUndefinedSex['sexv'])\n",
    "print('correlation: {}, p-value:{}'.format(res[0], res[1]))"
   ]
  },
  {
   "cell_type": "code",
   "execution_count": 139,
   "metadata": {},
   "outputs": [
    {
     "name": "stdout",
     "output_type": "stream",
     "text": [
      "correlation: 0.3908175068904315, p-value:1.2705623267616409e-23\n"
     ]
    }
   ],
   "source": [
    "res=pearsonr(cleaned['cacv'], cleaned['htnv'])#.corr(method='pearson')\n",
    "print('correlation: {}, p-value:{}'.format(res[0], res[1]))"
   ]
  },
  {
   "cell_type": "code",
   "execution_count": 140,
   "metadata": {},
   "outputs": [
    {
     "name": "stdout",
     "output_type": "stream",
     "text": [
      "correlation: 0.2611176149858496, p-value:6.18991736947498e-11\n"
     ]
    }
   ],
   "source": [
    "res=pearsonr(cleaned['cacv'], cleaned['Age'])#.corr(method='pearson')\n",
    "print('correlation: {}, p-value:{}'.format(res[0], res[1]))"
   ]
  },
  {
   "cell_type": "code",
   "execution_count": 205,
   "metadata": {},
   "outputs": [
    {
     "name": "stdout",
     "output_type": "stream",
     "text": [
      "0.710049423394\n",
      "             precision    recall  f1-score   support\n",
      "\n",
      "         no       0.94      0.69      0.80       498\n",
      "        yes       0.36      0.81      0.50       109\n",
      "\n",
      "avg / total       0.84      0.71      0.74       607\n",
      "\n"
     ]
    }
   ],
   "source": [
    "logreg=linear_model.LogisticRegression(class_weight=\"balanced\")\n",
    "y = cleaned_noUndefinedSex['CAC']\n",
    "predicted = cross_validation.cross_val_predict(logreg, \n",
    "                                               cleaned_noUndefinedSex[['htnv', 'sexv', 'Age']], \n",
    "                                               y , cv=10)\n",
    "print(metrics.accuracy_score(y, predicted))\n",
    "print(metrics.classification_report(y, predicted))"
   ]
  },
  {
   "cell_type": "code",
   "execution_count": 204,
   "metadata": {},
   "outputs": [
    {
     "name": "stdout",
     "output_type": "stream",
     "text": [
      "0.701812191104\n",
      "             precision    recall  f1-score   support\n",
      "\n",
      "         no       0.90      0.71      0.80       498\n",
      "        yes       0.33      0.65      0.44       109\n",
      "\n",
      "avg / total       0.80      0.70      0.73       607\n",
      "\n"
     ]
    }
   ],
   "source": [
    "classifier=svm.SVC(kernel='rbf', class_weight=\"balanced\")\n",
    "y = cleaned_noUndefinedSex['CAC']\n",
    "predicted = cross_validation.cross_val_predict(classifier, \n",
    "                                               cleaned_noUndefinedSex[['htnv', 'sexv', 'Age']], \n",
    "                                               y , cv=10)\n",
    "print(metrics.accuracy_score(y, predicted))\n",
    "print(metrics.classification_report(y, predicted))"
   ]
  }
 ],
 "metadata": {
  "kernelspec": {
   "display_name": "Python 3",
   "language": "python",
   "name": "python3"
  },
  "language_info": {
   "codemirror_mode": {
    "name": "ipython",
    "version": 3
   },
   "file_extension": ".py",
   "mimetype": "text/x-python",
   "name": "python",
   "nbconvert_exporter": "python",
   "pygments_lexer": "ipython3",
   "version": "3.6.4"
  }
 },
 "nbformat": 4,
 "nbformat_minor": 2
}
