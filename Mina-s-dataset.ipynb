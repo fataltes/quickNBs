{
 "cells": [
  {
   "cell_type": "code",
   "execution_count": 2,
   "metadata": {},
   "outputs": [
    {
     "name": "stderr",
     "output_type": "stream",
     "text": [
      "/home/fatemeh/miniconda3/lib/python3.6/site-packages/sklearn/cross_validation.py:41: DeprecationWarning: This module was deprecated in version 0.18 in favor of the model_selection module into which all the refactored classes and functions are moved. Also note that the interface of the new CV iterators are different from that of this module. This module will be removed in 0.20.\n",
      "  \"This module will be removed in 0.20.\", DeprecationWarning)\n"
     ]
    }
   ],
   "source": [
    "%matplotlib inline\n",
    "import random\n",
    "import pandas as pd\n",
    "import numpy as np\n",
    "import matplotlib.pyplot as plt\n",
    "from scipy.stats import pearsonr\n",
    "import seaborn as sns\n",
    "from sklearn import linear_model, metrics, cross_validation\n",
    "from sklearn import svm"
   ]
  },
  {
   "cell_type": "code",
   "execution_count": 81,
   "metadata": {
    "collapsed": true
   },
   "outputs": [],
   "source": [
    "t1 = pd.read_csv('~/others_projects/mina/sheet1.csv')"
   ]
  },
  {
   "cell_type": "code",
   "execution_count": 39,
   "metadata": {},
   "outputs": [],
   "source": [
    "t1 = pd.read_csv('/home/fatemeh/others_projects/mina/Incidence.csv')\n",
    "t1.drop(t1.columns[0], axis=1, inplace=True)\n",
    "t1 = t1.rename(columns={'Presence of CAC': 'CAC', 'Hx of HTN': 'HTN'})\n",
    "t1['Sex'] = t1['Sex'].str.strip()\n",
    "t1['CAC'] = t1['CAC'].str.upper().str.strip()\n",
    "t1['HTN'] = t1['HTN'].str.upper().str.strip()\n",
    "t1['Side of CAC'] = t1['Side of CAC'].str.upper().str.strip()\n",
    "t1['Age'] = t1['Age'].astype(int)"
   ]
  },
  {
   "cell_type": "code",
   "execution_count": 40,
   "metadata": {
    "scrolled": true
   },
   "outputs": [
    {
     "name": "stdout",
     "output_type": "stream",
     "text": [
      "1000\n"
     ]
    },
    {
     "data": {
      "text/plain": [
       "Index(['Age', 'Sex', 'HTN', 'HTN Recoded', 'CAC', 'CAC Recoded', 'Side of CAC',\n",
       "       'Anti-HTN Drug (Taking Presently or History of)'],\n",
       "      dtype='object')"
      ]
     },
     "execution_count": 40,
     "metadata": {},
     "output_type": "execute_result"
    }
   ],
   "source": [
    "print(len(t1))\n",
    "t1.columns"
   ]
  },
  {
   "cell_type": "code",
   "execution_count": 41,
   "metadata": {},
   "outputs": [
    {
     "data": {
      "text/html": [
       "<div>\n",
       "<style>\n",
       "    .dataframe thead tr:only-child th {\n",
       "        text-align: right;\n",
       "    }\n",
       "\n",
       "    .dataframe thead th {\n",
       "        text-align: left;\n",
       "    }\n",
       "\n",
       "    .dataframe tbody tr th {\n",
       "        vertical-align: top;\n",
       "    }\n",
       "</style>\n",
       "<table border=\"1\" class=\"dataframe\">\n",
       "  <thead>\n",
       "    <tr style=\"text-align: right;\">\n",
       "      <th></th>\n",
       "      <th>Age</th>\n",
       "      <th>HTN Recoded</th>\n",
       "      <th>CAC Recoded</th>\n",
       "    </tr>\n",
       "  </thead>\n",
       "  <tbody>\n",
       "    <tr>\n",
       "      <th>count</th>\n",
       "      <td>1000.000000</td>\n",
       "      <td>999.000000</td>\n",
       "      <td>1000.000000</td>\n",
       "    </tr>\n",
       "    <tr>\n",
       "      <th>mean</th>\n",
       "      <td>64.694000</td>\n",
       "      <td>0.411411</td>\n",
       "      <td>0.280000</td>\n",
       "    </tr>\n",
       "    <tr>\n",
       "      <th>std</th>\n",
       "      <td>13.378915</td>\n",
       "      <td>0.492336</td>\n",
       "      <td>0.449224</td>\n",
       "    </tr>\n",
       "    <tr>\n",
       "      <th>min</th>\n",
       "      <td>30.000000</td>\n",
       "      <td>0.000000</td>\n",
       "      <td>0.000000</td>\n",
       "    </tr>\n",
       "    <tr>\n",
       "      <th>25%</th>\n",
       "      <td>57.000000</td>\n",
       "      <td>0.000000</td>\n",
       "      <td>0.000000</td>\n",
       "    </tr>\n",
       "    <tr>\n",
       "      <th>50%</th>\n",
       "      <td>66.000000</td>\n",
       "      <td>0.000000</td>\n",
       "      <td>0.000000</td>\n",
       "    </tr>\n",
       "    <tr>\n",
       "      <th>75%</th>\n",
       "      <td>74.000000</td>\n",
       "      <td>1.000000</td>\n",
       "      <td>1.000000</td>\n",
       "    </tr>\n",
       "    <tr>\n",
       "      <th>max</th>\n",
       "      <td>99.000000</td>\n",
       "      <td>1.000000</td>\n",
       "      <td>1.000000</td>\n",
       "    </tr>\n",
       "  </tbody>\n",
       "</table>\n",
       "</div>"
      ],
      "text/plain": [
       "               Age  HTN Recoded  CAC Recoded\n",
       "count  1000.000000   999.000000  1000.000000\n",
       "mean     64.694000     0.411411     0.280000\n",
       "std      13.378915     0.492336     0.449224\n",
       "min      30.000000     0.000000     0.000000\n",
       "25%      57.000000     0.000000     0.000000\n",
       "50%      66.000000     0.000000     0.000000\n",
       "75%      74.000000     1.000000     1.000000\n",
       "max      99.000000     1.000000     1.000000"
      ]
     },
     "execution_count": 41,
     "metadata": {},
     "output_type": "execute_result"
    }
   ],
   "source": [
    "t1.describe()"
   ]
  },
  {
   "cell_type": "code",
   "execution_count": 43,
   "metadata": {},
   "outputs": [],
   "source": [
    "cleaned = t1\n",
    "cleaned.loc[cleaned['CAC'] == 'NO', 'cacv'] = -1\n",
    "cleaned.loc[cleaned['CAC'] == 'YES', 'cacv'] = 1\n",
    "cleaned.loc[cleaned['HTN'] == 'NO', 'htnv'] = -1\n",
    "cleaned.loc[cleaned['HTN'] == 'YES', 'htnv'] = 1\n",
    "cleaned.loc[cleaned.Sex == 'M', 'sexv'] = -1\n",
    "cleaned.loc[cleaned.Sex == 'F', 'sexv'] = 1\n",
    "cleaned['cacv']=cleaned.cacv.astype(int)\n",
    "cleaned['sexv']=cleaned.sexv.astype(int)\n",
    "cleaned['htnv']=cleaned.htnv.astype(int)"
   ]
  },
  {
   "cell_type": "markdown",
   "metadata": {},
   "source": [
    "# Some Basic Stats"
   ]
  },
  {
   "cell_type": "code",
   "execution_count": 60,
   "metadata": {
    "scrolled": false
   },
   "outputs": [
    {
     "name": "stdout",
     "output_type": "stream",
     "text": [
      "Average Age: 64.694\n",
      "\n",
      "   CAC  count\n",
      "0   NO    720\n",
      "1  YES    280\n",
      "\n",
      "\n",
      "\n",
      "  Sex  count\n",
      "0   F    499\n",
      "1   M    501\n",
      "\n",
      "\n",
      "\n",
      "   HTN  count\n",
      "0   NO    574\n",
      "1  YES    426\n",
      "\n",
      "\n",
      "Distribution across different labels\n",
      "\n",
      "         count\n",
      "Sex CAC       \n",
      "F   NO   75.95\n",
      "    YES  24.05\n",
      "M   NO   68.06\n",
      "    YES  31.94\n",
      "\n",
      "\n",
      "\n",
      "         count\n",
      "HTN CAC       \n",
      "NO  NO   87.63\n",
      "    YES  12.37\n",
      "YES NO   50.94\n",
      "    YES  49.06\n",
      "\n",
      "\n",
      "\n",
      "           Age           \n",
      "          mean        std\n",
      "CAC                      \n",
      "NO   63.180556  13.839861\n",
      "YES  68.585714  11.233581\n",
      "\n",
      "\n",
      "\n",
      "   HTN  CAC Sex  count\n",
      "0   NO   NO   F    282\n",
      "1   NO   NO   M    221\n",
      "2   NO  YES   F     31\n",
      "3   NO  YES   M     40\n",
      "4  YES   NO   F     97\n",
      "5  YES   NO   M    120\n",
      "6  YES  YES   F     89\n",
      "7  YES  YES   M    120\n"
     ]
    }
   ],
   "source": [
    "cleaned['count'] = 1\n",
    "print('Average Age: {}\\n'.format(cleaned['Age'].mean()))\n",
    "print(cleaned[['CAC', 'count']].groupby('CAC').count().reset_index())\n",
    "print('\\n\\n')\n",
    "print(cleaned[['Sex', 'count']].groupby('Sex').count().reset_index())\n",
    "print('\\n\\n')\n",
    "print(cleaned[['HTN', 'count']].groupby('HTN').count().reset_index())\n",
    "print('\\n\\nDistribution across different labels\\n')\n",
    "\n",
    "#sexDist['percentage'] = sexDist['count']\n",
    "a = cleaned[['CAC', 'Sex', 'count']].groupby(['Sex', 'CAC']).count()\n",
    "print(a.groupby(level=0).apply(lambda x:round(100 * x / float(x.sum()), 2)))\n",
    "print('\\n\\n')\n",
    "a = cleaned[['CAC', 'HTN', 'count']].groupby(['HTN', 'CAC']).count()\n",
    "print(a.groupby(level=0).apply(lambda x:round(100 * x / float(x.sum()), 2)))\n",
    "print('\\n\\n')\n",
    "print(cleaned[['CAC', 'Age']].groupby(['CAC']).agg([np.mean, np.std]))\n",
    "print('\\n\\n')\n",
    "print(cleaned[['CAC', 'Sex', 'HTN', 'count']].groupby(['HTN', 'CAC', 'Sex']).count().reset_index())\n"
   ]
  },
  {
   "cell_type": "code",
   "execution_count": 45,
   "metadata": {},
   "outputs": [
    {
     "data": {
      "text/plain": [
       "<matplotlib.axes._subplots.AxesSubplot at 0x7f34a96d5828>"
      ]
     },
     "execution_count": 45,
     "metadata": {},
     "output_type": "execute_result"
    },
    {
     "data": {
      "image/png": "[encoded data removed]",
      "text/plain": [
       "<matplotlib.figure.Figure at 0x7f34a96bc4e0>"
      ]
     },
     "metadata": {},
     "output_type": "display_data"
    }
   ],
   "source": [
    "sns.violinplot(x='CAC', y='Age', data=cleaned, palette=\"Set3\", bw=.2, cut=1, linewidth=1)"
   ]
  },
  {
   "cell_type": "code",
   "execution_count": 47,
   "metadata": {},
   "outputs": [
    {
     "data": {
      "image/png": "[encoded data removed]",
      "text/plain": [
       "<matplotlib.figure.Figure at 0x7f34a9709a90>"
      ]
     },
     "metadata": {},
     "output_type": "display_data"
    }
   ],
   "source": [
    "sns.violinplot(x=\"CAC\", y=\"Age\", hue=\"Sex\", data=cleaned,\n",
    "               split=True, inner=\"stick\", palette=\"Set3\");"
   ]
  },
  {
   "cell_type": "code",
   "execution_count": 48,
   "metadata": {},
   "outputs": [
    {
     "data": {
      "text/plain": [
       "[Text(0,0.5,'Sex Percentage')]"
      ]
     },
     "execution_count": 48,
     "metadata": {},
     "output_type": "execute_result"
    },
    {
     "data": {
      "image/png": "[encoded data removed]",
      "text/plain": [
       "<matplotlib.figure.Figure at 0x7f34a5806278>"
      ]
     },
     "metadata": {},
     "output_type": "display_data"
    }
   ],
   "source": [
    "a = cleaned[['CAC', 'Sex', 'count']].groupby(['CAC', 'Sex']).count()\n",
    "sexcac=a.groupby(level=0).apply(lambda x:round(100 * x / float(x.sum()), 2)).reset_index()\n",
    "ax = sns.barplot(x=\"CAC\", y=\"count\", hue=\"Sex\", data=sexcac)\n",
    "#ax = sns.countplot(x=\"CAC\", hue=\"Sex\", data=cleaned)\n",
    "ax.set(ylabel=\"Sex Percentage\")"
   ]
  },
  {
   "cell_type": "code",
   "execution_count": 49,
   "metadata": {},
   "outputs": [
    {
     "data": {
      "text/plain": [
       "[Text(0,0.5,'Hx of HTN (%)')]"
      ]
     },
     "execution_count": 49,
     "metadata": {},
     "output_type": "execute_result"
    },
    {
     "data": {
      "image/png": "[encoded data removed]",
      "text/plain": [
       "<matplotlib.figure.Figure at 0x7f34a58062e8>"
      ]
     },
     "metadata": {},
     "output_type": "display_data"
    }
   ],
   "source": [
    "a = cleaned[['CAC', 'HTN', 'count']].groupby(['CAC', 'HTN']).count()\n",
    "sexcac=a.groupby(level=0).apply(lambda x:round(100 * x / float(x.sum()), 2)).reset_index()\n",
    "ax = sns.barplot(x=\"CAC\", y=\"count\", hue=\"HTN\", data=sexcac)\n",
    "ax.set(ylabel=\"Hx of HTN (%)\")"
   ]
  },
  {
   "cell_type": "code",
   "execution_count": 51,
   "metadata": {},
   "outputs": [
    {
     "name": "stdout",
     "output_type": "stream",
     "text": [
      "correlation: -0.08784003718880022, p-value:0.005441816728264843\n"
     ]
    }
   ],
   "source": [
    "res=pearsonr(cleaned['cacv'], cleaned['sexv'])\n",
    "print('correlation: {}, p-value:{}'.format(res[0], res[1]))"
   ]
  },
  {
   "cell_type": "code",
   "execution_count": 52,
   "metadata": {},
   "outputs": [
    {
     "name": "stdout",
     "output_type": "stream",
     "text": [
      "correlation: 0.40409479387087605, p-value:1.438188890377796e-40\n"
     ]
    }
   ],
   "source": [
    "res=pearsonr(cleaned['cacv'], cleaned['htnv'])#.corr(method='pearson')\n",
    "print('correlation: {}, p-value:{}'.format(res[0], res[1]))"
   ]
  },
  {
   "cell_type": "code",
   "execution_count": 53,
   "metadata": {},
   "outputs": [
    {
     "name": "stdout",
     "output_type": "stream",
     "text": [
      "correlation: 0.1814889074082691, p-value:7.466915257195087e-09\n"
     ]
    }
   ],
   "source": [
    "res=pearsonr(cleaned['cacv'], cleaned['Age'])#.corr(method='pearson')\n",
    "print('correlation: {}, p-value:{}'.format(res[0], res[1]))"
   ]
  },
  {
   "cell_type": "code",
   "execution_count": 54,
   "metadata": {},
   "outputs": [
    {
     "name": "stdout",
     "output_type": "stream",
     "text": [
      "0.712\n",
      "             precision    recall  f1-score   support\n",
      "\n",
      "         NO       0.88      0.70      0.78       720\n",
      "        YES       0.49      0.75      0.59       280\n",
      "\n",
      "avg / total       0.77      0.71      0.73      1000\n",
      "\n"
     ]
    }
   ],
   "source": [
    "logreg=linear_model.LogisticRegression(class_weight=\"balanced\")\n",
    "y = cleaned['CAC']\n",
    "predicted = cross_validation.cross_val_predict(logreg, \n",
    "                                               cleaned[['htnv', 'sexv', 'Age']], \n",
    "                                               y , cv=10)\n",
    "print(metrics.accuracy_score(y, predicted))\n",
    "print(metrics.classification_report(y, predicted))"
   ]
  },
  {
   "cell_type": "code",
   "execution_count": 55,
   "metadata": {},
   "outputs": [
    {
     "name": "stdout",
     "output_type": "stream",
     "text": [
      "0.651\n",
      "             precision    recall  f1-score   support\n",
      "\n",
      "         NO       0.83      0.64      0.73       720\n",
      "        YES       0.42      0.67      0.52       280\n",
      "\n",
      "avg / total       0.72      0.65      0.67      1000\n",
      "\n"
     ]
    }
   ],
   "source": [
    "classifier=svm.SVC(kernel='rbf', class_weight=\"balanced\")\n",
    "y = cleaned['CAC']\n",
    "predicted = cross_validation.cross_val_predict(classifier, \n",
    "                                               cleaned[['htnv', 'sexv', 'Age']], \n",
    "                                               y , cv=10)\n",
    "print(metrics.accuracy_score(y, predicted))\n",
    "print(metrics.classification_report(y, predicted))"
   ]
  }
 ],
 "metadata": {
  "kernelspec": {
   "display_name": "Python 3",
   "language": "python",
   "name": "python3"
  },
  "language_info": {
   "codemirror_mode": {
    "name": "ipython",
    "version": 3
   },
   "file_extension": ".py",
   "mimetype": "text/x-python",
   "name": "python",
   "nbconvert_exporter": "python",
   "pygments_lexer": "ipython3",
   "version": "3.6.4"
  }
 },
 "nbformat": 4,
 "nbformat_minor": 2
}
