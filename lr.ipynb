{
  "nbformat": 4,
  "nbformat_minor": 0,
  "metadata": {
    "colab": {
      "name": "lr",
      "provenance": [],
      "collapsed_sections": [],
      "authorship_tag": "ABX9TyP8VKkVIW8aRuO5RkgzyGZM",
      "include_colab_link": true
    },
    "kernelspec": {
      "name": "python3",
      "display_name": "Python 3"
    }
  },
  "cells": [
    {
      "cell_type": "markdown",
      "metadata": {
        "id": "view-in-github",
        "colab_type": "text"
      },
      "source": [
        "<a href=\"https://colab.research.google.com/github/fataltes/quickNBs/blob/master/lr.ipynb\" target=\"_parent\"><img src=\"https://colab.research.google.com/assets/colab-badge.svg\" alt=\"Open In Colab\"/></a>"
      ]
    },
    {
      "cell_type": "code",
      "metadata": {
        "id": "SUfzTAcn9SOZ",
        "colab_type": "code",
        "colab": {}
      },
      "source": [
        "%matplotlib inline\n",
        "import numpy as np\n",
        "from matplotlib import pyplot as plt\n",
        "import random\n",
        "from sklearn.linear_model import LinearRegression\n",
        "import scipy.stats as sst"
      ],
      "execution_count": 152,
      "outputs": []
    },
    {
      "cell_type": "code",
      "metadata": {
        "id": "T6srmxxoaxZr",
        "colab_type": "code",
        "colab": {}
      },
      "source": [
        "import torch\n",
        "from torch.autograd import Variable\n",
        "import math"
      ],
      "execution_count": 85,
      "outputs": []
    },
    {
      "cell_type": "markdown",
      "metadata": {
        "id": "GFCu-rCGJpNs",
        "colab_type": "text"
      },
      "source": [
        "Example initialization"
      ]
    },
    {
      "cell_type": "code",
      "metadata": {
        "id": "jA1sLFzY9sVq",
        "colab_type": "code",
        "colab": {}
      },
      "source": [
        "n = 100\n",
        "X = np.array(np.random.uniform(-10,10, n), dtype=np.float32)\n",
        "X = X.reshape(-1,1)\n",
        "true_w, true_b, true_s = -1, 2, 0.1\n",
        "noise = np.random.normal(0, true_s, n) \n",
        "\n",
        "y = np.array(true_w * X[:,0] + true_b + noise, dtype=np.float32)  \n",
        "y = y.reshape(-1, 1)"
      ],
      "execution_count": 18,
      "outputs": []
    },
    {
      "cell_type": "code",
      "metadata": {
        "id": "puYbn8PXqOR6",
        "colab_type": "code",
        "colab": {}
      },
      "source": [
        "learning_rate = 0.0002\n",
        "max_epoch = 1000\n",
        "init_w, init_b, init_s = -1,1,0.5"
      ],
      "execution_count": 180,
      "outputs": []
    },
    {
      "cell_type": "markdown",
      "metadata": {
        "id": "nnE3Si4DKBp5",
        "colab_type": "text"
      },
      "source": [
        "# Manual gradient descent"
      ]
    },
    {
      "cell_type": "code",
      "metadata": {
        "id": "FRr0Qnd4-N9-",
        "colab_type": "code",
        "colab": {
          "base_uri": "https://localhost:8080/",
          "height": 221
        },
        "outputId": "649e5d53-95c4-414d-8c6c-c634525692b3"
      },
      "source": [
        "eps = 10**-20\n",
        "def gradient_descent(X, y, w, b, s, learning_rate):\n",
        "    # s = s + eps\n",
        "    dw = (1.0/(s**2)) * np.sum((b + (w - 1) * X[:,0])*X[:,0]) # ∂e/∂w\n",
        "    db = (1.0/(s**2)) * np.sum(b - (1-w)*X[:,0])       # ∂e/∂b\n",
        "    theta = ((1-w) * X[:,0] - b ).T @ ((1-w) * X[:,0] - b )\n",
        "    ds = -1 * ((n/(s+eps)) + (theta * (s**-3)))\n",
        "    w_new = w - learning_rate * dw        # minus sign since we are minizing\n",
        "    b_new = b - learning_rate * db\n",
        "    s_new = s - learning_rate * ds\n",
        "    # print(dw, db, ds, ll(X,w_new, b_new, s_new))\n",
        "    return w_new, b_new, s_new\n",
        "\n",
        "def ll(X,w,b,s):\n",
        "    return -1 * (-1 * n * np.log(s*np.square(2*np.pi)) - (1.0/(2*s**2))*(((1-w)*X[:,0]-b).T@((1-w)*X[:,0]-b)))\n",
        "\n",
        "def get_loss(X,y,w,b,s):\n",
        "    return (y[:,0] - (w * X[:,0] + b + sst.norm.pdf(X[:,0], 0, s)) ).T @ (y[:,0] - (w * X[:,0] + b + sst.norm.pdf(X[:,0], 0, s)))   # square loss, \n",
        "    \n",
        "\n",
        "w, b, s = init_w, init_b, init_s\n",
        "print(f'start with loss value: {get_loss(X,y,w,b,s):.0f} and {ll(X, w, b, s)}')\n",
        "for epoch in range(1,max_epoch+1):\n",
        "    w,b,s = gradient_descent(X, y, w, b, s, learning_rate)\n",
        "    if epoch % 100 == 0:\n",
        "      print(f'for w={w:.2f}, b={b:.2f}, s={s:.3f} -->> loss={ll(X,w,b,s):.0f}')\n",
        "\n",
        "if b > 0:\n",
        "    print(f'y = {w:.2f} x + {b:.2f} + norm(0, {s:.3f})')\n",
        "else:\n",
        "    print(f'y = {w:.2f} x - {-b:.2f} + norm(0, {s:.3f})')"
      ],
      "execution_count": 184,
      "outputs": [
        {
          "output_type": "stream",
          "text": [
            "start with loss value: 94 and 32552.539992100876\n",
            "for w=4.95, b=0.95, s=26.494 -->> loss=740\n",
            "for w=4.52, b=0.94, s=26.630 -->> loss=731\n",
            "for w=4.14, b=0.94, s=26.752 -->> loss=724\n",
            "for w=3.81, b=0.93, s=26.864 -->> loss=719\n",
            "for w=3.51, b=0.93, s=26.968 -->> loss=715\n",
            "for w=3.25, b=0.92, s=27.065 -->> loss=711\n",
            "for w=3.02, b=0.92, s=27.157 -->> loss=709\n",
            "for w=2.81, b=0.92, s=27.246 -->> loss=707\n",
            "for w=2.62, b=0.91, s=27.331 -->> loss=706\n",
            "for w=2.46, b=0.91, s=27.413 -->> loss=704\n",
            "y = 2.46 x + 0.91 + norm(0, 27.413)\n"
          ],
          "name": "stdout"
        }
      ]
    },
    {
      "cell_type": "code",
      "metadata": {
        "id": "Ip8e3OrfPru5",
        "colab_type": "code",
        "colab": {}
      },
      "source": [
        "plt.scatter(X, y, s=5, color=\"r\")\n",
        "plt.scatter(X, X[:, 0] * w + b + sst.norm.pdf(X[:,0], 0, s), s=5, color=\"b\")"
      ],
      "execution_count": null,
      "outputs": []
    },
    {
      "cell_type": "markdown",
      "metadata": {
        "id": "d5RP45-ZrAJZ",
        "colab_type": "text"
      },
      "source": [
        "# Pytorch and Adam optimizer"
      ]
    },
    {
      "cell_type": "code",
      "metadata": {
        "id": "OPQbF54pZn1H",
        "colab_type": "code",
        "colab": {
          "base_uri": "https://localhost:8080/",
          "height": 187
        },
        "outputId": "a6d9d898-8c2c-458f-fca8-20e3b5da4c20"
      },
      "source": [
        "xx = Variable(torch.from_numpy(X)).type(torch.FloatTensor)\n",
        "ww = Variable(torch.Tensor(1), requires_grad=True).type(torch.FloatTensor)\n",
        "bb = Variable(torch.Tensor(1), requires_grad=True).type(torch.FloatTensor)\n",
        "ss = Variable(torch.Tensor(1), requires_grad=True).type(torch.FloatTensor)\n",
        "torch.nn.init.constant_(ww, -1)\n",
        "torch.nn.init.constant_(bb, 1)\n",
        "torch.nn.init.constant_(ss, 0.5)\n",
        "\n",
        "\n",
        "optimizer = torch.optim.Adam([ww, bb, ss], lr=learning_rate)\n",
        "\n",
        "for t in range(max_epoch):\n",
        "\n",
        "    optimizer.zero_grad()\n",
        "\n",
        "    NLL = -1 * ( -n*torch.log(ss * np.sqrt(2*math.pi)) - (1.0/torch.square(2*ss))*torch.matmul((((1-ww)*xx)-bb).transpose(0,1),((1-ww)*xx)-bb))\n",
        "    NLL.backward()\n",
        "\n",
        "    optimizer.step()\n",
        "\n",
        "    if t % 100 == 0:\n",
        "      print(\"loglik  =\", NLL.data.numpy(), \" | s =\", ss.data.numpy(), \"dL/ds = \", ss.grad.data.numpy(), \n",
        "            \" | w =\", ww.data.numpy(), \"dL/dw = \", ww.grad.data.numpy(),\n",
        "            \" | b =\", bb.data.numpy(), \"dL/db = \", bb.grad.data.numpy())\n",
        "      \n",
        "    # ww.data -= learning_rate * ww.grad.data\n",
        "    # ww.grad.data.zero_()\n",
        "\n",
        "    # bb.data -= learning_rate * bb.grad.data\n",
        "    # bb.grad.data.zero_()\n",
        "\n",
        "    # ss.data -= learning_rate * ss.grad.data\n",
        "    # ss.grad.data.zero_()\n"
      ],
      "execution_count": 170,
      "outputs": [
        {
          "output_type": "stream",
          "text": [
            "loglik  = [[16149.715]]  | s = [0.5002] dL/ds =  [-64308.543]  | w = [-0.9998] dL/dw =  [-16066.173]  | b = [0.9998] dL/db =  [121.93471]\n",
            "loglik  = [[14669.397]]  | s = [0.5197277] dL/ds =  [-56176.727]  | w = [-0.98010206] dL/dw =  [-14734.2295]  | b = [0.98015904] dL/db =  [110.00839]\n",
            "loglik  = [[13429.456]]  | s = [0.5380721] dL/ds =  [-49636.43]  | w = [-0.9611631] dL/dw =  [-13614.58]  | b = [0.9614266] dL/db =  [100.02875]\n",
            "loglik  = [[12375.318]]  | s = [0.55538595] dL/ds =  [-44279.1]  | w = [-0.94288695] dL/dw =  [-12659.435]  | b = [0.94349915] dL/db =  [91.553894]\n",
            "loglik  = [[11466.451]]  | s = [0.57181925] dL/ds =  [-39815.625]  | w = [-0.92517823] dL/dw =  [-11833.103]  | b = [0.9262712] dL/db =  [84.255325]\n",
            "loglik  = [[10673.522]]  | s = [0.5874909] dL/ds =  [-36043.473]  | w = [-0.90795994] dL/dw =  [-11109.734]  | b = [0.9096575] dL/db =  [77.89531]\n",
            "loglik  = [[9974.737]]  | s = [0.6024975] dL/ds =  [-32816.562]  | w = [-0.89116955] dL/dw =  [-10470.09]  | b = [0.8935882] dL/db =  [72.29735]\n",
            "loglik  = [[9353.532]]  | s = [0.6169187] dL/ds =  [-30026.938]  | w = [-0.87475437] dL/dw =  [-9899.531]  | b = [0.8780055] dL/db =  [67.327225]\n",
            "loglik  = [[8797.075]]  | s = [0.63082093] dL/ds =  [-27593.127]  | w = [-0.85867] dL/dw =  [-9386.709]  | b = [0.86286056] dL/db =  [62.88112]\n",
            "loglik  = [[8295.302]]  | s = [0.6442601] dL/ds =  [-25452.691]  | w = [-0.84287935] dL/dw =  [-8922.692]  | b = [0.84811187] dL/db =  [58.8773]\n"
          ],
          "name": "stdout"
        }
      ]
    },
    {
      "cell_type": "code",
      "metadata": {
        "id": "Du26E1sxhUFn",
        "colab_type": "code",
        "colab": {
          "base_uri": "https://localhost:8080/",
          "height": 283
        },
        "outputId": "0ada8a92-30d7-402b-e4a5-6c1c3659472d"
      },
      "source": [
        "plt.scatter(X, y, s=5, color=\"r\")\n",
        "plt.scatter(X, (xx * ww + bb).detach().flatten() + sst.norm.pdf(X[:,0], 0, ss.detach().flatten()), s=5, color=\"b\")"
      ],
      "execution_count": 175,
      "outputs": [
        {
          "output_type": "execute_result",
          "data": {
            "text/plain": [
              "<matplotlib.collections.PathCollection at 0x7f094e6a5668>"
            ]
          },
          "metadata": {
            "tags": []
          },
          "execution_count": 175
        },
        {
          "output_type": "display_data",
          "data": {
            "image/png": "[encoded data removed]",
            "text/plain": [
              "<Figure size 432x288 with 1 Axes>"
            ]
          },
          "metadata": {
            "tags": [],
            "needs_background": "light"
          }
        }
      ]
    },
    {
      "cell_type": "markdown",
      "metadata": {
        "id": "axf9akShrUnk",
        "colab_type": "text"
      },
      "source": [
        "#**Only recover LR parameters** \n",
        "#### Not considering noise STD in the model"
      ]
    },
    {
      "cell_type": "code",
      "metadata": {
        "id": "bzNHxLfmuGhs",
        "colab_type": "code",
        "colab": {}
      },
      "source": [
        "class linearRegression(torch.nn.Module):\n",
        "    def __init__(self, inputSize, outputSize):\n",
        "        super(linearRegression, self).__init__()\n",
        "        self.linear = torch.nn.Linear(inputSize, outputSize)\n",
        "\n",
        "    def forward(self, x):\n",
        "        out = self.linear(x)\n",
        "        return out"
      ],
      "execution_count": 4,
      "outputs": []
    },
    {
      "cell_type": "code",
      "metadata": {
        "id": "R8Lq4i0-b6vZ",
        "colab_type": "code",
        "colab": {}
      },
      "source": [
        "inputDim = 1        # takes variable 'x' \n",
        "outputDim = 1       # takes variable 'y'\n",
        "learningRate = 0.01 \n",
        "epochs = 100\n",
        "\n",
        "model = linearRegression(inputDim, outputDim)\n",
        "##### For GPU #######\n",
        "if torch.cuda.is_available():\n",
        "    model.cuda()\n",
        "\n",
        "criterion = torch.nn.MSELoss() \n",
        "optimizer = torch.optim.Adam(model.parameters(), lr=learningRate)"
      ],
      "execution_count": 6,
      "outputs": []
    },
    {
      "cell_type": "code",
      "metadata": {
        "id": "UFN0lT8ScOqo",
        "colab_type": "code",
        "colab": {}
      },
      "source": [
        "for epoch in range(epochs):\n",
        "    # Converting inputs and labels to Variable\n",
        "    if torch.cuda.is_available():\n",
        "        inputs = Variable(torch.from_numpy(X).cuda())\n",
        "        labels = Variable(torch.from_numpy(y).cuda())\n",
        "    else:\n",
        "        inputs = Variable(torch.from_numpy(X))\n",
        "        labels = Variable(torch.from_numpy(y))\n",
        "\n",
        "    # Clear gradient buffers because we don't want any gradient from previous epoch to carry forward, dont want to cummulate gradients\n",
        "    optimizer.zero_grad()\n",
        "\n",
        "    # get output from the model, given the inputs\n",
        "    outputs = model(inputs)\n",
        "\n",
        "    # get loss for the predicted output\n",
        "    loss = criterion(outputs, labels)\n",
        "    print(loss)\n",
        "    # get gradients w.r.t to parameters\n",
        "    loss.backward()\n",
        "\n",
        "    # update parameters\n",
        "    optimizer.step()\n",
        "\n",
        "    print('epoch {}, loss {}'.format(epoch, loss.item()))"
      ],
      "execution_count": null,
      "outputs": []
    },
    {
      "cell_type": "code",
      "metadata": {
        "id": "I2YGEFD-fCdb",
        "colab_type": "code",
        "colab": {
          "base_uri": "https://localhost:8080/",
          "height": 284
        },
        "outputId": "47aa3e4c-34a1-481d-fb0f-04b1cc7b4b9f"
      },
      "source": [
        "plt.scatter(X, y, s=5, color=\"r\")\n",
        "plt.plot(X, outputs.detach().flatten())"
      ],
      "execution_count": 14,
      "outputs": [
        {
          "output_type": "execute_result",
          "data": {
            "text/plain": [
              "[<matplotlib.lines.Line2D at 0x7f094f9245f8>]"
            ]
          },
          "metadata": {
            "tags": []
          },
          "execution_count": 14
        },
        {
          "output_type": "display_data",
          "data": {
            "image/png": "[encoded data removed]",
            "text/plain": [
              "<Figure size 432x288 with 1 Axes>"
            ]
          },
          "metadata": {
            "tags": [],
            "needs_background": "light"
          }
        }
      ]
    },
    {
      "cell_type": "code",
      "metadata": {
        "id": "TNxgdwoASSqK",
        "colab_type": "code",
        "colab": {
          "base_uri": "https://localhost:8080/",
          "height": 34
        },
        "outputId": "1701281f-33fe-4262-c360-6fb4868762ba"
      },
      "source": [
        "print(true_b, true_w, true_b/(1-true_w), true_s, true_s/(1-true_w))"
      ],
      "execution_count": 23,
      "outputs": [
        {
          "output_type": "stream",
          "text": [
            "2 -1 1.0 0.1 0.05\n"
          ],
          "name": "stdout"
        }
      ]
    },
    {
      "cell_type": "markdown",
      "metadata": {
        "id": "mTDgE_ceKHFQ",
        "colab_type": "text"
      },
      "source": [
        "Adam"
      ]
    },
    {
      "cell_type": "code",
      "metadata": {
        "id": "UG2MiBOVAJjY",
        "colab_type": "code",
        "colab": {}
      },
      "source": [
        "# Adam\n",
        "def adam(params, vs, sqrs, lr, batch_size, t):\n",
        "    beta1 = 0.9\n",
        "    beta2 = 0.999\n",
        "    eps_stable = 1e-8\n",
        "\n",
        "    for param, v, sqr in zip(params, vs, sqrs):\n",
        "        g = param.grad / batch_size\n",
        "\n",
        "        v[:] = beta1 * v + (1. - beta1) * g\n",
        "        sqr[:] = beta2 * sqr + (1. - beta2) * nd.square(g)\n",
        "\n",
        "        v_bias_corr = v / (1. - beta1 ** t)\n",
        "        sqr_bias_corr = sqr / (1. - beta2 ** t)\n",
        "\n",
        "        div = lr * v_bias_corr / (nd.sqrt(sqr_bias_corr) + eps_stable)\n",
        "        param[:] = param - div\n",
        "\n",
        "\n",
        "\n",
        "mx.random.seed(1)\n",
        "random.seed(1)\n",
        "\n",
        "# Generate data.\n",
        "num_inputs = 1\n",
        "num_examples = 100\n",
        "true_w = [-1]\n",
        "true_b = 2\n",
        "X2 = np.reshape(X, (num_examples, num_inputs))\n",
        "ndX = nd.array(X2)\n",
        "ndy = nd.array(y)\n",
        "dataset = gluon.data.ArrayDataset(ndX, ndy)\n",
        "\n",
        "# Construct data iterator.\n",
        "def data_iter(batch_size):\n",
        "    idx = list(range(num_examples))\n",
        "    random.shuffle(idx)\n",
        "    for batch_i, i in enumerate(range(0, num_examples, batch_size)):\n",
        "        j = nd.array(idx[i: min(i + batch_size, num_examples)])\n",
        "        yield batch_i, ndX.take(j), ndy.take(j)\n",
        "\n",
        "# Initialize model parameters.\n",
        "def init_params():\n",
        "    w = nd.random_normal(scale=1, shape=(num_inputs, 1))\n",
        "    b = nd.zeros(shape=(1,))\n",
        "    params = [w, b]\n",
        "    vs = []\n",
        "    sqrs = []\n",
        "    for param in params:\n",
        "        param.attach_grad()\n",
        "        vs.append(param.zeros_like())\n",
        "        sqrs.append(param.zeros_like())\n",
        "    return params, vs, sqrs\n",
        "\n",
        "# Linear regression.\n",
        "def net(X, w, b):\n",
        "    return nd.dot(X, w) + b\n",
        "\n",
        "# Loss function.\n",
        "def square_loss(yhat, y):\n",
        "    return (yhat - y.reshape(yhat.shape)) ** 2 / 2"
      ],
      "execution_count": null,
      "outputs": []
    },
    {
      "cell_type": "code",
      "metadata": {
        "id": "GBONvaRCBFj0",
        "colab_type": "code",
        "colab": {}
      },
      "source": [
        "import matplotlib as mpl\n",
        "mpl.rcParams['figure.dpi']= 120\n",
        "\n",
        "def train(batch_size, lr, epochs, period):\n",
        "    assert period >= batch_size and period % batch_size == 0\n",
        "    [w, b], vs, sqrs = init_params()\n",
        "    total_loss = [np.mean(square_loss(net(ndX, w, b), ndy).asnumpy())]\n",
        "\n",
        "    t = 0\n",
        "    # Epoch starts from 1.\n",
        "    for epoch in range(1, epochs + 1):\n",
        "        for batch_i, data, label in data_iter(batch_size):\n",
        "            with autograd.record():\n",
        "                output = net(data, w, b)\n",
        "                loss = square_loss(output, label)\n",
        "            loss.backward()\n",
        "            # Increment t before invoking adam.\n",
        "            t += 1\n",
        "            adam([w, b], vs, sqrs, lr, batch_size, t)\n",
        "            if batch_i * batch_size % period == 0:\n",
        "                total_loss.append(np.mean(square_loss(net(ndX, w, b), ndy).asnumpy()))\n",
        "        print(\"Batch size %d, Learning rate %f, Epoch %d, loss %.4e\" %\n",
        "              (batch_size, lr, epoch, total_loss[-1]))\n",
        "    print('w:', np.reshape(w.asnumpy(), (1, -1)),\n",
        "          'b:', b.asnumpy()[0], '\\n')\n",
        "    x_axis = np.linspace(0, epochs, len(total_loss), endpoint=True)\n",
        "    plt.semilogy(x_axis, total_loss)\n",
        "    plt.xlabel('epoch')\n",
        "    plt.ylabel('loss')\n",
        "    plt.show()\n",
        "    return (np.reshape(w.asnumpy(), (1, -1)), b.asnumpy()[0])"
      ],
      "execution_count": null,
      "outputs": []
    },
    {
      "cell_type": "code",
      "metadata": {
        "id": "ktOfIDInBTrH",
        "colab_type": "code",
        "colab": {}
      },
      "source": [
        "rt = train(batch_size=10, lr=0.1, epochs=3, period=10)"
      ],
      "execution_count": null,
      "outputs": []
    },
    {
      "cell_type": "code",
      "metadata": {
        "id": "kvwEZJlSLxR3",
        "colab_type": "code",
        "colab": {
          "base_uri": "https://localhost:8080/",
          "height": 450
        },
        "outputId": "ded25fb3-12b3-4d90-f9f0-914cddd004ce"
      },
      "source": [
        "plt.scatter(X, y, s=5, color=\"r\")\n",
        "plt.plot(X, rt[0][:,0]*X+rt[1])"
      ],
      "execution_count": null,
      "outputs": [
        {
          "output_type": "execute_result",
          "data": {
            "text/plain": [
              "[<matplotlib.lines.Line2D at 0x7f6611d70fd0>]"
            ]
          },
          "metadata": {
            "tags": []
          },
          "execution_count": 91
        },
        {
          "output_type": "display_data",
          "data": {
            "image/png": "[encoded data removed]",
            "text/plain": [
              "<Figure size 720x480 with 1 Axes>"
            ]
          },
          "metadata": {
            "tags": [],
            "needs_background": "light"
          }
        }
      ]
    }
  ]
}