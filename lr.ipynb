{
  "nbformat": 4,
  "nbformat_minor": 0,
  "metadata": {
    "colab": {
      "name": "lr.ipynb",
      "provenance": [],
      "collapsed_sections": [],
      "authorship_tag": "ABX9TyP8NcFyBeTPnKnJmz9d/11v",
      "include_colab_link": true
    },
    "kernelspec": {
      "name": "python3",
      "display_name": "Python 3"
    }
  },
  "cells": [
    {
      "cell_type": "markdown",
      "metadata": {
        "id": "view-in-github",
        "colab_type": "text"
      },
      "source": [
        "<a href=\"https://colab.research.google.com/github/fataltes/quickNBs/blob/master/lr.ipynb\" target=\"_parent\"><img src=\"https://colab.research.google.com/assets/colab-badge.svg\" alt=\"Open In Colab\"/></a>"
      ]
    },
    {
      "cell_type": "code",
      "metadata": {
        "id": "1V2umtlCBoj5",
        "colab_type": "code",
        "colab": {
          "base_uri": "https://localhost:8080/",
          "height": 309
        },
        "outputId": "74c63608-6971-43f4-b1e5-b5990592ebae"
      },
      "source": [
        "!pip install mxnet"
      ],
      "execution_count": 1,
      "outputs": [
        {
          "output_type": "stream",
          "text": [
            "Collecting mxnet\n",
            "\u001b[?25l  Downloading https://files.pythonhosted.org/packages/29/bb/54cbabe428351c06d10903c658878d29ee7026efbe45133fd133598d6eb6/mxnet-1.7.0.post1-py2.py3-none-manylinux2014_x86_64.whl (55.0MB)\n",
            "\u001b[K     |████████████████████████████████| 55.0MB 74kB/s \n",
            "\u001b[?25hCollecting graphviz<0.9.0,>=0.8.1\n",
            "  Downloading https://files.pythonhosted.org/packages/53/39/4ab213673844e0c004bed8a0781a0721a3f6bb23eb8854ee75c236428892/graphviz-0.8.4-py2.py3-none-any.whl\n",
            "Requirement already satisfied: requests<3,>=2.20.0 in /usr/local/lib/python3.6/dist-packages (from mxnet) (2.23.0)\n",
            "Requirement already satisfied: numpy<2.0.0,>1.16.0 in /usr/local/lib/python3.6/dist-packages (from mxnet) (1.18.5)\n",
            "Requirement already satisfied: certifi>=2017.4.17 in /usr/local/lib/python3.6/dist-packages (from requests<3,>=2.20.0->mxnet) (2020.6.20)\n",
            "Requirement already satisfied: chardet<4,>=3.0.2 in /usr/local/lib/python3.6/dist-packages (from requests<3,>=2.20.0->mxnet) (3.0.4)\n",
            "Requirement already satisfied: idna<3,>=2.5 in /usr/local/lib/python3.6/dist-packages (from requests<3,>=2.20.0->mxnet) (2.10)\n",
            "Requirement already satisfied: urllib3!=1.25.0,!=1.25.1,<1.26,>=1.21.1 in /usr/local/lib/python3.6/dist-packages (from requests<3,>=2.20.0->mxnet) (1.24.3)\n",
            "Installing collected packages: graphviz, mxnet\n",
            "  Found existing installation: graphviz 0.10.1\n",
            "    Uninstalling graphviz-0.10.1:\n",
            "      Successfully uninstalled graphviz-0.10.1\n",
            "Successfully installed graphviz-0.8.4 mxnet-1.7.0.post1\n"
          ],
          "name": "stdout"
        }
      ]
    },
    {
      "cell_type": "code",
      "metadata": {
        "id": "SUfzTAcn9SOZ",
        "colab_type": "code",
        "colab": {}
      },
      "source": [
        "%matplotlib inline\n",
        "import numpy as np\n",
        "from matplotlib import pyplot as plt\n",
        "import mxnet as mx\n",
        "from mxnet import autograd\n",
        "from mxnet import ndarray as nd\n",
        "from mxnet import gluon\n",
        "import random\n",
        "from sklearn.linear_model import LinearRegression"
      ],
      "execution_count": 16,
      "outputs": []
    },
    {
      "cell_type": "markdown",
      "metadata": {
        "id": "GFCu-rCGJpNs",
        "colab_type": "text"
      },
      "source": [
        "Example initialization"
      ]
    },
    {
      "cell_type": "code",
      "metadata": {
        "id": "jA1sLFzY9sVq",
        "colab_type": "code",
        "colab": {}
      },
      "source": [
        "n = 100\n",
        "X = np.random.uniform(-10,10, n) \n",
        "noise = np.random.normal(0, 0.1, n) \n",
        "true_w, true_b = -1, 2\n",
        "\n",
        "y = true_w * X + true_b + noise  "
      ],
      "execution_count": 83,
      "outputs": []
    },
    {
      "cell_type": "markdown",
      "metadata": {
        "id": "nnE3Si4DKBp5",
        "colab_type": "text"
      },
      "source": [
        "Simple gradient deescent"
      ]
    },
    {
      "cell_type": "code",
      "metadata": {
        "id": "FRr0Qnd4-N9-",
        "colab_type": "code",
        "colab": {
          "base_uri": "https://localhost:8080/",
          "height": 204
        },
        "outputId": "3cdf767e-a05f-4137-b382-fb2503234bb5"
      },
      "source": [
        "def gradient_descent(X, y, w, b, learning_rate):\n",
        "    dw = -2 * np.sum(X * (y - w * X - b)) # ∂e/∂w\n",
        "    db = -2 * np.sum(y - w * X - b)       # ∂e/∂b\n",
        "    w_new = w - learning_rate * dw        # minus sign since we are minizing\n",
        "    b_new = b - learning_rate * db\n",
        "    return w_new, b_new\n",
        "\n",
        "def get_loss(X,y,w,b):\n",
        "    return (y - w * X - b).T @ (y - w * X - b)   # square loss, \n",
        "    # .T and @ denote transpose and matrix multiplication resp.\n",
        "    \n",
        "\n",
        "learning_rate = 0.0001\n",
        "max_epoch = 500\n",
        "w, b = -1,3\n",
        "\n",
        "for epoch in range(1,max_epoch+1):\n",
        "    w,b = gradient_descent(X, y, w, b, learning_rate)\n",
        "    \n",
        "    if epoch % 50 == 0:\n",
        "        print(f'{get_loss(X,y,w,b):.0f}')\n",
        "\n",
        "if b > 0:\n",
        "    print(f'y = {w:.2f} x + {b:.2f}')\n",
        "else:\n",
        "    print(f'y = {w:.2f} x - {-b:.2f}')"
      ],
      "execution_count": 84,
      "outputs": [
        {
          "output_type": "stream",
          "text": [
            "14\n",
            "2\n",
            "1\n",
            "1\n",
            "1\n",
            "1\n",
            "1\n",
            "1\n",
            "1\n",
            "1\n",
            "y = -1.00 x + 2.01\n"
          ],
          "name": "stdout"
        }
      ]
    },
    {
      "cell_type": "markdown",
      "metadata": {
        "id": "mTDgE_ceKHFQ",
        "colab_type": "text"
      },
      "source": [
        "Adam"
      ]
    },
    {
      "cell_type": "code",
      "metadata": {
        "id": "UG2MiBOVAJjY",
        "colab_type": "code",
        "colab": {}
      },
      "source": [
        "# Adam\n",
        "def adam(params, vs, sqrs, lr, batch_size, t):\n",
        "    beta1 = 0.9\n",
        "    beta2 = 0.999\n",
        "    eps_stable = 1e-8\n",
        "\n",
        "    for param, v, sqr in zip(params, vs, sqrs):\n",
        "        g = param.grad / batch_size\n",
        "\n",
        "        v[:] = beta1 * v + (1. - beta1) * g\n",
        "        sqr[:] = beta2 * sqr + (1. - beta2) * nd.square(g)\n",
        "\n",
        "        v_bias_corr = v / (1. - beta1 ** t)\n",
        "        sqr_bias_corr = sqr / (1. - beta2 ** t)\n",
        "\n",
        "        div = lr * v_bias_corr / (nd.sqrt(sqr_bias_corr) + eps_stable)\n",
        "        param[:] = param - div\n",
        "\n",
        "\n",
        "\n",
        "mx.random.seed(1)\n",
        "random.seed(1)\n",
        "\n",
        "# Generate data.\n",
        "num_inputs = 1\n",
        "num_examples = 100\n",
        "true_w = [-1]\n",
        "true_b = 2\n",
        "X2 = np.reshape(X, (num_examples, num_inputs))\n",
        "ndX = nd.array(X2)\n",
        "ndy = nd.array(y)\n",
        "dataset = gluon.data.ArrayDataset(ndX, ndy)\n",
        "\n",
        "# Construct data iterator.\n",
        "def data_iter(batch_size):\n",
        "    idx = list(range(num_examples))\n",
        "    random.shuffle(idx)\n",
        "    for batch_i, i in enumerate(range(0, num_examples, batch_size)):\n",
        "        j = nd.array(idx[i: min(i + batch_size, num_examples)])\n",
        "        yield batch_i, ndX.take(j), ndy.take(j)\n",
        "\n",
        "# Initialize model parameters.\n",
        "def init_params():\n",
        "    w = nd.random_normal(scale=1, shape=(num_inputs, 1))\n",
        "    b = nd.zeros(shape=(1,))\n",
        "    params = [w, b]\n",
        "    vs = []\n",
        "    sqrs = []\n",
        "    for param in params:\n",
        "        param.attach_grad()\n",
        "        vs.append(param.zeros_like())\n",
        "        sqrs.append(param.zeros_like())\n",
        "    return params, vs, sqrs\n",
        "\n",
        "# Linear regression.\n",
        "def net(X, w, b):\n",
        "    return nd.dot(X, w) + b\n",
        "\n",
        "# Loss function.\n",
        "def square_loss(yhat, y):\n",
        "    return (yhat - y.reshape(yhat.shape)) ** 2 / 2"
      ],
      "execution_count": 85,
      "outputs": []
    },
    {
      "cell_type": "code",
      "metadata": {
        "id": "GBONvaRCBFj0",
        "colab_type": "code",
        "colab": {}
      },
      "source": [
        "import matplotlib as mpl\n",
        "mpl.rcParams['figure.dpi']= 120\n",
        "\n",
        "def train(batch_size, lr, epochs, period):\n",
        "    assert period >= batch_size and period % batch_size == 0\n",
        "    [w, b], vs, sqrs = init_params()\n",
        "    total_loss = [np.mean(square_loss(net(ndX, w, b), ndy).asnumpy())]\n",
        "\n",
        "    t = 0\n",
        "    # Epoch starts from 1.\n",
        "    for epoch in range(1, epochs + 1):\n",
        "        for batch_i, data, label in data_iter(batch_size):\n",
        "            with autograd.record():\n",
        "                output = net(data, w, b)\n",
        "                loss = square_loss(output, label)\n",
        "            loss.backward()\n",
        "            # Increment t before invoking adam.\n",
        "            t += 1\n",
        "            adam([w, b], vs, sqrs, lr, batch_size, t)\n",
        "            if batch_i * batch_size % period == 0:\n",
        "                total_loss.append(np.mean(square_loss(net(ndX, w, b), ndy).asnumpy()))\n",
        "        print(\"Batch size %d, Learning rate %f, Epoch %d, loss %.4e\" %\n",
        "              (batch_size, lr, epoch, total_loss[-1]))\n",
        "    print('w:', np.reshape(w.asnumpy(), (1, -1)),\n",
        "          'b:', b.asnumpy()[0], '\\n')\n",
        "    x_axis = np.linspace(0, epochs, len(total_loss), endpoint=True)\n",
        "    plt.semilogy(x_axis, total_loss)\n",
        "    plt.xlabel('epoch')\n",
        "    plt.ylabel('loss')\n",
        "    plt.show()\n",
        "    return (np.reshape(w.asnumpy(), (1, -1)), b.asnumpy()[0])"
      ],
      "execution_count": 77,
      "outputs": []
    },
    {
      "cell_type": "code",
      "metadata": {
        "id": "ktOfIDInBTrH",
        "colab_type": "code",
        "colab": {
          "base_uri": "https://localhost:8080/",
          "height": 542
        },
        "outputId": "d1e392c4-0678-4836-ba53-c1d067dfd0d5"
      },
      "source": [
        "rt = train(batch_size=10, lr=0.1, epochs=3, period=10)"
      ],
      "execution_count": 86,
      "outputs": [
        {
          "output_type": "stream",
          "text": [
            "Batch size 10, Learning rate 0.100000, Epoch 1, loss 8.4357e-01\n",
            "Batch size 10, Learning rate 0.100000, Epoch 2, loss 1.8208e-01\n",
            "Batch size 10, Learning rate 0.100000, Epoch 3, loss 7.6206e-02\n",
            "w: [[-1.0603776]] b: 2.1943483 \n",
            "\n"
          ],
          "name": "stdout"
        },
        {
          "output_type": "display_data",
          "data": {
            "image/png": "[encoded data removed]",
            "text/plain": [
              "<Figure size 720x480 with 1 Axes>"
            ]
          },
          "metadata": {
            "tags": [],
            "needs_background": "light"
          }
        }
      ]
    },
    {
      "cell_type": "code",
      "metadata": {
        "id": "kvwEZJlSLxR3",
        "colab_type": "code",
        "colab": {
          "base_uri": "https://localhost:8080/",
          "height": 450
        },
        "outputId": "ded25fb3-12b3-4d90-f9f0-914cddd004ce"
      },
      "source": [
        "plt.scatter(X, y, s=5, color=\"r\")\n",
        "plt.plot(X, rt[0][:,0]*X+rt[1])"
      ],
      "execution_count": 91,
      "outputs": [
        {
          "output_type": "execute_result",
          "data": {
            "text/plain": [
              "[<matplotlib.lines.Line2D at 0x7f6611d70fd0>]"
            ]
          },
          "metadata": {
            "tags": []
          },
          "execution_count": 91
        },
        {
          "output_type": "display_data",
          "data": {
            "image/png": "[encoded data removed]",
            "text/plain": [
              "<Figure size 720x480 with 1 Axes>"
            ]
          },
          "metadata": {
            "tags": [],
            "needs_background": "light"
          }
        }
      ]
    }
  ]
}