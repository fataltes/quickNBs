{
 "cells": [
  {
   "cell_type": "code",
   "execution_count": 1,
   "metadata": {},
   "outputs": [],
   "source": [
    "%matplotlib inline\n",
    "import pandas as pd\n",
    "import numpy as np\n",
    "from collections import defaultdict\n",
    "from scipy.stats import spearmanr\n",
    "from scipy.stats import pearsonr\n",
    "import matplotlib as mpl\n",
    "import matplotlib.pyplot as plt\n",
    "from math import log\n",
    "import seaborn as sb"
   ]
  },
  {
   "cell_type": "code",
   "execution_count": 2,
   "metadata": {},
   "outputs": [],
   "source": [
    "def relDiff(c1, c2, DF, cutoff=0.01, verbose=False):\n",
    "    import pandas as pd\n",
    "    \"\"\"\n",
    "    Computes the relative difference between the values\n",
    "    in columns c1 and c2 of DF.\n",
    "    c1 and c2 are column names and DF is a Pandas data frame.\n",
    "    Values less than cutoff will be treated as 0.\n",
    "    The relative difference is defined as\n",
    "    d(x_i, y_i) =\n",
    "        0.0 if x_i and y_i are 0\n",
    "        (x_i - y_i) / (|x_i + y_i|) otherwise\n",
    "    This function returns two values.\n",
    "    rd is a DataFrame where the \"relDiff\" column contains all\n",
    "    of the computed relative differences.\n",
    "    nz is a set of indexes into rd for data points where\n",
    "    x_i and y_i were not *both* zero.\n",
    "    \"\"\"\n",
    "    import numpy as np\n",
    "    rd = pd.DataFrame(data = {\"Name\" : DF.index, \"relDiff\" : np.zeros(len(DF.index))*np.nan})\n",
    "    rd.set_index(\"Name\", inplace=True)\n",
    "    bothZero = DF.loc[(DF[c1] < cutoff) & (DF[c2] < cutoff)].index\n",
    "    nonZero = DF.index.difference(bothZero)\n",
    "    if (verbose):\n",
    "        print(\"Zero occurs in both columns {} times\".format(len(rd.loc[bothZero])))\n",
    "        print(\"Nonzero occurs in at least 1 column {} times\".format(len(rd.loc[nonZero])))\n",
    "    allRD = 2.0 * ((DF[c1] - DF[c2]) / (DF[c1] + DF[c2]).abs())\n",
    "    assert(len(rd.loc[nonZero][\"relDiff\"]) == len(allRD[nonZero]))\n",
    "    rd[\"relDiff\"][nonZero] = allRD[nonZero]\n",
    "    if len(bothZero) > 0:\n",
    "        rd[\"relDiff\"][bothZero] = 0.0\n",
    "    return rd, nonZero"
   ]
  },
  {
   "cell_type": "code",
   "execution_count": 192,
   "metadata": {},
   "outputs": [],
   "source": [
    "def aggregate(df, taxidID, cntID, level = 'species'):\n",
    "    agg = {}\n",
    "    notFoundCntr = 0\n",
    "    for idx, row in df.iterrows():\n",
    "        taxid = row[taxidID]\n",
    "        cnt = row[cntID]\n",
    "        taxlevel = partyp[taxid][1]\n",
    "        while taxlevel != level and taxid != 1:\n",
    "            if taxid in partyp:    \n",
    "                taxid = partyp[taxid][0]\n",
    "                taxlevel = partyp[taxid][1]\n",
    "            else:\n",
    "                notFoundCntr+=1\n",
    "                break\n",
    "        if taxlevel == level:\n",
    "            if taxid not in agg:\n",
    "                 agg[taxid] = 0\n",
    "            agg[taxid] += cnt\n",
    "    print('notFound: {}'.format(notFoundCntr))\n",
    "    agg_df = pd.DataFrame.from_dict(agg, orient='index').reset_index()\n",
    "    agg_df.columns = ['taxid', 'count']\n",
    "    return agg_df"
   ]
  },
  {
   "cell_type": "code",
   "execution_count": 144,
   "metadata": {},
   "outputs": [],
   "source": [
    "# around 40,000 taxids are duplicates!!!!\n",
    "partyp = {}\n",
    "repeated_ids = []\n",
    "with open('/mnt/scratch2/cedar/input_files/nodes.dmp') as f:\n",
    "    for line in f:\n",
    "        sp = line.split(\"|\")\n",
    "        if int(sp[0].strip()) in partyp:\n",
    "            repeated_ids += [int(sp[0].strip())]\n",
    "        else:\n",
    "            partyp[int(sp[0].strip())] = [int(sp[1].strip()), sp[2].strip()]"
   ]
  },
  {
   "cell_type": "code",
   "execution_count": 365,
   "metadata": {},
   "outputs": [],
   "source": [
    "# seq2taxid=pd.read_table('/mnt/scratch2/cedar/input_files/seqid2taxid.map', header=None, names=['ref', 'taxid'])\n",
    "# seq2taxid['acc'] = seq2taxid['ref'].str.split('|').str[0]\n",
    "# truth=pd.read_table('/mnt/scratch2/cedar/input_files/i100_ref.truth')\n",
    "puff=pd.read_table('/mnt/scratch2/cedar/results/puff/aligned_trimmed_i100_31_sr1.quant/quant.sf')\n",
    "# sal=pd.read_table('/mnt/scratch2/cedar/results/salmon/aligned_trimmed_i100_31_sr1.salmon/quant.sf')\n",
    "# cedar=pd.read_table('/mnt/scratch2/cedar/results/cedar/aligned_trimmed_i100_31_sr1.cedar')"
   ]
  },
  {
   "cell_type": "code",
   "execution_count": 275,
   "metadata": {},
   "outputs": [],
   "source": [
    "bracken=pd.read_table('/mnt/scratch2/cedar/results/bracken/trimmed_i100_k31_bracken.kreport', header=None)\n",
    "bracken.columns = ['percentage', 'count', 'distinctCount', 'level', 'taxid', 'taxname']\n",
    "bracken = bracken[bracken['level'] == 'S'][['taxid', 'taxname', 'count']]\n",
    "bracken['taxname'] = bracken['taxname'].str.strip()"
   ]
  },
  {
   "cell_type": "code",
   "execution_count": 366,
   "metadata": {},
   "outputs": [
    {
     "name": "stdout",
     "output_type": "stream",
     "text": [
      "26043627.415000003\n",
      "25836628.312000003\n",
      "26065555.429669715\n",
      "26321839\n"
     ]
    }
   ],
   "source": [
    "print(puff['NumReads'].sum())\n",
    "print(sal['NumReads'].sum())\n",
    "print(cedar['count'].sum())\n",
    "print(bracken['count'].sum())"
   ]
  },
  {
   "cell_type": "code",
   "execution_count": 367,
   "metadata": {},
   "outputs": [],
   "source": [
    "# truth_taxid = pd.merge(truth, seq2taxid, left_on='id', right_on='acc', how='left')\n",
    "puff_taxid = pd.merge(puff, seq2taxid, left_on='Name', right_on='ref', how='left')\n",
    "# sal_taxid = pd.merge(sal, seq2taxid, left_on='Name', right_on='ref', how='left')"
   ]
  },
  {
   "cell_type": "code",
   "execution_count": 368,
   "metadata": {},
   "outputs": [
    {
     "name": "stdout",
     "output_type": "stream",
     "text": [
      "notFound: 0\n"
     ]
    }
   ],
   "source": [
    "# truth_agg = aggregate(truth_taxid, 'taxid', 'cnt')\n",
    "# sal_agg = aggregate(sal_taxid, 'taxid', 'NumReads')\n",
    "puff_agg = aggregate(puff_taxid, 'taxid', 'NumReads')\n",
    "#cedar_agg = aggregate(cedar, 'taxaId', 'count')"
   ]
  },
  {
   "cell_type": "code",
   "execution_count": 369,
   "metadata": {},
   "outputs": [],
   "source": [
    "# Merging truth with prediction\n",
    "trusal = pd.merge(truth_agg, sal_agg, on = 'taxid', how='outer', suffixes=['', '_sal']).fillna(0)\n",
    "trusalpuf = pd.merge(trusal, puff_agg, on = 'taxid', how='outer', suffixes=['', '_puff']).fillna(0)\n",
    "trusalpufced = pd.merge(trusalpuf, cedar_agg, on = 'taxid', how='outer', suffixes=['', '_cedar']).fillna(0)\n",
    "trusalpufcedbrac = pd.merge(trusalpufced, bracken, on = 'taxid', how='outer', suffixes=['', '_brac']).fillna(0)"
   ]
  },
  {
   "cell_type": "code",
   "execution_count": 370,
   "metadata": {},
   "outputs": [
    {
     "data": {
      "text/plain": [
       "count          26667004\n",
       "count_sal      25836628\n",
       "count_puff     26043627\n",
       "count_cedar    26065555\n",
       "count_brac     26321839\n",
       "dtype: uint64"
      ]
     },
     "execution_count": 370,
     "metadata": {},
     "output_type": "execute_result"
    }
   ],
   "source": [
    "trusalpufcedbrac[['count', 'count_sal', 'count_puff', 'count_cedar', 'count_brac']].sum().astype(np.uint64)"
   ]
  },
  {
   "cell_type": "code",
   "execution_count": 375,
   "metadata": {},
   "outputs": [
    {
     "name": "stdout",
     "output_type": "stream",
     "text": [
      "number of distinct species:\n",
      "count_sal ==> # of unique species: 628\n",
      "\tcorr: 0.5946251965979771\n",
      "\tMARD : 0.8670192982780448\n",
      "count_puff ==> # of unique species: 655\n",
      "\tcorr: 0.5839174500041414\n",
      "\tMARD : 0.8719365202667791\n",
      "count_cedar ==> # of unique species: 557\n",
      "\tcorr: 0.6256188538182845\n",
      "\tMARD : 0.8494135037678909\n",
      "count_brac ==> # of unique species: 623\n",
      "\tcorr: 0.5827626569180799\n",
      "\tMARD : 0.8673333280273844\n"
     ]
    }
   ],
   "source": [
    "print('number of distinct species:')\n",
    "minCnt = 0\n",
    "for col in ['count_sal', 'count_puff', 'count_cedar', 'count_brac']:\n",
    "    print('{} ==> # of unique species: {}'.format(col, len(trusalpufcedbrac[trusalpufcedbrac[col] > minCnt])))\n",
    "    print('\\tcorr: {}'.format(trusalpufcedbrac[(trusalpufcedbrac[col] > minCnt) | (trusalpufcedbrac['count'] != 0)]\n",
    "                              [['count', col]].corr(method='spearman')['count'][col]))\n",
    "    rd, _ = relDiff('count', col, trusalpufcedbrac, cutoff=minCnt)\n",
    "    print(\"\\tMARD : {}\".format((0.5*rd['relDiff'].abs()).mean()))"
   ]
  },
  {
   "cell_type": "code",
   "execution_count": 300,
   "metadata": {},
   "outputs": [
    {
     "name": "stdout",
     "output_type": "stream",
     "text": [
      "247012\n"
     ]
    }
   ],
   "source": [
    "kraken=pd.read_table('/mnt/scratch2/cedar/results/bracken/i100_31.kraken', header=None)\n",
    "kraken.columns = ['status', 'read', 'taxid', 'tmp', 'tmp2']\n",
    "kraken = kraken[kraken['status'] == 'C'][['read', 'taxid']]\n",
    "kraken['count'] = 1\n",
    "kraken = kraken[['taxid', 'count']].groupby('taxid').sum().reset_index()\n",
    "print(kraken['count'].sum())"
   ]
  },
  {
   "cell_type": "code",
   "execution_count": 193,
   "metadata": {},
   "outputs": [
    {
     "name": "stdout",
     "output_type": "stream",
     "text": [
      "notFound: 0\n"
     ]
    }
   ],
   "source": [
    "kraken_agg = aggregate(kraken, 'taxid', 'count')"
   ]
  },
  {
   "cell_type": "code",
   "execution_count": 196,
   "metadata": {},
   "outputs": [
    {
     "name": "stdout",
     "output_type": "stream",
     "text": [
      "count_krak ==> # of unique species: 189\n",
      "\tcorr: 0.9273881782943014\n",
      "\tMARD : 0.6429138449054718\n"
     ]
    }
   ],
   "source": [
    "trukrak = pd.merge(truth_agg, kraken_agg, on = 'taxid', how='outer', suffixes=['', '_krak']).fillna(0)\n",
    "col = 'count_krak'\n",
    "print('{} ==> # of unique species: {}'.format(col, len(trukrak[trukrak[col] != 0])))\n",
    "print('\\tcorr: {}'.format(trukrak[(trukrak[col] != 0) | (trukrak['count'] != 0)]\n",
    "                          [['count', col]].corr(method='spearman')['count'][col]))\n",
    "rd, _ = relDiff('count', col, trukrak, cutoff=2)\n",
    "print(\"\\tMARD : {}\".format((0.5*rd['relDiff'].abs()).mean()))"
   ]
  },
  {
   "cell_type": "code",
   "execution_count": 235,
   "metadata": {},
   "outputs": [],
   "source": [
    "col = 'count_brac'\n",
    "a = trusalpufcedbrac[(trusalpufcedbrac['count'] != 0) | (trusalpufcedbrac[col] != 0)][['taxid','count',col]]\n",
    "a.sort_values(by='count', ascending=False, inplace=True)\n",
    "a=a.reset_index()[['taxid','count', col]]"
   ]
  },
  {
   "cell_type": "code",
   "execution_count": 236,
   "metadata": {},
   "outputs": [
    {
     "data": {
      "text/plain": [
       "<matplotlib.axes._subplots.AxesSubplot at 0x7ff593787780>"
      ]
     },
     "execution_count": 236,
     "metadata": {},
     "output_type": "execute_result"
    },
    {
     "data": {
      "image/png": "[encoded data removed]",
      "text/plain": [
       "<Figure size 432x288 with 1 Axes>"
      ]
     },
     "metadata": {
      "needs_background": "light"
     },
     "output_type": "display_data"
    }
   ],
   "source": [
    "a.plot(kind='bar', y=col)\n",
    "a['count'].plot()"
   ]
  },
  {
   "cell_type": "code",
   "execution_count": 234,
   "metadata": {},
   "outputs": [
    {
     "data": {
      "text/plain": [
       "228964"
      ]
     },
     "execution_count": 234,
     "metadata": {},
     "output_type": "execute_result"
    }
   ],
   "source": [
    "trukrak['count_krak'].sum()"
   ]
  },
  {
   "cell_type": "code",
   "execution_count": 232,
   "metadata": {},
   "outputs": [
    {
     "data": {
      "text/plain": [
       "<matplotlib.axes._subplots.AxesSubplot at 0x7ff5934ae898>"
      ]
     },
     "execution_count": 232,
     "metadata": {},
     "output_type": "execute_result"
    },
    {
     "data": {
      "image/png": "[encoded data removed]",
      "text/plain": [
       "<Figure size 432x288 with 1 Axes>"
      ]
     },
     "metadata": {
      "needs_background": "light"
     },
     "output_type": "display_data"
    }
   ],
   "source": [
    "trukrak.sort_values(by='count', ascending=False, inplace=True)\n",
    "b=trukrak.reset_index()[['taxid','count', 'count_krak']]\n",
    "b.plot(kind='bar', y='count_krak')\n",
    "b['count'].plot()"
   ]
  },
  {
   "cell_type": "code",
   "execution_count": 3,
   "metadata": {},
   "outputs": [
    {
     "name": "stdout",
     "output_type": "stream",
     "text": [
      "                   Species    TaxID  NumCounts\n",
      "0  Acinetobacter baumannii  1018343   262164.0\n",
      "             Species   TaxID  NumCounts\n",
      "0  Absiella dolichum  428127      1.274\n",
      "             Species   TaxID  NumCounts\n",
      "0  Absiella dolichum  428127      1.005\n",
      "             Species  TaxID  NumCounts\n",
      "0  Absiella dolichum  31971      662.0\n"
     ]
    }
   ],
   "source": [
    "truth=pd.read_table('/mnt/scratch2/cedar/input_files/i100_taxonomy.truth')\n",
    "truth = truth.groupby('Species').sum().reset_index()\n",
    "print(truth.head(1))\n",
    "puff=pd.read_table('/mnt/scratch2/cedar/results/script_results/noalnmnt_i100_31_sr1_puff/out.tab')\n",
    "puff = puff.groupby('Species').sum().reset_index()\n",
    "print(puff.head(1))\n",
    "salmon=pd.read_table('/mnt/scratch2/cedar/results/script_results/i100_31_sr1_salmon/out.tab')\n",
    "salmon = salmon.groupby('Species').sum().reset_index()\n",
    "print(salmon.head(1))\n",
    "cedar=pd.read_table('/mnt/scratch2/cedar/results/script_results/i100_31_sr1_cedar/out.tab')\n",
    "cedar = cedar.groupby('Species').sum().reset_index()\n",
    "print(cedar.head(1))"
   ]
  },
  {
   "cell_type": "code",
   "execution_count": 152,
   "metadata": {},
   "outputs": [],
   "source": [
    "bracken=pd.read_table('/mnt/scratch2/cedar/results/bracken/i100_31.kreport_bracken', header=None)\n",
    "bracken.columns = ['percentage', 'aggrCount', 'NumCounts', 'level', 'taxid', 'taxname']\n",
    "bracken.head(1)\n",
    "bracken = bracken[bracken['level'] == 'S'][['taxid', 'taxname', 'NumCounts']]\n",
    "bracken['taxname'] = bracken['taxname'].str.strip()\n",
    "bracken.columns = ['taxid', 'taxname', 'count']"
   ]
  },
  {
   "cell_type": "code",
   "execution_count": 149,
   "metadata": {},
   "outputs": [],
   "source": [
    "truth=pd.read_table('/mnt/scratch2/cedar/input_files/i100_taxonomy.truth')\n",
    "truth = truth.groupby('Species').sum().reset_index()\n"
   ]
  },
  {
   "cell_type": "code",
   "execution_count": 161,
   "metadata": {},
   "outputs": [],
   "source": [
    "res = pd.merge(truth, bracken, left_on='Species', right_on='taxname', how='outer').fillna(0)"
   ]
  },
  {
   "cell_type": "code",
   "execution_count": 163,
   "metadata": {},
   "outputs": [
    {
     "name": "stdout",
     "output_type": "stream",
     "text": [
      "bracken ==> # of unique species: 85\n",
      "\tcorr: 0.8808748841859805\n",
      "\tMARD : 0.6445672673488408\n"
     ]
    }
   ],
   "source": [
    "print('{} ==> # of unique species: {}'.format('bracken', len(res[res['Species'] != 0]['Species'].unique())))\n",
    "print('\\tcorr: {}'.format(res[['NumCounts', 'count']].corr(method='spearman')['NumCounts']['count']))\n",
    "rd, _ = relDiff('NumCounts', 'count', res, cutoff=2)\n",
    "print(\"\\tMARD : {}\".format((0.5*rd['relDiff'].abs()).mean()))"
   ]
  },
  {
   "cell_type": "code",
   "execution_count": 5,
   "metadata": {},
   "outputs": [],
   "source": [
    "al=pd.merge(truth, puff, on='Species', how='outer')[['Species', 'NumCounts_x', 'NumCounts_y']].fillna(0)\n",
    "al.columns = ['Species', 'truth', 'puff']\n",
    "al=pd.merge(al, salmon, on='Species', how='outer')[['Species', 'truth', 'puff', 'NumCounts']].fillna(0)\n",
    "al.columns = ['Species', 'truth', 'puff', 'salmon']\n",
    "al=pd.merge(al, cedar, on='Species', how='outer')[['Species', 'truth', 'puff', 'salmon', 'NumCounts']].fillna(0)\n",
    "al.columns = ['Species', 'truth', 'puff', 'salmon', 'cedar']\n",
    "al=pd.merge(al, bracken, on='Species', how='outer')[['Species', 'truth', 'puff', 'salmon', 'cedar', 'NumCounts']].fillna(0)\n",
    "al.columns = ['Species', 'truth', 'puff', 'salmon', 'cedar', 'bracken']"
   ]
  },
  {
   "cell_type": "code",
   "execution_count": 252,
   "metadata": {},
   "outputs": [
    {
     "data": {
      "text/plain": [
       "truth      26667004\n",
       "puff       26206795\n",
       "salmon     25893411\n",
       "cedar      26336914\n",
       "bracken      246970\n",
       "dtype: uint64"
      ]
     },
     "execution_count": 252,
     "metadata": {},
     "output_type": "execute_result"
    }
   ],
   "source": [
    "#26667004\n",
    "pd.set_option('display.width', 500)\n",
    "al[['truth', 'puff', 'salmon', 'cedar', 'bracken']].sum().astype(np.uint64)"
   ]
  },
  {
   "cell_type": "code",
   "execution_count": 7,
   "metadata": {
    "scrolled": true
   },
   "outputs": [
    {
     "name": "stdout",
     "output_type": "stream",
     "text": [
      "number of distinct species:\n",
      "puff ==> # of unique species: 673\n",
      "\tcorr: 0.5771148730419895\n",
      "\tMARD : 0.44326697994503655\n",
      "salmon ==> # of unique species: 485\n",
      "\tcorr: 0.6627743789409638\n",
      "\tMARD : 0.3759827143824895\n",
      "cedar ==> # of unique species: 750\n",
      "\tcorr: 0.5363935842728118\n",
      "\tMARD : 0.9442527780267141\n",
      "bracken ==> # of unique species: 188\n",
      "\tcorr: 0.9220709392084507\n",
      "\tMARD : 0.16307294380330192\n"
     ]
    }
   ],
   "source": [
    "print('number of distinct species:')\n",
    "for col in ['puff', 'salmon', 'cedar', 'bracken']:\n",
    "    print('{} ==> # of unique species: {}'.format(col, len(al[al[col] != 0]['Species'].unique())))\n",
    "    print('\\tcorr: {}'.format(al[al[col] != 0][['truth', col]].corr(method='spearman')['truth'][col]))\n",
    "    rd, _ = relDiff('truth', col, al, cutoff=2)\n",
    "    print(\"\\tMARD : {}\".format((0.5*rd['relDiff'].abs()).mean()))"
   ]
  },
  {
   "cell_type": "code",
   "execution_count": 22,
   "metadata": {
    "collapsed": true
   },
   "outputs": [
    {
     "data": {
      "text/html": [
       "<div>\n",
       "<style scoped>\n",
       "    .dataframe tbody tr th:only-of-type {\n",
       "        vertical-align: middle;\n",
       "    }\n",
       "\n",
       "    .dataframe tbody tr th {\n",
       "        vertical-align: top;\n",
       "    }\n",
       "\n",
       "    .dataframe thead th {\n",
       "        text-align: right;\n",
       "    }\n",
       "</style>\n",
       "<table border=\"1\" class=\"dataframe\">\n",
       "  <thead>\n",
       "    <tr style=\"text-align: right;\">\n",
       "      <th></th>\n",
       "      <th>Species</th>\n",
       "      <th>truth</th>\n",
       "      <th>puff</th>\n",
       "      <th>salmon</th>\n",
       "      <th>cedar</th>\n",
       "      <th>bracken</th>\n",
       "    </tr>\n",
       "  </thead>\n",
       "  <tbody>\n",
       "    <tr>\n",
       "      <th>0</th>\n",
       "      <td>Acinetobacter baumannii</td>\n",
       "      <td>262164.0</td>\n",
       "      <td>59875.158</td>\n",
       "      <td>243181.077</td>\n",
       "      <td>938622.0</td>\n",
       "      <td>2395.0</td>\n",
       "    </tr>\n",
       "    <tr>\n",
       "      <th>1</th>\n",
       "      <td>Alkalilimnicola ehrlichii</td>\n",
       "      <td>230160.0</td>\n",
       "      <td>52339.024</td>\n",
       "      <td>224504.034</td>\n",
       "      <td>56202.0</td>\n",
       "      <td>2234.0</td>\n",
       "    </tr>\n",
       "    <tr>\n",
       "      <th>2</th>\n",
       "      <td>Alkaliphilus metalliredigens</td>\n",
       "      <td>374667.0</td>\n",
       "      <td>85591.446</td>\n",
       "      <td>352826.229</td>\n",
       "      <td>109518.0</td>\n",
       "      <td>3465.0</td>\n",
       "    </tr>\n",
       "    <tr>\n",
       "      <th>3</th>\n",
       "      <td>Bacillus anthracis</td>\n",
       "      <td>408054.0</td>\n",
       "      <td>61818.911</td>\n",
       "      <td>394338.602</td>\n",
       "      <td>311929.0</td>\n",
       "      <td>3684.0</td>\n",
       "    </tr>\n",
       "    <tr>\n",
       "      <th>4</th>\n",
       "      <td>Bacillus cereus</td>\n",
       "      <td>1320777.0</td>\n",
       "      <td>248185.262</td>\n",
       "      <td>1271628.751</td>\n",
       "      <td>823304.0</td>\n",
       "      <td>12241.0</td>\n",
       "    </tr>\n",
       "    <tr>\n",
       "      <th>5</th>\n",
       "      <td>Bacillus clausii</td>\n",
       "      <td>286614.0</td>\n",
       "      <td>64841.676</td>\n",
       "      <td>280708.654</td>\n",
       "      <td>78647.0</td>\n",
       "      <td>2651.0</td>\n",
       "    </tr>\n",
       "    <tr>\n",
       "      <th>6</th>\n",
       "      <td>Bacillus halodurans</td>\n",
       "      <td>274294.0</td>\n",
       "      <td>63007.950</td>\n",
       "      <td>263758.940</td>\n",
       "      <td>93128.0</td>\n",
       "      <td>2512.0</td>\n",
       "    </tr>\n",
       "    <tr>\n",
       "      <th>7</th>\n",
       "      <td>Bacillus subtilis</td>\n",
       "      <td>272560.0</td>\n",
       "      <td>62709.799</td>\n",
       "      <td>265348.603</td>\n",
       "      <td>84908.0</td>\n",
       "      <td>2543.0</td>\n",
       "    </tr>\n",
       "    <tr>\n",
       "      <th>8</th>\n",
       "      <td>Bacillus thuringiensis</td>\n",
       "      <td>372187.0</td>\n",
       "      <td>161021.430</td>\n",
       "      <td>356551.975</td>\n",
       "      <td>374846.0</td>\n",
       "      <td>3272.0</td>\n",
       "    </tr>\n",
       "    <tr>\n",
       "      <th>9</th>\n",
       "      <td>Bacteroides thetaiotaomicron</td>\n",
       "      <td>402214.0</td>\n",
       "      <td>89738.833</td>\n",
       "      <td>384015.731</td>\n",
       "      <td>94806.0</td>\n",
       "      <td>3641.0</td>\n",
       "    </tr>\n",
       "    <tr>\n",
       "      <th>10</th>\n",
       "      <td>Bordetella bronchiseptica</td>\n",
       "      <td>466134.0</td>\n",
       "      <td>104465.286</td>\n",
       "      <td>451959.368</td>\n",
       "      <td>108951.0</td>\n",
       "      <td>4281.0</td>\n",
       "    </tr>\n",
       "    <tr>\n",
       "      <th>11</th>\n",
       "      <td>Borreliella bavariensis</td>\n",
       "      <td>81441.0</td>\n",
       "      <td>18255.070</td>\n",
       "      <td>80065.082</td>\n",
       "      <td>18528.0</td>\n",
       "      <td>750.0</td>\n",
       "    </tr>\n",
       "    <tr>\n",
       "      <th>12</th>\n",
       "      <td>Buchnera aphidicola</td>\n",
       "      <td>26587.0</td>\n",
       "      <td>5936.762</td>\n",
       "      <td>26133.113</td>\n",
       "      <td>6262.0</td>\n",
       "      <td>185.0</td>\n",
       "    </tr>\n",
       "    <tr>\n",
       "      <th>13</th>\n",
       "      <td>Burkholderia pseudomallei</td>\n",
       "      <td>464987.0</td>\n",
       "      <td>103699.123</td>\n",
       "      <td>454981.077</td>\n",
       "      <td>113630.0</td>\n",
       "      <td>4140.0</td>\n",
       "    </tr>\n",
       "    <tr>\n",
       "      <th>14</th>\n",
       "      <td>Campylobacter concisus</td>\n",
       "      <td>160562.0</td>\n",
       "      <td>35972.756</td>\n",
       "      <td>155658.329</td>\n",
       "      <td>38295.0</td>\n",
       "      <td>1444.0</td>\n",
       "    </tr>\n",
       "    <tr>\n",
       "      <th>15</th>\n",
       "      <td>Candidatus Blochmannia pennsylvanicus</td>\n",
       "      <td>53307.0</td>\n",
       "      <td>11919.096</td>\n",
       "      <td>52494.570</td>\n",
       "      <td>12361.0</td>\n",
       "      <td>436.0</td>\n",
       "    </tr>\n",
       "    <tr>\n",
       "      <th>16</th>\n",
       "      <td>Chlamydia caviae</td>\n",
       "      <td>75947.0</td>\n",
       "      <td>16800.230</td>\n",
       "      <td>74536.269</td>\n",
       "      <td>17017.0</td>\n",
       "      <td>723.0</td>\n",
       "    </tr>\n",
       "    <tr>\n",
       "      <th>17</th>\n",
       "      <td>Chlamydia pneumoniae</td>\n",
       "      <td>79974.0</td>\n",
       "      <td>17808.445</td>\n",
       "      <td>78638.059</td>\n",
       "      <td>18160.0</td>\n",
       "      <td>736.0</td>\n",
       "    </tr>\n",
       "    <tr>\n",
       "      <th>18</th>\n",
       "      <td>Chlamydia trachomatis</td>\n",
       "      <td>73440.0</td>\n",
       "      <td>16459.796</td>\n",
       "      <td>72177.840</td>\n",
       "      <td>16978.0</td>\n",
       "      <td>757.0</td>\n",
       "    </tr>\n",
       "    <tr>\n",
       "      <th>19</th>\n",
       "      <td>Chromobacterium violaceum</td>\n",
       "      <td>336880.0</td>\n",
       "      <td>75431.730</td>\n",
       "      <td>327284.134</td>\n",
       "      <td>86047.0</td>\n",
       "      <td>3047.0</td>\n",
       "    </tr>\n",
       "    <tr>\n",
       "      <th>20</th>\n",
       "      <td>Clostridium beijerinckii</td>\n",
       "      <td>426880.0</td>\n",
       "      <td>98435.618</td>\n",
       "      <td>413267.137</td>\n",
       "      <td>127115.0</td>\n",
       "      <td>4027.0</td>\n",
       "    </tr>\n",
       "    <tr>\n",
       "      <th>21</th>\n",
       "      <td>Clostridium botulinum</td>\n",
       "      <td>286907.0</td>\n",
       "      <td>64838.124</td>\n",
       "      <td>278477.357</td>\n",
       "      <td>81941.0</td>\n",
       "      <td>2533.0</td>\n",
       "    </tr>\n",
       "    <tr>\n",
       "      <th>22</th>\n",
       "      <td>Clostridium novyi</td>\n",
       "      <td>215627.0</td>\n",
       "      <td>49180.381</td>\n",
       "      <td>206259.549</td>\n",
       "      <td>75079.0</td>\n",
       "      <td>1966.0</td>\n",
       "    </tr>\n",
       "    <tr>\n",
       "      <th>23</th>\n",
       "      <td>Corynebacterium efficiens</td>\n",
       "      <td>237814.0</td>\n",
       "      <td>53553.524</td>\n",
       "      <td>232071.884</td>\n",
       "      <td>134223.0</td>\n",
       "      <td>2226.0</td>\n",
       "    </tr>\n",
       "    <tr>\n",
       "      <th>24</th>\n",
       "      <td>Corynebacterium urealyticum</td>\n",
       "      <td>174534.0</td>\n",
       "      <td>39848.420</td>\n",
       "      <td>167490.816</td>\n",
       "      <td>45034.0</td>\n",
       "      <td>1648.0</td>\n",
       "    </tr>\n",
       "    <tr>\n",
       "      <th>25</th>\n",
       "      <td>Coxiella burnetii</td>\n",
       "      <td>137654.0</td>\n",
       "      <td>31320.021</td>\n",
       "      <td>133613.902</td>\n",
       "      <td>38636.0</td>\n",
       "      <td>1192.0</td>\n",
       "    </tr>\n",
       "    <tr>\n",
       "      <th>26</th>\n",
       "      <td>Cupriavidus necator</td>\n",
       "      <td>29627.0</td>\n",
       "      <td>6559.670</td>\n",
       "      <td>28333.421</td>\n",
       "      <td>6710.0</td>\n",
       "      <td>312.0</td>\n",
       "    </tr>\n",
       "    <tr>\n",
       "      <th>27</th>\n",
       "      <td>Cyanothece sp. ATCC 51142</td>\n",
       "      <td>378402.0</td>\n",
       "      <td>85593.847</td>\n",
       "      <td>370256.105</td>\n",
       "      <td>93053.0</td>\n",
       "      <td>3371.0</td>\n",
       "    </tr>\n",
       "    <tr>\n",
       "      <th>28</th>\n",
       "      <td>Cytophaga hutchinsonii</td>\n",
       "      <td>312400.0</td>\n",
       "      <td>70580.015</td>\n",
       "      <td>304636.293</td>\n",
       "      <td>73869.0</td>\n",
       "      <td>2876.0</td>\n",
       "    </tr>\n",
       "    <tr>\n",
       "      <th>29</th>\n",
       "      <td>Erwinia tasmaniensis</td>\n",
       "      <td>328615.0</td>\n",
       "      <td>73803.114</td>\n",
       "      <td>319475.090</td>\n",
       "      <td>90212.0</td>\n",
       "      <td>3061.0</td>\n",
       "    </tr>\n",
       "    <tr>\n",
       "      <th>...</th>\n",
       "      <td>...</td>\n",
       "      <td>...</td>\n",
       "      <td>...</td>\n",
       "      <td>...</td>\n",
       "      <td>...</td>\n",
       "      <td>...</td>\n",
       "    </tr>\n",
       "    <tr>\n",
       "      <th>512</th>\n",
       "      <td>Myroides odoratimimus</td>\n",
       "      <td>0.0</td>\n",
       "      <td>0.000</td>\n",
       "      <td>1.000</td>\n",
       "      <td>507.0</td>\n",
       "      <td>0.0</td>\n",
       "    </tr>\n",
       "    <tr>\n",
       "      <th>513</th>\n",
       "      <td>Neisseria elongata</td>\n",
       "      <td>0.0</td>\n",
       "      <td>0.000</td>\n",
       "      <td>9.471</td>\n",
       "      <td>1891.0</td>\n",
       "      <td>0.0</td>\n",
       "    </tr>\n",
       "    <tr>\n",
       "      <th>514</th>\n",
       "      <td>Neisseria subflava</td>\n",
       "      <td>0.0</td>\n",
       "      <td>0.000</td>\n",
       "      <td>8.298</td>\n",
       "      <td>1975.0</td>\n",
       "      <td>2.0</td>\n",
       "    </tr>\n",
       "    <tr>\n",
       "      <th>515</th>\n",
       "      <td>Paenisporosarcina sp. HGH0030</td>\n",
       "      <td>0.0</td>\n",
       "      <td>0.000</td>\n",
       "      <td>5.430</td>\n",
       "      <td>4596.0</td>\n",
       "      <td>0.0</td>\n",
       "    </tr>\n",
       "    <tr>\n",
       "      <th>516</th>\n",
       "      <td>Parabacteroides goldsteinii</td>\n",
       "      <td>0.0</td>\n",
       "      <td>0.000</td>\n",
       "      <td>9.022</td>\n",
       "      <td>800.0</td>\n",
       "      <td>0.0</td>\n",
       "    </tr>\n",
       "    <tr>\n",
       "      <th>517</th>\n",
       "      <td>Parabacteroides johnsonii</td>\n",
       "      <td>0.0</td>\n",
       "      <td>0.000</td>\n",
       "      <td>4.749</td>\n",
       "      <td>509.0</td>\n",
       "      <td>0.0</td>\n",
       "    </tr>\n",
       "    <tr>\n",
       "      <th>518</th>\n",
       "      <td>Paraprevotella xylaniphila</td>\n",
       "      <td>0.0</td>\n",
       "      <td>0.000</td>\n",
       "      <td>1.114</td>\n",
       "      <td>304.0</td>\n",
       "      <td>0.0</td>\n",
       "    </tr>\n",
       "    <tr>\n",
       "      <th>519</th>\n",
       "      <td>Parascardovia denticolens</td>\n",
       "      <td>0.0</td>\n",
       "      <td>0.000</td>\n",
       "      <td>2.218</td>\n",
       "      <td>354.0</td>\n",
       "      <td>0.0</td>\n",
       "    </tr>\n",
       "    <tr>\n",
       "      <th>520</th>\n",
       "      <td>Pasteurella bettyae</td>\n",
       "      <td>0.0</td>\n",
       "      <td>0.000</td>\n",
       "      <td>4.289</td>\n",
       "      <td>684.0</td>\n",
       "      <td>0.0</td>\n",
       "    </tr>\n",
       "    <tr>\n",
       "      <th>521</th>\n",
       "      <td>Peptoniphilus lacrimalis</td>\n",
       "      <td>0.0</td>\n",
       "      <td>0.000</td>\n",
       "      <td>6.472</td>\n",
       "      <td>277.0</td>\n",
       "      <td>0.0</td>\n",
       "    </tr>\n",
       "    <tr>\n",
       "      <th>522</th>\n",
       "      <td>Peptoniphilus sp. BV3C26</td>\n",
       "      <td>0.0</td>\n",
       "      <td>0.000</td>\n",
       "      <td>1.007</td>\n",
       "      <td>245.0</td>\n",
       "      <td>0.0</td>\n",
       "    </tr>\n",
       "    <tr>\n",
       "      <th>523</th>\n",
       "      <td>Peptoniphilus sp. oral taxon 836</td>\n",
       "      <td>0.0</td>\n",
       "      <td>0.000</td>\n",
       "      <td>0.012</td>\n",
       "      <td>524.0</td>\n",
       "      <td>0.0</td>\n",
       "    </tr>\n",
       "    <tr>\n",
       "      <th>524</th>\n",
       "      <td>Porphyromonas asaccharolytica</td>\n",
       "      <td>0.0</td>\n",
       "      <td>0.000</td>\n",
       "      <td>1.001</td>\n",
       "      <td>22.0</td>\n",
       "      <td>0.0</td>\n",
       "    </tr>\n",
       "    <tr>\n",
       "      <th>525</th>\n",
       "      <td>Porphyromonas endodontalis</td>\n",
       "      <td>0.0</td>\n",
       "      <td>0.000</td>\n",
       "      <td>1.000</td>\n",
       "      <td>33.0</td>\n",
       "      <td>0.0</td>\n",
       "    </tr>\n",
       "    <tr>\n",
       "      <th>526</th>\n",
       "      <td>Prevotella buccae</td>\n",
       "      <td>0.0</td>\n",
       "      <td>0.000</td>\n",
       "      <td>73.109</td>\n",
       "      <td>306.0</td>\n",
       "      <td>0.0</td>\n",
       "    </tr>\n",
       "    <tr>\n",
       "      <th>527</th>\n",
       "      <td>Shuttleworthia satelles</td>\n",
       "      <td>0.0</td>\n",
       "      <td>0.000</td>\n",
       "      <td>2.000</td>\n",
       "      <td>233.0</td>\n",
       "      <td>0.0</td>\n",
       "    </tr>\n",
       "    <tr>\n",
       "      <th>528</th>\n",
       "      <td>Simonsiella muelleri</td>\n",
       "      <td>0.0</td>\n",
       "      <td>0.000</td>\n",
       "      <td>4.347</td>\n",
       "      <td>5075.0</td>\n",
       "      <td>0.0</td>\n",
       "    </tr>\n",
       "    <tr>\n",
       "      <th>529</th>\n",
       "      <td>Staphylococcus caprae</td>\n",
       "      <td>0.0</td>\n",
       "      <td>0.000</td>\n",
       "      <td>5.734</td>\n",
       "      <td>4476.0</td>\n",
       "      <td>2.0</td>\n",
       "    </tr>\n",
       "    <tr>\n",
       "      <th>530</th>\n",
       "      <td>Streptococcus pseudoporcinus</td>\n",
       "      <td>0.0</td>\n",
       "      <td>0.000</td>\n",
       "      <td>14.174</td>\n",
       "      <td>2072.0</td>\n",
       "      <td>0.0</td>\n",
       "    </tr>\n",
       "    <tr>\n",
       "      <th>531</th>\n",
       "      <td>Streptococcus sp. 2_1_36FAA</td>\n",
       "      <td>0.0</td>\n",
       "      <td>0.000</td>\n",
       "      <td>4.095</td>\n",
       "      <td>1578.0</td>\n",
       "      <td>0.0</td>\n",
       "    </tr>\n",
       "    <tr>\n",
       "      <th>532</th>\n",
       "      <td>Streptococcus sp. SK643</td>\n",
       "      <td>0.0</td>\n",
       "      <td>0.000</td>\n",
       "      <td>16.198</td>\n",
       "      <td>1585.0</td>\n",
       "      <td>2.0</td>\n",
       "    </tr>\n",
       "    <tr>\n",
       "      <th>533</th>\n",
       "      <td>Streptomyces sp. HGB0020</td>\n",
       "      <td>0.0</td>\n",
       "      <td>0.000</td>\n",
       "      <td>3.000</td>\n",
       "      <td>1564.0</td>\n",
       "      <td>0.0</td>\n",
       "    </tr>\n",
       "    <tr>\n",
       "      <th>534</th>\n",
       "      <td>Streptomyces sp. HPH0547</td>\n",
       "      <td>0.0</td>\n",
       "      <td>0.000</td>\n",
       "      <td>1.000</td>\n",
       "      <td>1737.0</td>\n",
       "      <td>0.0</td>\n",
       "    </tr>\n",
       "    <tr>\n",
       "      <th>535</th>\n",
       "      <td>Subdoligranulum sp. 4_3_54A2FAA</td>\n",
       "      <td>0.0</td>\n",
       "      <td>0.000</td>\n",
       "      <td>93.868</td>\n",
       "      <td>556.0</td>\n",
       "      <td>0.0</td>\n",
       "    </tr>\n",
       "    <tr>\n",
       "      <th>536</th>\n",
       "      <td>Synergistes sp. 3_1_syn1</td>\n",
       "      <td>0.0</td>\n",
       "      <td>0.000</td>\n",
       "      <td>2.028</td>\n",
       "      <td>336.0</td>\n",
       "      <td>0.0</td>\n",
       "    </tr>\n",
       "    <tr>\n",
       "      <th>537</th>\n",
       "      <td>Treponema socranskii</td>\n",
       "      <td>0.0</td>\n",
       "      <td>0.000</td>\n",
       "      <td>1.015</td>\n",
       "      <td>486.0</td>\n",
       "      <td>0.0</td>\n",
       "    </tr>\n",
       "    <tr>\n",
       "      <th>538</th>\n",
       "      <td>Veillonella atypica</td>\n",
       "      <td>0.0</td>\n",
       "      <td>0.000</td>\n",
       "      <td>2.145</td>\n",
       "      <td>1289.0</td>\n",
       "      <td>0.0</td>\n",
       "    </tr>\n",
       "    <tr>\n",
       "      <th>539</th>\n",
       "      <td>[Clostridium] asparagiforme</td>\n",
       "      <td>0.0</td>\n",
       "      <td>0.000</td>\n",
       "      <td>1.000</td>\n",
       "      <td>131.0</td>\n",
       "      <td>0.0</td>\n",
       "    </tr>\n",
       "    <tr>\n",
       "      <th>540</th>\n",
       "      <td>[Clostridium] leptum</td>\n",
       "      <td>0.0</td>\n",
       "      <td>0.000</td>\n",
       "      <td>1.008</td>\n",
       "      <td>2032.0</td>\n",
       "      <td>0.0</td>\n",
       "    </tr>\n",
       "    <tr>\n",
       "      <th>541</th>\n",
       "      <td>[Propionibacterium] humerusii</td>\n",
       "      <td>0.0</td>\n",
       "      <td>0.000</td>\n",
       "      <td>1.000</td>\n",
       "      <td>253.0</td>\n",
       "      <td>0.0</td>\n",
       "    </tr>\n",
       "  </tbody>\n",
       "</table>\n",
       "<p>485 rows × 6 columns</p>\n",
       "</div>"
      ],
      "text/plain": [
       "                                   Species      truth        puff       salmon     cedar  bracken\n",
       "0                  Acinetobacter baumannii   262164.0   59875.158   243181.077  938622.0   2395.0\n",
       "1                Alkalilimnicola ehrlichii   230160.0   52339.024   224504.034   56202.0   2234.0\n",
       "2             Alkaliphilus metalliredigens   374667.0   85591.446   352826.229  109518.0   3465.0\n",
       "3                       Bacillus anthracis   408054.0   61818.911   394338.602  311929.0   3684.0\n",
       "4                          Bacillus cereus  1320777.0  248185.262  1271628.751  823304.0  12241.0\n",
       "5                         Bacillus clausii   286614.0   64841.676   280708.654   78647.0   2651.0\n",
       "6                      Bacillus halodurans   274294.0   63007.950   263758.940   93128.0   2512.0\n",
       "7                        Bacillus subtilis   272560.0   62709.799   265348.603   84908.0   2543.0\n",
       "8                   Bacillus thuringiensis   372187.0  161021.430   356551.975  374846.0   3272.0\n",
       "9             Bacteroides thetaiotaomicron   402214.0   89738.833   384015.731   94806.0   3641.0\n",
       "10               Bordetella bronchiseptica   466134.0  104465.286   451959.368  108951.0   4281.0\n",
       "11                 Borreliella bavariensis    81441.0   18255.070    80065.082   18528.0    750.0\n",
       "12                     Buchnera aphidicola    26587.0    5936.762    26133.113    6262.0    185.0\n",
       "13               Burkholderia pseudomallei   464987.0  103699.123   454981.077  113630.0   4140.0\n",
       "14                  Campylobacter concisus   160562.0   35972.756   155658.329   38295.0   1444.0\n",
       "15   Candidatus Blochmannia pennsylvanicus    53307.0   11919.096    52494.570   12361.0    436.0\n",
       "16                        Chlamydia caviae    75947.0   16800.230    74536.269   17017.0    723.0\n",
       "17                    Chlamydia pneumoniae    79974.0   17808.445    78638.059   18160.0    736.0\n",
       "18                   Chlamydia trachomatis    73440.0   16459.796    72177.840   16978.0    757.0\n",
       "19               Chromobacterium violaceum   336880.0   75431.730   327284.134   86047.0   3047.0\n",
       "20                Clostridium beijerinckii   426880.0   98435.618   413267.137  127115.0   4027.0\n",
       "21                   Clostridium botulinum   286907.0   64838.124   278477.357   81941.0   2533.0\n",
       "22                       Clostridium novyi   215627.0   49180.381   206259.549   75079.0   1966.0\n",
       "23               Corynebacterium efficiens   237814.0   53553.524   232071.884  134223.0   2226.0\n",
       "24             Corynebacterium urealyticum   174534.0   39848.420   167490.816   45034.0   1648.0\n",
       "25                       Coxiella burnetii   137654.0   31320.021   133613.902   38636.0   1192.0\n",
       "26                     Cupriavidus necator    29627.0    6559.670    28333.421    6710.0    312.0\n",
       "27               Cyanothece sp. ATCC 51142   378402.0   85593.847   370256.105   93053.0   3371.0\n",
       "28                  Cytophaga hutchinsonii   312400.0   70580.015   304636.293   73869.0   2876.0\n",
       "29                    Erwinia tasmaniensis   328615.0   73803.114   319475.090   90212.0   3061.0\n",
       "..                                     ...        ...         ...          ...       ...      ...\n",
       "512                  Myroides odoratimimus        0.0       0.000        1.000     507.0      0.0\n",
       "513                     Neisseria elongata        0.0       0.000        9.471    1891.0      0.0\n",
       "514                     Neisseria subflava        0.0       0.000        8.298    1975.0      2.0\n",
       "515          Paenisporosarcina sp. HGH0030        0.0       0.000        5.430    4596.0      0.0\n",
       "516            Parabacteroides goldsteinii        0.0       0.000        9.022     800.0      0.0\n",
       "517              Parabacteroides johnsonii        0.0       0.000        4.749     509.0      0.0\n",
       "518             Paraprevotella xylaniphila        0.0       0.000        1.114     304.0      0.0\n",
       "519              Parascardovia denticolens        0.0       0.000        2.218     354.0      0.0\n",
       "520                    Pasteurella bettyae        0.0       0.000        4.289     684.0      0.0\n",
       "521               Peptoniphilus lacrimalis        0.0       0.000        6.472     277.0      0.0\n",
       "522               Peptoniphilus sp. BV3C26        0.0       0.000        1.007     245.0      0.0\n",
       "523       Peptoniphilus sp. oral taxon 836        0.0       0.000        0.012     524.0      0.0\n",
       "524          Porphyromonas asaccharolytica        0.0       0.000        1.001      22.0      0.0\n",
       "525             Porphyromonas endodontalis        0.0       0.000        1.000      33.0      0.0\n",
       "526                      Prevotella buccae        0.0       0.000       73.109     306.0      0.0\n",
       "527                Shuttleworthia satelles        0.0       0.000        2.000     233.0      0.0\n",
       "528                   Simonsiella muelleri        0.0       0.000        4.347    5075.0      0.0\n",
       "529                  Staphylococcus caprae        0.0       0.000        5.734    4476.0      2.0\n",
       "530           Streptococcus pseudoporcinus        0.0       0.000       14.174    2072.0      0.0\n",
       "531            Streptococcus sp. 2_1_36FAA        0.0       0.000        4.095    1578.0      0.0\n",
       "532                Streptococcus sp. SK643        0.0       0.000       16.198    1585.0      2.0\n",
       "533               Streptomyces sp. HGB0020        0.0       0.000        3.000    1564.0      0.0\n",
       "534               Streptomyces sp. HPH0547        0.0       0.000        1.000    1737.0      0.0\n",
       "535        Subdoligranulum sp. 4_3_54A2FAA        0.0       0.000       93.868     556.0      0.0\n",
       "536               Synergistes sp. 3_1_syn1        0.0       0.000        2.028     336.0      0.0\n",
       "537                   Treponema socranskii        0.0       0.000        1.015     486.0      0.0\n",
       "538                    Veillonella atypica        0.0       0.000        2.145    1289.0      0.0\n",
       "539            [Clostridium] asparagiforme        0.0       0.000        1.000     131.0      0.0\n",
       "540                   [Clostridium] leptum        0.0       0.000        1.008    2032.0      0.0\n",
       "541          [Propionibacterium] humerusii        0.0       0.000        1.000     253.0      0.0\n",
       "\n",
       "[485 rows x 6 columns]"
      ]
     },
     "execution_count": 22,
     "metadata": {},
     "output_type": "execute_result"
    }
   ],
   "source": [
    "al[al['salmon'] != 0]"
   ]
  },
  {
   "cell_type": "code",
   "execution_count": 8,
   "metadata": {},
   "outputs": [
    {
     "name": "stdout",
     "output_type": "stream",
     "text": [
      "number of distinct shared species with truth:\n",
      "puff: 85\n",
      "salmon: 85\n",
      "cedar: 85\n",
      "bracken: 0\n"
     ]
    }
   ],
   "source": [
    "print('number of distinct shared species with truth:')\n",
    "for col in ['puff', 'salmon', 'cedar', 'bracken']:\n",
    "    print('{}: {}'.format(col, len(al[(al['truth'] != 0) & (al[col] != 0)]['Species'].unique())))"
   ]
  },
  {
   "cell_type": "code",
   "execution_count": 4,
   "metadata": {},
   "outputs": [],
   "source": [
    "pufmap=pd.read_csv('/home/mohsen/pufferfish-test/out', sep='\\t', header=None)\n",
    "pufmap.columns = ['origread', 'puf']\n",
    "pufmap['read'] = pufmap['origread'].str.split(';').str[0].str.split('/').str[1]"
   ]
  },
  {
   "cell_type": "code",
   "execution_count": null,
   "metadata": {},
   "outputs": [],
   "source": [
    "salmap=pd.read_csv('/mnt/scratch4/mohsen/puffalign_test/out', sep='\\t', header=None)\n",
    "salmap.columns = ['origread', 'sal']\n",
    "salmap['read'] = salmap['origread'].str.split(';').str[0].str.split('/').str[1]"
   ]
  },
  {
   "cell_type": "code",
   "execution_count": null,
   "metadata": {
    "collapsed": true
   },
   "outputs": [],
   "source": [
    "print(len(salmap))\n",
    "print(len(pufmap))"
   ]
  },
  {
   "cell_type": "code",
   "execution_count": null,
   "metadata": {
    "collapsed": true
   },
   "outputs": [],
   "source": [
    "salmap.head(1)"
   ]
  },
  {
   "cell_type": "code",
   "execution_count": 58,
   "metadata": {},
   "outputs": [
    {
     "name": "stdout",
     "output_type": "stream",
     "text": [
      "Puff average hits over read: 1535.147682745575\n",
      "Puff average hits over read and ref: 169.01331248918123\n",
      "Sal average hits over read: 1524.5548226218552\n",
      "Sal average hits over read and ref: 168.46238910425558\n"
     ]
    }
   ],
   "source": [
    "print('Puff average hits over read: {}'.format(pufmap.groupby('read')['puf'].count().mean()))\n",
    "print('Puff average hits over read and ref: {}'.format(pufmap.groupby(['read', 'puf'])['puf'].count().mean()))\n",
    "print('Sal average hits over read: {}'.format(salmap.groupby('read')['sal'].count().mean()))\n",
    "print('Sal average hits over read and ref: {}'.format(salmap.groupby(['read', 'sal'])['sal'].count().mean()))"
   ]
  },
  {
   "cell_type": "code",
   "execution_count": 74,
   "metadata": {
    "collapsed": true
   },
   "outputs": [],
   "source": [
    "pufmap['count'] = 1\n",
    "puf_uniqreadref = (pufmap.groupby(['read', 'puf'])['count'].count()).reset_index()\n",
    "salmap['count'] = 1\n",
    "sal_uniqreadref = (salmap.groupby(['read', 'sal'])['count'].count()).reset_index()"
   ]
  },
  {
   "cell_type": "code",
   "execution_count": 75,
   "metadata": {
    "collapsed": true
   },
   "outputs": [],
   "source": [
    "merged = pd.merge(sal_uniqreadref, puf_uniqreadref, left_on=['read', 'sal'], right_on=['read', 'puf'], how = 'outer').fillna(0)"
   ]
  },
  {
   "cell_type": "code",
   "execution_count": 76,
   "metadata": {},
   "outputs": [
    {
     "data": {
      "text/plain": [
       "740800"
      ]
     },
     "execution_count": 76,
     "metadata": {},
     "output_type": "execute_result"
    }
   ],
   "source": [
    "len(merged)"
   ]
  },
  {
   "cell_type": "code",
   "execution_count": 91,
   "metadata": {
    "collapsed": true
   },
   "outputs": [],
   "source": [
    "pufbetter=merged[(merged['count_x'] == 0) & (merged['read'] == merged['puf'])]\n",
    "salbetter=merged[(merged['count_y'] == 0) & (merged['read'] == merged['sal'])]\n",
    "pufworse=merged[(merged['count_x'] == 0) & (merged['read'] != merged['puf'])]\n",
    "salworse=merged[(merged['count_y'] == 0) & (merged['read'] != merged['sal'])]"
   ]
  },
  {
   "cell_type": "code",
   "execution_count": 95,
   "metadata": {},
   "outputs": [
    {
     "name": "stdout",
     "output_type": "stream",
     "text": [
      "# of references found by puf but not sal: 164\n",
      "# of references found by sal but not puf: 0\n",
      "# of invalid references found by puf but not sal: 3908\n",
      "# of invalid references found by sal but not puf: 1344\n",
      "sum of valid hits found by puf but not sal: 52565.0\n",
      "sum of invalid hits found by puf but not sal: 265940.0\n",
      "sum of valid hits found by sal but not puf: 0\n",
      "sum of invalid hits found by sal but not puf: 3677.0\n"
     ]
    }
   ],
   "source": [
    "print('# of references found by puf but not sal: {}'.format(len(pufbetter)))\n",
    "print('# of references found by sal but not puf: {}'.format(len(salbetter)))\n",
    "print('# of invalid references found by puf but not sal: {}'.format(len(pufworse)))\n",
    "print('# of invalid references found by sal but not puf: {}'.format(len(salworse)))\n",
    "print('sum of valid hits found by puf but not sal: {}'.format(pufbetter['count_y'].sum()))\n",
    "print('sum of invalid hits found by puf but not sal: {}'.format(pufworse['count_y'].sum()))\n",
    "print('sum of valid hits found by sal but not puf: {}'.format(salbetter['count_x'].sum()))\n",
    "print('sum of invalid hits found by sal but not puf: {}'.format(salworse['count_x'].sum()))"
   ]
  }
 ],
 "metadata": {
  "kernelspec": {
   "display_name": "Python 3",
   "language": "python",
   "name": "python3"
  },
  "language_info": {
   "codemirror_mode": {
    "name": "ipython",
    "version": 3
   },
   "file_extension": ".py",
   "mimetype": "text/x-python",
   "name": "python",
   "nbconvert_exporter": "python",
   "pygments_lexer": "ipython3",
   "version": "3.7.1"
  }
 },
 "nbformat": 4,
 "nbformat_minor": 2
}
