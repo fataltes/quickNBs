{
 "cells": [
  {
   "cell_type": "code",
   "execution_count": 2,
   "metadata": {
    "collapsed": true
   },
   "outputs": [],
   "source": [
    "%matplotlib inline\n",
    "import pandas as pd\n",
    "import numpy as np\n",
    "from collections import defaultdict\n",
    "from scipy.stats import spearmanr\n",
    "from scipy.stats import pearsonr\n",
    "import matplotlib as mpl\n",
    "import matplotlib.pyplot as plt\n",
    "from math import log\n",
    "import seaborn as sb"
   ]
  },
  {
   "cell_type": "code",
   "execution_count": 3,
   "metadata": {
    "collapsed": true
   },
   "outputs": [],
   "source": [
    "truth=pd.read_table('/mnt/scratch2/cedar/input_files/i100_taxonomy.truth')\n",
    "truth = truth.groupby('Species').sum().reset_index()\n",
    "puff=pd.read_table('/mnt/scratch2/cedar/results/script_results/i100_31_sr1_puff/out.tab')\n",
    "puff = puff.groupby('Species').sum().reset_index()\n",
    "salmon=pd.read_table('/mnt/scratch2/cedar/results/script_results/i100_31_sr1_salmon/out.tab')\n",
    "salmon = salmon.groupby('Species').sum().reset_index()\n",
    "cedar=pd.read_table('/mnt/scratch2/cedar/results/script_results/i100_31_sr1_cedar/out.tab')\n",
    "cedar = cedar.groupby('Species').sum().reset_index()"
   ]
  },
  {
   "cell_type": "code",
   "execution_count": 15,
   "metadata": {},
   "outputs": [],
   "source": [
    "bracken=pd.read_table('/mnt/scratch2/cedar/results/bracken/i100_31.kreport_bracken', header=None)\n",
    "bracken.columns = ['percentage', 'aggrCount', 'NumCounts', 'level', 'taxid', 'taxname']\n",
    "bracken = bracken[bracken['level'] == 'S'][['taxname', 'NumCounts']]\n",
    "bracken.columns=['Species', 'NumCounts']"
   ]
  },
  {
   "cell_type": "code",
   "execution_count": 16,
   "metadata": {
    "collapsed": true
   },
   "outputs": [],
   "source": [
    "al=pd.merge(truth, puff, on='Species', how='outer')[['Species', 'NumCounts_x', 'NumCounts_y']].fillna(0)\n",
    "al.columns = ['Species', 'truth', 'puff']\n",
    "al=pd.merge(al, salmon, on='Species', how='outer')[['Species', 'truth', 'puff', 'NumCounts']].fillna(0)\n",
    "al.columns = ['Species', 'truth', 'puff', 'salmon']\n",
    "al=pd.merge(al, cedar, on='Species', how='outer')[['Species', 'truth', 'puff', 'salmon', 'NumCounts']].fillna(0)\n",
    "al.columns = ['Species', 'truth', 'puff', 'salmon', 'cedar']\n",
    "al=pd.merge(al, bracken, on='Species', how='outer')[['Species', 'truth', 'puff', 'salmon', 'cedar', 'NumCounts']].fillna(0)\n",
    "al.columns = ['Species', 'truth', 'puff', 'salmon', 'cedar', 'bracken']"
   ]
  },
  {
   "cell_type": "code",
   "execution_count": 19,
   "metadata": {},
   "outputs": [
    {
     "data": {
      "text/plain": [
       "truth      2.666700e+07\n",
       "puff       5.644596e+04\n",
       "salmon     2.398330e+05\n",
       "cedar      2.414800e+05\n",
       "bracken    2.469700e+05\n",
       "dtype: float64"
      ]
     },
     "execution_count": 19,
     "metadata": {},
     "output_type": "execute_result"
    }
   ],
   "source": [
    "al[['truth', 'puff', 'salmon', 'cedar', 'bracken']].sum()"
   ]
  },
  {
   "cell_type": "code",
   "execution_count": 21,
   "metadata": {},
   "outputs": [
    {
     "name": "stdout",
     "output_type": "stream",
     "text": [
      "number of distinct species:\n",
      "truth: 85\n",
      "puff: 166\n",
      "salmon: 185\n",
      "cedar: 598\n",
      "bracken: 188\n"
     ]
    }
   ],
   "source": [
    "print('number of distinct species:')\n",
    "for col in ['truth', 'puff', 'salmon', 'cedar', 'bracken']:\n",
    "    print('{}: {}'.format(col, len(al[al[col] != 0]['Species'].unique())))"
   ]
  },
  {
   "cell_type": "code",
   "execution_count": 22,
   "metadata": {},
   "outputs": [
    {
     "name": "stdout",
     "output_type": "stream",
     "text": [
      "number of distinct shared species with truth:\n",
      "puff: 85\n",
      "salmon: 85\n",
      "cedar: 85\n",
      "bracken: 0\n"
     ]
    }
   ],
   "source": [
    "print('number of distinct shared species with truth:')\n",
    "for col in ['puff', 'salmon', 'cedar', 'bracken']:\n",
    "    print('{}: {}'.format(col, len(al[(al['truth'] != 0) & (al[col] != 0)]['Species'].unique())))"
   ]
  }
 ],
 "metadata": {
  "kernelspec": {
   "display_name": "Python 3",
   "language": "python",
   "name": "python3"
  },
  "language_info": {
   "codemirror_mode": {
    "name": "ipython",
    "version": 3
   },
   "file_extension": ".py",
   "mimetype": "text/x-python",
   "name": "python",
   "nbconvert_exporter": "python",
   "pygments_lexer": "ipython3",
   "version": "3.6.4"
  }
 },
 "nbformat": 4,
 "nbformat_minor": 2
}
