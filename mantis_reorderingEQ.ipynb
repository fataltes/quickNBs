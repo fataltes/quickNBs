{
 "cells": [
  {
   "cell_type": "code",
   "execution_count": 153,
   "metadata": {
    "collapsed": true
   },
   "outputs": [],
   "source": [
    "%matplotlib inline\n",
    "import random\n",
    "import pandas as pd\n",
    "import numpy as np\n",
    "import matplotlib.pyplot as plt\n",
    "from scipy.stats import pearsonr\n",
    "from scipy.optimize import curve_fit\n",
    "from scipy import sparse\n",
    "from scipy.sparse import csgraph"
   ]
  },
  {
   "cell_type": "code",
   "execution_count": 247,
   "metadata": {
    "collapsed": true
   },
   "outputs": [],
   "source": [
    "mutinf_df = pd.read_csv('/home/fatemeh/projects/mantis2/mantis/newOrder3.out.mutinfo', sep='\\t', header=None)\n",
    "mutinf_df.columns = ['i', 'j', 'mutinf']"
   ]
  },
  {
   "cell_type": "code",
   "execution_count": 248,
   "metadata": {
    "collapsed": true
   },
   "outputs": [],
   "source": [
    "dist_df = pd.read_csv('/home/fatemeh/projects/mantis2/mantis/newOrder3.out', sep='\\t', header=None)\n",
    "dist_df.columns = ['i', 'j', 'dist']"
   ]
  },
  {
   "cell_type": "code",
   "execution_count": 220,
   "metadata": {
    "collapsed": true
   },
   "outputs": [
    {
     "data": {
      "text/plain": [
       "(array([  4.08151000e+06,   4.95234000e+05,   4.69878000e+05,\n",
       "          3.87208000e+05,   3.56112000e+05,   2.76798000e+05,\n",
       "          1.96468000e+05,   1.33052000e+05,   8.77400000e+04,\n",
       "          6.56720000e+04,   4.22620000e+04,   2.73320000e+04,\n",
       "          2.45700000e+04,   2.43900000e+04,   8.01400000e+03,\n",
       "          3.00000000e+03,   1.81600000e+03,   1.19800000e+03,\n",
       "          5.64000000e+02,   3.90000000e+02,   2.62000000e+02,\n",
       "          2.68000000e+02,   1.62000000e+02,   1.60000000e+02,\n",
       "          1.14000000e+02,   1.18000000e+02,   7.40000000e+01,\n",
       "          7.60000000e+01,   4.40000000e+01,   3.60000000e+01,\n",
       "          3.60000000e+01,   2.40000000e+01,   3.40000000e+01,\n",
       "          3.20000000e+01,   1.60000000e+01,   2.00000000e+01,\n",
       "          8.00000000e+00,   1.00000000e+01,   1.00000000e+01,\n",
       "          4.00000000e+00,   8.00000000e+00,   8.00000000e+00,\n",
       "          1.00000000e+01,   1.00000000e+01,   1.60000000e+01,\n",
       "          1.40000000e+01,   8.00000000e+00,   6.00000000e+00,\n",
       "          0.00000000e+00,   8.00000000e+00]),\n",
       " array([  2.80556000e-17,   5.33282000e-03,   1.06656400e-02,\n",
       "          1.59984600e-02,   2.13312800e-02,   2.66641000e-02,\n",
       "          3.19969200e-02,   3.73297400e-02,   4.26625600e-02,\n",
       "          4.79953800e-02,   5.33282000e-02,   5.86610200e-02,\n",
       "          6.39938400e-02,   6.93266600e-02,   7.46594800e-02,\n",
       "          7.99923000e-02,   8.53251200e-02,   9.06579400e-02,\n",
       "          9.59907600e-02,   1.01323580e-01,   1.06656400e-01,\n",
       "          1.11989220e-01,   1.17322040e-01,   1.22654860e-01,\n",
       "          1.27987680e-01,   1.33320500e-01,   1.38653320e-01,\n",
       "          1.43986140e-01,   1.49318960e-01,   1.54651780e-01,\n",
       "          1.59984600e-01,   1.65317420e-01,   1.70650240e-01,\n",
       "          1.75983060e-01,   1.81315880e-01,   1.86648700e-01,\n",
       "          1.91981520e-01,   1.97314340e-01,   2.02647160e-01,\n",
       "          2.07979980e-01,   2.13312800e-01,   2.18645620e-01,\n",
       "          2.23978440e-01,   2.29311260e-01,   2.34644080e-01,\n",
       "          2.39976900e-01,   2.45309720e-01,   2.50642540e-01,\n",
       "          2.55975360e-01,   2.61308180e-01,   2.66641000e-01]),\n",
       " <a list of 50 Patch objects>)"
      ]
     },
     "execution_count": 220,
     "metadata": {},
     "output_type": "execute_result"
    },
    {
     "data": {
      "image/png": "[encoded data removed]",
      "text/plain": [
       "<matplotlib.figure.Figure at 0x7fb1dc260470>"
      ]
     },
     "metadata": {},
     "output_type": "display_data"
    }
   ],
   "source": [
    "plt.hist(mutinf_df['mutinf'], bins=50)"
   ]
  },
  {
   "cell_type": "code",
   "execution_count": 300,
   "metadata": {},
   "outputs": [
    {
     "name": "stdout",
     "output_type": "stream",
     "text": [
      "mutinfo mean: 0.009691046269140824\n",
      "mutinfo median: 0.00140579\n",
      "hamming dist mean: 24214.566500348104\n",
      "hamming dist median: 19622.0\n"
     ]
    }
   ],
   "source": [
    "print('mutinfo mean: {}'.format(mutinf_df.mutinf.mean()))\n",
    "print('mutinfo median: {}'.format(mutinf_df.mutinf.median()))\n",
    "print('hamming dist mean: {}'.format(dist_df.dist.mean()))\n",
    "print('hamming dist median: {}'.format(dist_df.dist.median()))"
   ]
  },
  {
   "cell_type": "code",
   "execution_count": 214,
   "metadata": {},
   "outputs": [
    {
     "data": {
      "text/html": [
       "<div>\n",
       "<style>\n",
       "    .dataframe thead tr:only-child th {\n",
       "        text-align: right;\n",
       "    }\n",
       "\n",
       "    .dataframe thead th {\n",
       "        text-align: left;\n",
       "    }\n",
       "\n",
       "    .dataframe tbody tr th {\n",
       "        vertical-align: top;\n",
       "    }\n",
       "</style>\n",
       "<table border=\"1\" class=\"dataframe\">\n",
       "  <thead>\n",
       "    <tr style=\"text-align: right;\">\n",
       "      <th></th>\n",
       "      <th>i</th>\n",
       "      <th>j</th>\n",
       "      <th>dist</th>\n",
       "    </tr>\n",
       "  </thead>\n",
       "  <tbody>\n",
       "    <tr>\n",
       "      <th>2182660</th>\n",
       "      <td>844</td>\n",
       "      <td>921</td>\n",
       "      <td>0.000711</td>\n",
       "    </tr>\n",
       "  </tbody>\n",
       "</table>\n",
       "</div>"
      ],
      "text/plain": [
       "           i    j      dist\n",
       "2182660  844  921  0.000711"
      ]
     },
     "execution_count": 214,
     "metadata": {},
     "output_type": "execute_result"
    }
   ],
   "source": [
    "mutinf_df[(mutinf_df.i == 844) & (mutinf_df.j == 921)]"
   ]
  },
  {
   "cell_type": "code",
   "execution_count": 216,
   "metadata": {
    "collapsed": true
   },
   "outputs": [],
   "source": [
    "res = pd.merge(mutinf_df, dist_df, on = ['i', 'j'], how='inner')"
   ]
  },
  {
   "cell_type": "code",
   "execution_count": 217,
   "metadata": {
    "collapsed": true
   },
   "outputs": [
    {
     "data": {
      "text/html": [
       "<div>\n",
       "<style>\n",
       "    .dataframe thead tr:only-child th {\n",
       "        text-align: right;\n",
       "    }\n",
       "\n",
       "    .dataframe thead th {\n",
       "        text-align: left;\n",
       "    }\n",
       "\n",
       "    .dataframe tbody tr th {\n",
       "        vertical-align: top;\n",
       "    }\n",
       "</style>\n",
       "<table border=\"1\" class=\"dataframe\">\n",
       "  <thead>\n",
       "    <tr style=\"text-align: right;\">\n",
       "      <th></th>\n",
       "      <th>i</th>\n",
       "      <th>j</th>\n",
       "      <th>dist_x</th>\n",
       "      <th>dist_y</th>\n",
       "    </tr>\n",
       "  </thead>\n",
       "  <tbody>\n",
       "    <tr>\n",
       "      <th>4379898</th>\n",
       "      <td>1694</td>\n",
       "      <td>936</td>\n",
       "      <td>2.805560e-17</td>\n",
       "      <td>29365</td>\n",
       "    </tr>\n",
       "    <tr>\n",
       "      <th>2421248</th>\n",
       "      <td>936</td>\n",
       "      <td>1694</td>\n",
       "      <td>2.805560e-17</td>\n",
       "      <td>29365</td>\n",
       "    </tr>\n",
       "    <tr>\n",
       "      <th>5361038</th>\n",
       "      <td>2073</td>\n",
       "      <td>2378</td>\n",
       "      <td>7.001800e-17</td>\n",
       "      <td>15987</td>\n",
       "    </tr>\n",
       "    <tr>\n",
       "      <th>6149157</th>\n",
       "      <td>2378</td>\n",
       "      <td>2073</td>\n",
       "      <td>7.001800e-17</td>\n",
       "      <td>15987</td>\n",
       "    </tr>\n",
       "    <tr>\n",
       "      <th>5879510</th>\n",
       "      <td>2274</td>\n",
       "      <td>1264</td>\n",
       "      <td>1.676010e-16</td>\n",
       "      <td>12301</td>\n",
       "    </tr>\n",
       "    <tr>\n",
       "      <th>3269691</th>\n",
       "      <td>1264</td>\n",
       "      <td>2274</td>\n",
       "      <td>1.676010e-16</td>\n",
       "      <td>12301</td>\n",
       "    </tr>\n",
       "    <tr>\n",
       "      <th>3103742</th>\n",
       "      <td>1200</td>\n",
       "      <td>1765</td>\n",
       "      <td>2.608810e-16</td>\n",
       "      <td>23200</td>\n",
       "    </tr>\n",
       "    <tr>\n",
       "      <th>4563696</th>\n",
       "      <td>1765</td>\n",
       "      <td>1200</td>\n",
       "      <td>2.608810e-16</td>\n",
       "      <td>23200</td>\n",
       "    </tr>\n",
       "    <tr>\n",
       "      <th>5504650</th>\n",
       "      <td>2129</td>\n",
       "      <td>1229</td>\n",
       "      <td>3.134320e-16</td>\n",
       "      <td>17326</td>\n",
       "    </tr>\n",
       "    <tr>\n",
       "      <th>3179071</th>\n",
       "      <td>1229</td>\n",
       "      <td>2129</td>\n",
       "      <td>3.134320e-16</td>\n",
       "      <td>17326</td>\n",
       "    </tr>\n",
       "    <tr>\n",
       "      <th>805279</th>\n",
       "      <td>311</td>\n",
       "      <td>1347</td>\n",
       "      <td>4.715090e-16</td>\n",
       "      <td>4501</td>\n",
       "    </tr>\n",
       "    <tr>\n",
       "      <th>3482280</th>\n",
       "      <td>1347</td>\n",
       "      <td>311</td>\n",
       "      <td>4.715090e-16</td>\n",
       "      <td>4501</td>\n",
       "    </tr>\n",
       "    <tr>\n",
       "      <th>1097466</th>\n",
       "      <td>424</td>\n",
       "      <td>1429</td>\n",
       "      <td>4.965150e-16</td>\n",
       "      <td>8372</td>\n",
       "    </tr>\n",
       "    <tr>\n",
       "      <th>3694362</th>\n",
       "      <td>1429</td>\n",
       "      <td>424</td>\n",
       "      <td>4.965150e-16</td>\n",
       "      <td>8372</td>\n",
       "    </tr>\n",
       "    <tr>\n",
       "      <th>402109</th>\n",
       "      <td>155</td>\n",
       "      <td>1437</td>\n",
       "      <td>4.980170e-16</td>\n",
       "      <td>15492</td>\n",
       "    </tr>\n",
       "    <tr>\n",
       "      <th>3714773</th>\n",
       "      <td>1437</td>\n",
       "      <td>155</td>\n",
       "      <td>4.980170e-16</td>\n",
       "      <td>15492</td>\n",
       "    </tr>\n",
       "    <tr>\n",
       "      <th>6365657</th>\n",
       "      <td>2462</td>\n",
       "      <td>1433</td>\n",
       "      <td>6.032110e-16</td>\n",
       "      <td>24689</td>\n",
       "    </tr>\n",
       "    <tr>\n",
       "      <th>3706739</th>\n",
       "      <td>1433</td>\n",
       "      <td>2462</td>\n",
       "      <td>6.032110e-16</td>\n",
       "      <td>24689</td>\n",
       "    </tr>\n",
       "    <tr>\n",
       "      <th>6282757</th>\n",
       "      <td>2430</td>\n",
       "      <td>1253</td>\n",
       "      <td>7.519080e-16</td>\n",
       "      <td>16010</td>\n",
       "    </tr>\n",
       "    <tr>\n",
       "      <th>3241412</th>\n",
       "      <td>1253</td>\n",
       "      <td>2430</td>\n",
       "      <td>7.519080e-16</td>\n",
       "      <td>16010</td>\n",
       "    </tr>\n",
       "    <tr>\n",
       "      <th>3054986</th>\n",
       "      <td>1181</td>\n",
       "      <td>2123</td>\n",
       "      <td>8.521450e-16</td>\n",
       "      <td>9411</td>\n",
       "    </tr>\n",
       "    <tr>\n",
       "      <th>5489092</th>\n",
       "      <td>2123</td>\n",
       "      <td>1181</td>\n",
       "      <td>8.521450e-16</td>\n",
       "      <td>9411</td>\n",
       "    </tr>\n",
       "    <tr>\n",
       "      <th>3339333</th>\n",
       "      <td>1291</td>\n",
       "      <td>2123</td>\n",
       "      <td>8.521450e-16</td>\n",
       "      <td>9411</td>\n",
       "    </tr>\n",
       "    <tr>\n",
       "      <th>5489202</th>\n",
       "      <td>2123</td>\n",
       "      <td>1291</td>\n",
       "      <td>8.521450e-16</td>\n",
       "      <td>9411</td>\n",
       "    </tr>\n",
       "    <tr>\n",
       "      <th>702259</th>\n",
       "      <td>271</td>\n",
       "      <td>1727</td>\n",
       "      <td>2.728140e-15</td>\n",
       "      <td>25635</td>\n",
       "    </tr>\n",
       "    <tr>\n",
       "      <th>4464538</th>\n",
       "      <td>1727</td>\n",
       "      <td>271</td>\n",
       "      <td>2.728140e-15</td>\n",
       "      <td>25635</td>\n",
       "    </tr>\n",
       "    <tr>\n",
       "      <th>1379057</th>\n",
       "      <td>533</td>\n",
       "      <td>1255</td>\n",
       "      <td>3.015450e-15</td>\n",
       "      <td>7549</td>\n",
       "    </tr>\n",
       "    <tr>\n",
       "      <th>3244686</th>\n",
       "      <td>1255</td>\n",
       "      <td>533</td>\n",
       "      <td>3.015450e-15</td>\n",
       "      <td>7549</td>\n",
       "    </tr>\n",
       "    <tr>\n",
       "      <th>3819389</th>\n",
       "      <td>1477</td>\n",
       "      <td>1371</td>\n",
       "      <td>3.022570e-15</td>\n",
       "      <td>10282</td>\n",
       "    </tr>\n",
       "    <tr>\n",
       "      <th>3545485</th>\n",
       "      <td>1371</td>\n",
       "      <td>1477</td>\n",
       "      <td>3.022570e-15</td>\n",
       "      <td>10282</td>\n",
       "    </tr>\n",
       "    <tr>\n",
       "      <th>...</th>\n",
       "      <td>...</td>\n",
       "      <td>...</td>\n",
       "      <td>...</td>\n",
       "      <td>...</td>\n",
       "    </tr>\n",
       "    <tr>\n",
       "      <th>6470096</th>\n",
       "      <td>2502</td>\n",
       "      <td>2472</td>\n",
       "      <td>2.418790e-01</td>\n",
       "      <td>31346</td>\n",
       "    </tr>\n",
       "    <tr>\n",
       "      <th>6392575</th>\n",
       "      <td>2472</td>\n",
       "      <td>2502</td>\n",
       "      <td>2.418790e-01</td>\n",
       "      <td>31346</td>\n",
       "    </tr>\n",
       "    <tr>\n",
       "      <th>6346010</th>\n",
       "      <td>2454</td>\n",
       "      <td>2467</td>\n",
       "      <td>2.426680e-01</td>\n",
       "      <td>32981</td>\n",
       "    </tr>\n",
       "    <tr>\n",
       "      <th>6379603</th>\n",
       "      <td>2467</td>\n",
       "      <td>2454</td>\n",
       "      <td>2.426680e-01</td>\n",
       "      <td>32981</td>\n",
       "    </tr>\n",
       "    <tr>\n",
       "      <th>6472674</th>\n",
       "      <td>2503</td>\n",
       "      <td>2465</td>\n",
       "      <td>2.440220e-01</td>\n",
       "      <td>38455</td>\n",
       "    </tr>\n",
       "    <tr>\n",
       "      <th>6374481</th>\n",
       "      <td>2465</td>\n",
       "      <td>2503</td>\n",
       "      <td>2.440220e-01</td>\n",
       "      <td>38455</td>\n",
       "    </tr>\n",
       "    <tr>\n",
       "      <th>6392583</th>\n",
       "      <td>2472</td>\n",
       "      <td>2510</td>\n",
       "      <td>2.446950e-01</td>\n",
       "      <td>30952</td>\n",
       "    </tr>\n",
       "    <tr>\n",
       "      <th>6490776</th>\n",
       "      <td>2510</td>\n",
       "      <td>2472</td>\n",
       "      <td>2.446950e-01</td>\n",
       "      <td>30952</td>\n",
       "    </tr>\n",
       "    <tr>\n",
       "      <th>6454586</th>\n",
       "      <td>2496</td>\n",
       "      <td>2472</td>\n",
       "      <td>2.458600e-01</td>\n",
       "      <td>32657</td>\n",
       "    </tr>\n",
       "    <tr>\n",
       "      <th>6392569</th>\n",
       "      <td>2472</td>\n",
       "      <td>2496</td>\n",
       "      <td>2.458600e-01</td>\n",
       "      <td>32657</td>\n",
       "    </tr>\n",
       "    <tr>\n",
       "      <th>6454568</th>\n",
       "      <td>2496</td>\n",
       "      <td>2454</td>\n",
       "      <td>2.473560e-01</td>\n",
       "      <td>29238</td>\n",
       "    </tr>\n",
       "    <tr>\n",
       "      <th>6346039</th>\n",
       "      <td>2454</td>\n",
       "      <td>2496</td>\n",
       "      <td>2.473560e-01</td>\n",
       "      <td>29238</td>\n",
       "    </tr>\n",
       "    <tr>\n",
       "      <th>6490758</th>\n",
       "      <td>2510</td>\n",
       "      <td>2454</td>\n",
       "      <td>2.474610e-01</td>\n",
       "      <td>26703</td>\n",
       "    </tr>\n",
       "    <tr>\n",
       "      <th>6346053</th>\n",
       "      <td>2454</td>\n",
       "      <td>2510</td>\n",
       "      <td>2.474610e-01</td>\n",
       "      <td>26703</td>\n",
       "    </tr>\n",
       "    <tr>\n",
       "      <th>6392541</th>\n",
       "      <td>2472</td>\n",
       "      <td>2467</td>\n",
       "      <td>2.498640e-01</td>\n",
       "      <td>33448</td>\n",
       "    </tr>\n",
       "    <tr>\n",
       "      <th>6379620</th>\n",
       "      <td>2467</td>\n",
       "      <td>2472</td>\n",
       "      <td>2.498640e-01</td>\n",
       "      <td>33448</td>\n",
       "    </tr>\n",
       "    <tr>\n",
       "      <th>6490806</th>\n",
       "      <td>2510</td>\n",
       "      <td>2502</td>\n",
       "      <td>2.522130e-01</td>\n",
       "      <td>19948</td>\n",
       "    </tr>\n",
       "    <tr>\n",
       "      <th>6470133</th>\n",
       "      <td>2502</td>\n",
       "      <td>2510</td>\n",
       "      <td>2.522130e-01</td>\n",
       "      <td>19948</td>\n",
       "    </tr>\n",
       "    <tr>\n",
       "      <th>6346046</th>\n",
       "      <td>2454</td>\n",
       "      <td>2503</td>\n",
       "      <td>2.524000e-01</td>\n",
       "      <td>37040</td>\n",
       "    </tr>\n",
       "    <tr>\n",
       "      <th>6472663</th>\n",
       "      <td>2503</td>\n",
       "      <td>2454</td>\n",
       "      <td>2.524000e-01</td>\n",
       "      <td>37040</td>\n",
       "    </tr>\n",
       "    <tr>\n",
       "      <th>6423548</th>\n",
       "      <td>2484</td>\n",
       "      <td>2454</td>\n",
       "      <td>2.553140e-01</td>\n",
       "      <td>32700</td>\n",
       "    </tr>\n",
       "    <tr>\n",
       "      <th>6346027</th>\n",
       "      <td>2454</td>\n",
       "      <td>2484</td>\n",
       "      <td>2.553140e-01</td>\n",
       "      <td>32700</td>\n",
       "    </tr>\n",
       "    <tr>\n",
       "      <th>6346015</th>\n",
       "      <td>2454</td>\n",
       "      <td>2472</td>\n",
       "      <td>2.640120e-01</td>\n",
       "      <td>28273</td>\n",
       "    </tr>\n",
       "    <tr>\n",
       "      <th>6392528</th>\n",
       "      <td>2472</td>\n",
       "      <td>2454</td>\n",
       "      <td>2.640120e-01</td>\n",
       "      <td>28273</td>\n",
       "    </tr>\n",
       "    <tr>\n",
       "      <th>6392557</th>\n",
       "      <td>2472</td>\n",
       "      <td>2484</td>\n",
       "      <td>2.646920e-01</td>\n",
       "      <td>32025</td>\n",
       "    </tr>\n",
       "    <tr>\n",
       "      <th>6423566</th>\n",
       "      <td>2484</td>\n",
       "      <td>2472</td>\n",
       "      <td>2.646920e-01</td>\n",
       "      <td>32025</td>\n",
       "    </tr>\n",
       "    <tr>\n",
       "      <th>6423596</th>\n",
       "      <td>2484</td>\n",
       "      <td>2503</td>\n",
       "      <td>2.654820e-01</td>\n",
       "      <td>36114</td>\n",
       "    </tr>\n",
       "    <tr>\n",
       "      <th>6472693</th>\n",
       "      <td>2503</td>\n",
       "      <td>2484</td>\n",
       "      <td>2.654820e-01</td>\n",
       "      <td>36114</td>\n",
       "    </tr>\n",
       "    <tr>\n",
       "      <th>6472681</th>\n",
       "      <td>2503</td>\n",
       "      <td>2472</td>\n",
       "      <td>2.666410e-01</td>\n",
       "      <td>34505</td>\n",
       "    </tr>\n",
       "    <tr>\n",
       "      <th>6392576</th>\n",
       "      <td>2472</td>\n",
       "      <td>2503</td>\n",
       "      <td>2.666410e-01</td>\n",
       "      <td>34505</td>\n",
       "    </tr>\n",
       "  </tbody>\n",
       "</table>\n",
       "<p>6684756 rows × 4 columns</p>\n",
       "</div>"
      ],
      "text/plain": [
       "            i     j        dist_x  dist_y\n",
       "4379898  1694   936  2.805560e-17   29365\n",
       "2421248   936  1694  2.805560e-17   29365\n",
       "5361038  2073  2378  7.001800e-17   15987\n",
       "6149157  2378  2073  7.001800e-17   15987\n",
       "5879510  2274  1264  1.676010e-16   12301\n",
       "3269691  1264  2274  1.676010e-16   12301\n",
       "3103742  1200  1765  2.608810e-16   23200\n",
       "4563696  1765  1200  2.608810e-16   23200\n",
       "5504650  2129  1229  3.134320e-16   17326\n",
       "3179071  1229  2129  3.134320e-16   17326\n",
       "805279    311  1347  4.715090e-16    4501\n",
       "3482280  1347   311  4.715090e-16    4501\n",
       "1097466   424  1429  4.965150e-16    8372\n",
       "3694362  1429   424  4.965150e-16    8372\n",
       "402109    155  1437  4.980170e-16   15492\n",
       "3714773  1437   155  4.980170e-16   15492\n",
       "6365657  2462  1433  6.032110e-16   24689\n",
       "3706739  1433  2462  6.032110e-16   24689\n",
       "6282757  2430  1253  7.519080e-16   16010\n",
       "3241412  1253  2430  7.519080e-16   16010\n",
       "3054986  1181  2123  8.521450e-16    9411\n",
       "5489092  2123  1181  8.521450e-16    9411\n",
       "3339333  1291  2123  8.521450e-16    9411\n",
       "5489202  2123  1291  8.521450e-16    9411\n",
       "702259    271  1727  2.728140e-15   25635\n",
       "4464538  1727   271  2.728140e-15   25635\n",
       "1379057   533  1255  3.015450e-15    7549\n",
       "3244686  1255   533  3.015450e-15    7549\n",
       "3819389  1477  1371  3.022570e-15   10282\n",
       "3545485  1371  1477  3.022570e-15   10282\n",
       "...       ...   ...           ...     ...\n",
       "6470096  2502  2472  2.418790e-01   31346\n",
       "6392575  2472  2502  2.418790e-01   31346\n",
       "6346010  2454  2467  2.426680e-01   32981\n",
       "6379603  2467  2454  2.426680e-01   32981\n",
       "6472674  2503  2465  2.440220e-01   38455\n",
       "6374481  2465  2503  2.440220e-01   38455\n",
       "6392583  2472  2510  2.446950e-01   30952\n",
       "6490776  2510  2472  2.446950e-01   30952\n",
       "6454586  2496  2472  2.458600e-01   32657\n",
       "6392569  2472  2496  2.458600e-01   32657\n",
       "6454568  2496  2454  2.473560e-01   29238\n",
       "6346039  2454  2496  2.473560e-01   29238\n",
       "6490758  2510  2454  2.474610e-01   26703\n",
       "6346053  2454  2510  2.474610e-01   26703\n",
       "6392541  2472  2467  2.498640e-01   33448\n",
       "6379620  2467  2472  2.498640e-01   33448\n",
       "6490806  2510  2502  2.522130e-01   19948\n",
       "6470133  2502  2510  2.522130e-01   19948\n",
       "6346046  2454  2503  2.524000e-01   37040\n",
       "6472663  2503  2454  2.524000e-01   37040\n",
       "6423548  2484  2454  2.553140e-01   32700\n",
       "6346027  2454  2484  2.553140e-01   32700\n",
       "6346015  2454  2472  2.640120e-01   28273\n",
       "6392528  2472  2454  2.640120e-01   28273\n",
       "6392557  2472  2484  2.646920e-01   32025\n",
       "6423566  2484  2472  2.646920e-01   32025\n",
       "6423596  2484  2503  2.654820e-01   36114\n",
       "6472693  2503  2484  2.654820e-01   36114\n",
       "6472681  2503  2472  2.666410e-01   34505\n",
       "6392576  2472  2503  2.666410e-01   34505\n",
       "\n",
       "[6684756 rows x 4 columns]"
      ]
     },
     "execution_count": 217,
     "metadata": {},
     "output_type": "execute_result"
    }
   ],
   "source": [
    "res.sort_values(['dist_x'])"
   ]
  },
  {
   "cell_type": "code",
   "execution_count": 255,
   "metadata": {
    "collapsed": true
   },
   "outputs": [],
   "source": [
    "def thresh_filter(row):\n",
    "    if row['mutinf'] >= 0.01:\n",
    "        return 1\n",
    "    return 0\n",
    "mutinf_df['adj'] = mutinf_df.apply(thresh_filter, axis=1)"
   ]
  },
  {
   "cell_type": "code",
   "execution_count": 249,
   "metadata": {
    "collapsed": true
   },
   "outputs": [],
   "source": [
    "def thresh_filter(row):\n",
    "    if row['dist'] >= 0.003:\n",
    "        return 1\n",
    "    return 0\n",
    "dist_df['adj'] = dist_df.apply(thresh_filter, axis=1)"
   ]
  },
  {
   "cell_type": "code",
   "execution_count": 252,
   "metadata": {
    "collapsed": true
   },
   "outputs": [],
   "source": [
    "sim = sparse.csr_matrix((mutinf_df.adj, (mutinf_df.i, mutinf_df.j)))"
   ]
  },
  {
   "cell_type": "code",
   "execution_count": 253,
   "metadata": {
    "collapsed": true
   },
   "outputs": [],
   "source": [
    "newOrder = csgraph.reverse_cuthill_mckee(sim, symmetric_mode=True)"
   ]
  },
  {
   "cell_type": "code",
   "execution_count": 257,
   "metadata": {},
   "outputs": [
    {
     "data": {
      "text/plain": [
       "array([1336, 1319, 2585, 2584, 2583, 2582, 2581, 2580, 2579, 2578], dtype=int32)"
      ]
     },
     "execution_count": 257,
     "metadata": {},
     "output_type": "execute_result"
    }
   ],
   "source": [
    "newOrder[0:10]"
   ]
  },
  {
   "cell_type": "code",
   "execution_count": 246,
   "metadata": {
    "collapsed": true
   },
   "outputs": [],
   "source": [
    "np.savetxt('/home/fatemeh/projects/mantis2/mantis/mutinfo_newOrder.out', newOrder, delimiter='\\t', fmt='%d')"
   ]
  },
  {
   "cell_type": "code",
   "execution_count": null,
   "metadata": {
    "collapsed": true
   },
   "outputs": [],
   "source": [
    "n = 2586\n",
    "p = np.identity(n)\n",
    "dist = np.zeros([n, n])\n",
    "for idx, row in dist_df.iterrows():\n",
    "    dist[row['i'], row['j']] = row['dist']\n",
    "real_dist = dist"
   ]
  },
  {
   "cell_type": "code",
   "execution_count": 284,
   "metadata": {
    "collapsed": true
   },
   "outputs": [],
   "source": [
    "n = 2586\n",
    "p = np.identity(n)\n",
    "dist = np.zeros([n, n])\n",
    "for idx, row in dist_df.iterrows():\n",
    "    dist[row['i'], row['j']] = row['dist']\n",
    "real_dist = dist\n",
    "#dist = np.matrix([[0,4,3,1], [4,0,1,3], [3,1,0,2], [1,3,2,0]])"
   ]
  },
  {
   "cell_type": "code",
   "execution_count": 335,
   "metadata": {},
   "outputs": [
    {
     "data": {
      "text/plain": [
       "matrix([[0, 4, 3, 1],\n",
       "        [4, 0, 1, 3],\n",
       "        [3, 1, 0, 2],\n",
       "        [1, 3, 2, 0]])"
      ]
     },
     "execution_count": 335,
     "metadata": {},
     "output_type": "execute_result"
    }
   ],
   "source": [
    "n = 4\n",
    "p = np.identity(n)\n",
    "dist = np.matrix([[0,4,3,1], [4,0,1,3], [3,1,0,2], [1,3,2,0]])\n",
    "dist"
   ]
  },
  {
   "cell_type": "code",
   "execution_count": 337,
   "metadata": {
    "collapsed": true
   },
   "outputs": [],
   "source": [
    "dist = real_dist\n",
    "n = 2586\n",
    "p = np.identity(n)"
   ]
  },
  {
   "cell_type": "markdown",
   "metadata": {},
   "source": [
    "# STS\n",
    "\n",
    "Input : D (distance matrix n-by-n) and X ().\n",
    "\n",
    "1. Set X0 = X, t = 0, define P−1 = In×n.\n",
    "\n",
    "2. Calculate St = DXt.\n",
    "\n",
    "3. Find Pt which sorts St in a descending order.\n",
    "\n",
    "4. If PtSt ≠ Pt−1St, set Xt+1 = PtTX0, set t = t + 1 and go to 2.\n",
    "\n",
    "5. Output PtDPtT."
   ]
  },
  {
   "cell_type": "code",
   "execution_count": 338,
   "metadata": {},
   "outputs": [
    {
     "name": "stdout",
     "output_type": "stream",
     "text": [
      "(2586, 1)\n"
     ]
    }
   ],
   "source": [
    "x0 = np.matrix([[(i - (n + 1)/2)] for i in range(n)])\n",
    "x = x0\n",
    "print(x.shape)\n",
    "prevp = np.identity(n)"
   ]
  },
  {
   "cell_type": "code",
   "execution_count": 339,
   "metadata": {
    "collapsed": true
   },
   "outputs": [],
   "source": [
    "while True:\n",
    "    s = dist*x\n",
    "    sidx = np.argsort(s.flatten())\n",
    "    p = np.zeros( (n,n) )\n",
    "    for i in range(n):\n",
    "        p[n-i-1][sidx[0,i]] = 1\n",
    "    if np.array_equal(p*s, prevp*s):\n",
    "        break\n",
    "    x = p.transpose()*x0\n",
    "    prevp = p"
   ]
  },
  {
   "cell_type": "code",
   "execution_count": 297,
   "metadata": {
    "collapsed": true
   },
   "outputs": [],
   "source": [
    "np.savetxt('/home/fatemeh/projects/mantis2/mantis/sts_newOrder.out', np.nonzero(p)[1], delimiter='\\t', fmt='%d')"
   ]
  },
  {
   "cell_type": "code",
   "execution_count": 380,
   "metadata": {},
   "outputs": [
    {
     "data": {
      "text/plain": [
       "array([[      0.,    7292.,    6993., ...,   91128.,  111338.,  122381.],\n",
       "       [   7292.,       0.,    2217., ...,   91208.,  111616.,  122679.],\n",
       "       [   6993.,    2217.,       0., ...,   91521.,  111939.,  123018.],\n",
       "       ..., \n",
       "       [  91128.,   91208.,   91521., ...,       0.,   94342.,  104877.],\n",
       "       [ 111338.,  111616.,  111939., ...,   94342.,       0.,   34505.],\n",
       "       [ 122381.,  122679.,  123018., ...,  104877.,   34505.,       0.]])"
      ]
     },
     "execution_count": 380,
     "metadata": {},
     "output_type": "execute_result"
    }
   ],
   "source": [
    "dist_reordered = np.matmul(np.matmul(p,dist),p.transpose())\n",
    "dist_reordered"
   ]
  },
  {
   "cell_type": "code",
   "execution_count": 381,
   "metadata": {},
   "outputs": [
    {
     "data": {
      "image/png": "[encoded data removed]",
      "text/plain": [
       "<matplotlib.figure.Figure at 0x7fb1d0f35b38>"
      ]
     },
     "metadata": {},
     "output_type": "display_data"
    }
   ],
   "source": [
    "plt.imshow(dist, cmap='hot', interpolation='nearest')\n",
    "plt.show()"
   ]
  },
  {
   "cell_type": "code",
   "execution_count": 382,
   "metadata": {},
   "outputs": [
    {
     "data": {
      "image/png": "[encoded data removed]",
      "text/plain": [
       "<matplotlib.figure.Figure at 0x7fb1d0f802b0>"
      ]
     },
     "metadata": {},
     "output_type": "display_data"
    }
   ],
   "source": [
    "plt.imshow(dist_reordered, cmap='hot', interpolation='nearest')\n",
    "plt.show()"
   ]
  },
  {
   "cell_type": "markdown",
   "metadata": {},
   "source": [
    "# Neighborhood"
   ]
  },
  {
   "cell_type": "code",
   "execution_count": 11,
   "metadata": {
    "collapsed": true
   },
   "outputs": [],
   "source": [
    "sigma = 1\n",
    "w = np.matrix([[np.exp((-1*(i-j)**2)/(n*sigma)) for i in range(n)] for j in range(n)])"
   ]
  },
  {
   "cell_type": "code",
   "execution_count": 12,
   "metadata": {
    "scrolled": true
   },
   "outputs": [
    {
     "data": {
      "text/plain": [
       "matrix([[ 1.        ,  0.71653131,  0.26359714],\n",
       "        [ 0.71653131,  1.        ,  0.71653131],\n",
       "        [ 0.26359714,  0.71653131,  1.        ]])"
      ]
     },
     "execution_count": 12,
     "metadata": {},
     "output_type": "execute_result"
    }
   ],
   "source": [
    "w"
   ]
  },
  {
   "cell_type": "code",
   "execution_count": 13,
   "metadata": {
    "scrolled": true
   },
   "outputs": [
    {
     "data": {
      "text/plain": [
       "matrix([[ 1.        ,  0.71653131,  0.26359714],\n",
       "        [ 0.71653131,  1.        ,  0.71653131],\n",
       "        [ 0.26359714,  0.71653131,  1.        ]])"
      ]
     },
     "execution_count": 13,
     "metadata": {},
     "output_type": "execute_result"
    }
   ],
   "source": [
    "w.transpose()"
   ]
  },
  {
   "cell_type": "code",
   "execution_count": 15,
   "metadata": {
    "collapsed": true
   },
   "outputs": [],
   "source": [
    "m=dist*w"
   ]
  },
  {
   "cell_type": "code",
   "execution_count": 21,
   "metadata": {
    "collapsed": true
   },
   "outputs": [],
   "source": [
    "df = pd.read_csv('/home/fatemeh/projects/mantis2/mantis/edit.dist', sep='\\t')\n",
    "df.head()\n",
    "df.columns = ['i', 'j', 'd']"
   ]
  },
  {
   "cell_type": "code",
   "execution_count": 25,
   "metadata": {},
   "outputs": [
    {
     "name": "stdout",
     "output_type": "stream",
     "text": [
      "9127650.0\n",
      "120401000.0\n"
     ]
    }
   ],
   "source": [
    "print(df.d.min())\n",
    "print(df.d.max())"
   ]
  },
  {
   "cell_type": "code",
   "execution_count": 28,
   "metadata": {},
   "outputs": [
    {
     "data": {
      "text/plain": [
       "array([  9.12765000e+06,   1.04016000e+07,   1.13480000e+07,\n",
       "         1.14027000e+07,   1.33238000e+07,   1.37157000e+07,\n",
       "         1.38880000e+07,   1.45492000e+07,   1.50542000e+07,\n",
       "         1.53976000e+07,   1.70334000e+07,   2.00591000e+07,\n",
       "         2.33042000e+07,   2.45552000e+07,   2.46824000e+07,\n",
       "         2.58124000e+07,   2.69738000e+07,   2.72096000e+07,\n",
       "         2.79108000e+07,   2.80687000e+07,   2.82911000e+07,\n",
       "         2.85885000e+07,   2.88808000e+07,   2.89735000e+07,\n",
       "         2.91108000e+07,   2.92357000e+07,   2.95731000e+07,\n",
       "         2.96687000e+07,   3.02948000e+07,   3.03156000e+07,\n",
       "         3.03678000e+07,   3.05400000e+07,   3.06929000e+07,\n",
       "         3.07814000e+07,   3.07926000e+07,   3.10635000e+07,\n",
       "         3.12246000e+07,   3.15086000e+07,   3.15388000e+07,\n",
       "         3.16280000e+07,   3.21638000e+07,   3.22866000e+07,\n",
       "         3.25144000e+07,   3.25793000e+07,   3.26005000e+07,\n",
       "         3.26856000e+07,   3.27398000e+07,   3.29457000e+07,\n",
       "         3.31719000e+07,   3.33116000e+07,   3.33125000e+07,\n",
       "         3.34421000e+07,   3.34474000e+07,   3.36167000e+07,\n",
       "         3.36545000e+07,   3.37126000e+07,   3.38531000e+07,\n",
       "         3.38598000e+07,   3.39334000e+07,   3.39540000e+07,\n",
       "         3.39646000e+07,   3.39727000e+07,   3.41174000e+07,\n",
       "         3.42512000e+07,   3.44214000e+07,   3.44810000e+07,\n",
       "         3.45669000e+07,   3.45672000e+07,   3.46873000e+07,\n",
       "         3.47410000e+07,   3.47610000e+07,   3.47738000e+07,\n",
       "         3.48775000e+07,   3.49375000e+07,   3.50539000e+07,\n",
       "         3.52412000e+07,   3.52665000e+07,   3.53223000e+07,\n",
       "         3.54329000e+07,   3.54418000e+07,   3.54424000e+07,\n",
       "         3.55443000e+07,   3.55574000e+07,   3.57003000e+07,\n",
       "         3.57266000e+07,   3.57650000e+07,   3.59487000e+07,\n",
       "         3.60089000e+07,   3.60848000e+07,   3.62165000e+07,\n",
       "         3.62568000e+07,   3.62874000e+07,   3.64906000e+07,\n",
       "         3.65075000e+07,   3.65507000e+07,   3.65634000e+07,\n",
       "         3.67966000e+07,   3.67986000e+07,   3.68902000e+07,\n",
       "         3.70244000e+07,   3.70456000e+07,   3.70614000e+07,\n",
       "         3.72009000e+07,   3.73037000e+07,   3.73533000e+07,\n",
       "         3.74317000e+07,   3.74762000e+07,   3.74784000e+07,\n",
       "         3.75463000e+07,   3.75475000e+07,   3.76192000e+07,\n",
       "         3.76297000e+07,   3.76524000e+07,   3.77941000e+07,\n",
       "         3.78552000e+07,   3.78694000e+07,   3.79039000e+07,\n",
       "         3.79060000e+07,   3.79273000e+07,   3.79868000e+07,\n",
       "         3.81162000e+07,   3.81434000e+07,   3.81562000e+07,\n",
       "         3.81628000e+07,   3.82541000e+07,   3.82846000e+07,\n",
       "         3.84050000e+07,   3.84160000e+07,   3.84172000e+07,\n",
       "         3.84352000e+07,   3.85082000e+07,   3.85194000e+07,\n",
       "         3.85266000e+07,   3.85330000e+07,   3.86236000e+07,\n",
       "         3.86465000e+07,   3.87308000e+07,   3.87859000e+07,\n",
       "         3.88512000e+07,   3.88809000e+07,   3.89020000e+07,\n",
       "         3.89261000e+07,   3.89424000e+07,   3.90723000e+07,\n",
       "         3.90743000e+07,   3.90758000e+07,   3.92565000e+07,\n",
       "         3.92647000e+07,   3.94694000e+07,   3.94736000e+07,\n",
       "         3.95281000e+07,   3.97004000e+07,   3.97366000e+07,\n",
       "         3.97471000e+07,   3.98140000e+07,   3.98698000e+07,\n",
       "         3.99020000e+07,   3.99806000e+07,   4.00473000e+07,\n",
       "         4.00527000e+07,   4.00693000e+07,   4.00857000e+07,\n",
       "         4.01037000e+07,   4.01104000e+07,   4.01273000e+07,\n",
       "         4.01633000e+07,   4.02099000e+07,   4.03460000e+07,\n",
       "         4.03469000e+07,   4.03754000e+07,   4.03825000e+07,\n",
       "         4.04054000e+07,   4.04882000e+07,   4.05218000e+07,\n",
       "         4.05298000e+07,   4.05447000e+07,   4.05909000e+07,\n",
       "         4.06533000e+07,   4.06543000e+07,   4.06965000e+07,\n",
       "         4.07108000e+07,   4.07967000e+07,   4.08037000e+07,\n",
       "         4.08330000e+07,   4.09033000e+07,   4.09833000e+07,\n",
       "         4.09979000e+07,   4.10216000e+07,   4.11237000e+07,\n",
       "         4.11449000e+07,   4.12794000e+07,   4.13112000e+07,\n",
       "         4.14423000e+07,   4.14810000e+07,   4.16338000e+07,\n",
       "         4.17257000e+07,   4.18107000e+07,   4.18296000e+07,\n",
       "         4.18359000e+07,   4.18485000e+07,   4.18746000e+07,\n",
       "         4.19043000e+07,   4.19483000e+07,   4.22422000e+07,\n",
       "         4.22646000e+07,   4.24843000e+07,   4.25302000e+07,\n",
       "         4.26344000e+07,   4.26729000e+07,   4.27109000e+07,\n",
       "         4.27332000e+07,   4.27663000e+07,   4.27705000e+07,\n",
       "         4.28226000e+07,   4.29177000e+07,   4.29304000e+07,\n",
       "         4.29658000e+07,   4.30058000e+07,   4.30834000e+07,\n",
       "         4.31490000e+07,   4.31662000e+07,   4.31829000e+07,\n",
       "         4.31997000e+07,   4.32324000e+07,   4.34085000e+07,\n",
       "         4.34090000e+07,   4.34270000e+07,   4.34525000e+07,\n",
       "         4.35124000e+07,   4.35242000e+07,   4.35422000e+07,\n",
       "         4.35520000e+07,   4.35779000e+07,   4.36144000e+07,\n",
       "         4.36562000e+07,   4.36605000e+07,   4.36859000e+07,\n",
       "         4.37028000e+07,   4.37110000e+07,   4.37245000e+07,\n",
       "         4.37264000e+07,   4.38930000e+07,   4.39182000e+07,\n",
       "         4.40888000e+07,   4.41053000e+07,   4.41415000e+07,\n",
       "         4.41446000e+07,   4.41698000e+07,   4.42127000e+07,\n",
       "         4.42677000e+07,   4.43293000e+07,   4.43295000e+07,\n",
       "         4.44048000e+07,   4.44128000e+07,   4.44156000e+07,\n",
       "         4.44737000e+07,   4.44848000e+07,   4.45084000e+07,\n",
       "         4.46343000e+07,   4.46626000e+07,   4.46630000e+07,\n",
       "         4.46944000e+07,   4.47422000e+07,   4.47788000e+07,\n",
       "         4.48041000e+07,   4.48166000e+07,   4.48380000e+07,\n",
       "         4.50707000e+07,   4.50846000e+07,   4.51069000e+07,\n",
       "         4.51105000e+07,   4.51554000e+07,   4.51567000e+07,\n",
       "         4.51782000e+07,   4.52476000e+07,   4.53127000e+07,\n",
       "         4.54209000e+07,   4.54375000e+07,   4.55165000e+07,\n",
       "         4.55680000e+07,   4.56723000e+07,   4.57544000e+07,\n",
       "         4.58274000e+07,   4.58351000e+07,   4.60328000e+07,\n",
       "         4.62378000e+07,   4.62450000e+07,   4.63042000e+07,\n",
       "         4.63102000e+07,   4.63313000e+07,   4.63792000e+07,\n",
       "         4.64038000e+07,   4.64364000e+07,   4.64562000e+07,\n",
       "         4.65351000e+07,   4.65633000e+07,   4.65838000e+07,\n",
       "         4.67060000e+07,   4.67183000e+07,   4.67314000e+07,\n",
       "         4.67421000e+07,   4.67459000e+07,   4.67846000e+07,\n",
       "         4.68556000e+07,   4.69355000e+07,   4.70241000e+07,\n",
       "         4.70670000e+07,   4.70678000e+07,   4.71503000e+07,\n",
       "         4.71587000e+07,   4.72235000e+07,   4.72965000e+07,\n",
       "         4.73222000e+07,   4.73505000e+07,   4.73730000e+07,\n",
       "         4.73944000e+07,   4.74137000e+07,   4.74252000e+07,\n",
       "         4.75094000e+07,   4.76339000e+07,   4.78126000e+07,\n",
       "         4.78890000e+07,   4.79024000e+07,   4.79122000e+07,\n",
       "         4.79392000e+07,   4.79680000e+07,   4.80208000e+07,\n",
       "         4.80970000e+07,   4.81689000e+07,   4.82027000e+07,\n",
       "         4.82516000e+07,   4.82705000e+07,   4.82811000e+07,\n",
       "         4.84494000e+07,   4.84537000e+07,   4.85106000e+07,\n",
       "         4.85241000e+07,   4.85557000e+07,   4.86581000e+07,\n",
       "         4.86711000e+07,   4.86726000e+07,   4.86923000e+07,\n",
       "         4.86990000e+07,   4.87600000e+07,   4.89744000e+07,\n",
       "         4.91498000e+07,   4.91580000e+07,   4.92305000e+07,\n",
       "         4.92440000e+07,   4.92529000e+07,   4.92954000e+07,\n",
       "         4.93242000e+07,   4.94548000e+07,   4.95485000e+07,\n",
       "         4.95507000e+07,   4.95548000e+07,   4.97832000e+07,\n",
       "         4.97895000e+07,   4.98845000e+07,   4.98873000e+07,\n",
       "         4.99179000e+07,   4.99292000e+07,   5.00335000e+07,\n",
       "         5.00429000e+07,   5.00766000e+07,   5.01574000e+07,\n",
       "         5.01872000e+07,   5.02990000e+07,   5.03520000e+07,\n",
       "         5.03645000e+07,   5.03733000e+07,   5.04721000e+07,\n",
       "         5.05171000e+07,   5.05735000e+07,   5.07047000e+07,\n",
       "         5.07156000e+07,   5.07275000e+07,   5.07604000e+07,\n",
       "         5.07622000e+07,   5.09616000e+07,   5.11208000e+07,\n",
       "         5.12007000e+07,   5.12035000e+07,   5.12135000e+07,\n",
       "         5.12140000e+07,   5.12164000e+07,   5.13270000e+07,\n",
       "         5.13639000e+07,   5.14001000e+07,   5.14034000e+07,\n",
       "         5.14301000e+07,   5.14705000e+07,   5.15185000e+07,\n",
       "         5.15846000e+07,   5.16493000e+07,   5.16805000e+07,\n",
       "         5.17670000e+07,   5.18343000e+07,   5.18360000e+07,\n",
       "         5.18557000e+07,   5.18807000e+07,   5.19154000e+07,\n",
       "         5.19332000e+07,   5.19687000e+07,   5.20142000e+07,\n",
       "         5.20195000e+07,   5.21087000e+07,   5.21146000e+07,\n",
       "         5.21246000e+07,   5.21259000e+07,   5.21357000e+07,\n",
       "         5.21493000e+07,   5.21547000e+07,   5.21840000e+07,\n",
       "         5.22478000e+07,   5.23145000e+07,   5.24243000e+07,\n",
       "         5.24935000e+07,   5.25206000e+07,   5.26006000e+07,\n",
       "         5.26152000e+07,   5.26399000e+07,   5.27023000e+07,\n",
       "         5.27084000e+07,   5.27370000e+07,   5.28532000e+07,\n",
       "         5.30297000e+07,   5.30644000e+07,   5.30948000e+07,\n",
       "         5.31075000e+07,   5.31091000e+07,   5.31621000e+07,\n",
       "         5.31706000e+07,   5.33753000e+07,   5.33862000e+07,\n",
       "         5.34204000e+07,   5.34441000e+07,   5.34732000e+07,\n",
       "         5.35265000e+07,   5.35584000e+07,   5.35750000e+07,\n",
       "         5.36190000e+07,   5.36562000e+07,   5.36778000e+07,\n",
       "         5.37103000e+07,   5.37245000e+07,   5.37290000e+07,\n",
       "         5.38286000e+07,   5.38516000e+07,   5.38570000e+07,\n",
       "         5.38627000e+07,   5.38697000e+07,   5.38779000e+07,\n",
       "         5.39265000e+07,   5.39974000e+07,   5.41117000e+07,\n",
       "         5.41692000e+07,   5.42011000e+07,   5.42596000e+07,\n",
       "         5.42976000e+07,   5.43114000e+07,   5.43955000e+07,\n",
       "         5.44377000e+07,   5.44773000e+07,   5.44851000e+07,\n",
       "         5.45745000e+07,   5.49070000e+07,   5.49605000e+07,\n",
       "         5.49960000e+07,   5.50853000e+07,   5.52007000e+07,\n",
       "         5.52236000e+07,   5.52376000e+07,   5.52513000e+07,\n",
       "         5.52546000e+07,   5.52705000e+07,   5.54059000e+07,\n",
       "         5.54085000e+07,   5.55246000e+07,   5.55359000e+07,\n",
       "         5.55527000e+07,   5.55865000e+07,   5.57163000e+07,\n",
       "         5.57300000e+07,   5.59123000e+07,   5.59160000e+07,\n",
       "         5.59613000e+07,   5.59792000e+07,   5.59986000e+07,\n",
       "         5.60319000e+07,   5.60402000e+07,   5.61455000e+07,\n",
       "         5.62489000e+07,   5.63092000e+07,   5.63465000e+07,\n",
       "         5.64824000e+07,   5.65436000e+07,   5.66105000e+07,\n",
       "         5.66387000e+07,   5.67461000e+07,   5.68182000e+07,\n",
       "         5.68311000e+07,   5.68731000e+07,   5.68956000e+07,\n",
       "         5.70070000e+07,   5.70358000e+07,   5.70828000e+07,\n",
       "         5.71279000e+07,   5.71369000e+07,   5.71400000e+07,\n",
       "         5.72931000e+07,   5.73583000e+07,   5.73691000e+07,\n",
       "         5.74015000e+07,   5.74058000e+07,   5.74275000e+07,\n",
       "         5.74559000e+07,   5.74890000e+07,   5.75061000e+07,\n",
       "         5.77122000e+07,   5.78845000e+07,   5.79147000e+07,\n",
       "         5.79632000e+07,   5.80093000e+07,   5.80131000e+07,\n",
       "         5.80426000e+07,   5.81636000e+07,   5.81784000e+07,\n",
       "         5.82616000e+07,   5.84034000e+07,   5.84075000e+07,\n",
       "         5.84633000e+07,   5.85016000e+07,   5.85206000e+07,\n",
       "         5.86825000e+07,   5.87731000e+07,   5.88100000e+07,\n",
       "         5.89338000e+07,   5.89565000e+07,   5.89771000e+07,\n",
       "         5.89783000e+07,   5.90323000e+07,   5.92298000e+07,\n",
       "         5.92520000e+07,   5.93096000e+07,   5.94473000e+07,\n",
       "         5.95118000e+07,   5.95183000e+07,   5.95324000e+07,\n",
       "         5.95801000e+07,   5.96430000e+07,   5.96752000e+07,\n",
       "         5.98563000e+07,   5.98808000e+07,   5.99641000e+07,\n",
       "         5.99644000e+07,   5.99654000e+07,   6.00062000e+07,\n",
       "         6.01241000e+07,   6.01922000e+07,   6.03917000e+07,\n",
       "         6.04534000e+07,   6.07833000e+07,   6.07999000e+07,\n",
       "         6.08490000e+07,   6.09024000e+07,   6.09632000e+07,\n",
       "         6.09746000e+07,   6.14235000e+07,   6.14534000e+07,\n",
       "         6.16840000e+07,   6.16896000e+07,   6.17172000e+07,\n",
       "         6.17441000e+07,   6.18135000e+07,   6.18253000e+07,\n",
       "         6.18268000e+07,   6.18453000e+07,   6.19681000e+07,\n",
       "         6.21904000e+07,   6.22688000e+07,   6.23351000e+07,\n",
       "         6.23988000e+07,   6.24132000e+07,   6.25531000e+07,\n",
       "         6.26594000e+07,   6.29866000e+07,   6.30371000e+07,\n",
       "         6.30802000e+07,   6.31076000e+07,   6.33011000e+07,\n",
       "         6.35282000e+07,   6.35335000e+07,   6.35363000e+07,\n",
       "         6.35514000e+07,   6.36621000e+07,   6.36763000e+07,\n",
       "         6.37470000e+07,   6.38239000e+07,   6.38616000e+07,\n",
       "         6.40401000e+07,   6.41067000e+07,   6.42498000e+07,\n",
       "         6.42510000e+07,   6.44233000e+07,   6.44716000e+07,\n",
       "         6.45787000e+07,   6.46864000e+07,   6.48954000e+07,\n",
       "         6.49270000e+07,   6.52291000e+07,   6.52674000e+07,\n",
       "         6.53368000e+07,   6.60796000e+07,   6.60974000e+07,\n",
       "         6.61000000e+07,   6.61914000e+07,   6.62296000e+07,\n",
       "         6.66276000e+07,   6.67762000e+07,   6.69403000e+07,\n",
       "         6.69573000e+07,   6.71594000e+07,   6.72388000e+07,\n",
       "         6.76196000e+07,   6.76626000e+07,   6.76883000e+07,\n",
       "         6.80929000e+07,   6.84297000e+07,   6.87885000e+07,\n",
       "         6.89483000e+07,   6.90138000e+07,   6.90913000e+07,\n",
       "         6.91330000e+07,   6.93385000e+07,   6.96344000e+07,\n",
       "         6.96965000e+07,   6.97119000e+07,   6.98893000e+07,\n",
       "         6.99324000e+07,   6.99351000e+07,   6.99638000e+07,\n",
       "         7.03665000e+07,   7.07685000e+07,   7.09369000e+07,\n",
       "         7.10332000e+07,   7.12902000e+07,   7.15834000e+07,\n",
       "         7.16209000e+07,   7.16538000e+07,   7.18426000e+07,\n",
       "         7.18445000e+07,   7.18879000e+07,   7.20623000e+07,\n",
       "         7.22094000e+07,   7.22686000e+07,   7.25062000e+07,\n",
       "         7.25626000e+07,   7.32840000e+07,   7.37218000e+07,\n",
       "         7.37330000e+07,   7.37645000e+07,   7.37724000e+07,\n",
       "         7.42449000e+07,   7.45190000e+07,   7.49685000e+07,\n",
       "         7.50423000e+07,   7.51096000e+07,   7.52713000e+07,\n",
       "         7.53948000e+07,   7.56902000e+07,   7.57786000e+07,\n",
       "         7.58280000e+07,   7.58473000e+07,   7.61318000e+07,\n",
       "         7.63984000e+07,   7.64400000e+07,   7.64821000e+07,\n",
       "         7.66446000e+07,   7.67575000e+07,   7.68961000e+07,\n",
       "         7.70036000e+07,   7.70176000e+07,   7.70803000e+07,\n",
       "         7.73323000e+07,   7.74558000e+07,   7.75689000e+07,\n",
       "         7.76252000e+07,   7.76405000e+07,   7.78371000e+07,\n",
       "         7.80031000e+07,   7.81954000e+07,   7.83908000e+07,\n",
       "         7.85347000e+07,   7.90132000e+07,   7.92855000e+07,\n",
       "         7.97767000e+07,   7.98283000e+07,   7.99127000e+07,\n",
       "         7.99670000e+07,   8.00571000e+07,   8.05527000e+07,\n",
       "         8.05814000e+07,   8.07065000e+07,   8.07537000e+07,\n",
       "         8.09538000e+07,   8.10408000e+07,   8.10758000e+07,\n",
       "         8.10905000e+07,   8.11117000e+07,   8.11290000e+07,\n",
       "         8.11405000e+07,   8.13729000e+07,   8.14173000e+07,\n",
       "         8.15703000e+07,   8.16029000e+07,   8.16390000e+07,\n",
       "         8.17686000e+07,   8.18500000e+07,   8.18701000e+07,\n",
       "         8.18906000e+07,   8.19648000e+07,   8.20045000e+07,\n",
       "         8.24669000e+07,   8.25547000e+07,   8.30283000e+07,\n",
       "         8.32984000e+07,   8.33678000e+07,   8.33743000e+07,\n",
       "         8.33770000e+07,   8.34107000e+07,   8.36157000e+07,\n",
       "         8.39922000e+07,   8.40832000e+07,   8.41389000e+07,\n",
       "         8.41823000e+07,   8.42495000e+07,   8.42537000e+07,\n",
       "         8.43003000e+07,   8.43536000e+07,   8.44961000e+07,\n",
       "         8.45442000e+07,   8.46103000e+07,   8.46286000e+07,\n",
       "         8.46367000e+07,   8.47169000e+07,   8.47948000e+07,\n",
       "         8.48521000e+07,   8.48995000e+07,   8.49946000e+07,\n",
       "         8.49998000e+07,   8.50207000e+07,   8.50818000e+07,\n",
       "         8.51293000e+07,   8.52432000e+07,   8.53369000e+07,\n",
       "         8.53370000e+07,   8.54414000e+07,   8.54479000e+07,\n",
       "         8.55152000e+07,   8.56922000e+07,   8.57511000e+07,\n",
       "         8.57522000e+07,   8.57733000e+07,   8.57750000e+07,\n",
       "         8.59606000e+07,   8.60766000e+07,   8.62171000e+07,\n",
       "         8.63368000e+07,   8.64775000e+07,   8.64968000e+07,\n",
       "         8.69282000e+07,   8.70066000e+07,   8.71608000e+07,\n",
       "         8.72092000e+07,   8.72822000e+07,   8.75794000e+07,\n",
       "         8.75937000e+07,   8.77819000e+07,   8.79794000e+07,\n",
       "         8.80084000e+07,   8.80486000e+07,   8.81100000e+07,\n",
       "         8.81598000e+07,   8.82493000e+07,   8.82798000e+07,\n",
       "         8.84286000e+07,   8.84297000e+07,   8.85139000e+07,\n",
       "         8.85618000e+07,   8.87854000e+07,   8.89228000e+07,\n",
       "         8.90536000e+07,   8.91110000e+07,   8.91597000e+07,\n",
       "         8.92077000e+07,   8.92774000e+07,   8.92969000e+07,\n",
       "         8.94005000e+07,   8.94405000e+07,   8.95263000e+07,\n",
       "         8.96660000e+07,   8.99765000e+07,   9.00500000e+07,\n",
       "         9.02640000e+07,   9.04787000e+07,   9.06802000e+07,\n",
       "         9.08743000e+07,   9.09315000e+07,   9.11449000e+07,\n",
       "         9.12696000e+07,   9.13630000e+07,   9.18274000e+07,\n",
       "         9.18863000e+07,   9.28216000e+07,   9.33303000e+07,\n",
       "         9.35715000e+07,   9.40745000e+07,   9.41934000e+07,\n",
       "         9.46646000e+07,   9.47184000e+07,   9.49427000e+07,\n",
       "         9.51626000e+07,   9.56173000e+07,   9.61075000e+07,\n",
       "         9.63612000e+07,   9.68528000e+07,   9.74372000e+07,\n",
       "         9.78857000e+07,   9.80948000e+07,   9.84468000e+07,\n",
       "         9.85997000e+07,   9.86797000e+07,   9.89786000e+07,\n",
       "         9.92495000e+07,   9.93421000e+07,   9.94531000e+07,\n",
       "         9.96824000e+07,   1.00546000e+08,   1.00600000e+08,\n",
       "         1.03941000e+08,   1.04171000e+08,   1.04729000e+08,\n",
       "         1.09587000e+08,   1.10043000e+08,   1.10055000e+08,\n",
       "         1.10266000e+08,   1.11014000e+08,   1.11015000e+08,\n",
       "         1.11406000e+08,   1.11566000e+08,   1.11570000e+08,\n",
       "         1.12354000e+08,   1.12703000e+08,   1.12854000e+08,\n",
       "         1.14283000e+08,   1.14695000e+08,   1.15939000e+08,\n",
       "         1.19271000e+08,   1.19781000e+08,   1.20401000e+08])"
      ]
     },
     "execution_count": 28,
     "metadata": {},
     "output_type": "execute_result"
    }
   ],
   "source": [
    "df.sort_values(['d']).d.unique()"
   ]
  }
 ],
 "metadata": {
  "kernelspec": {
   "display_name": "Python 3",
   "language": "python",
   "name": "python3"
  },
  "language_info": {
   "codemirror_mode": {
    "name": "ipython",
    "version": 3
   },
   "file_extension": ".py",
   "mimetype": "text/x-python",
   "name": "python",
   "nbconvert_exporter": "python",
   "pygments_lexer": "ipython3",
   "version": "3.6.4"
  }
 },
 "nbformat": 4,
 "nbformat_minor": 2
}
